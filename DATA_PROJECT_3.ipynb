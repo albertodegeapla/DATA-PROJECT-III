{
  "nbformat": 4,
  "nbformat_minor": 0,
  "metadata": {
    "colab": {
      "provenance": []
    },
    "kernelspec": {
      "name": "python3",
      "display_name": "Python 3"
    },
    "language_info": {
      "name": "python"
    }
  },
  "cells": [
    {
      "cell_type": "code",
      "execution_count": 308,
      "metadata": {
        "id": "zjAQlEwHFRys"
      },
      "outputs": [],
      "source": [
        "# imports\n",
        "from sklearn.datasets import load_iris\n",
        "import numpy as np\n",
        "import pandas as pd"
      ]
    },
    {
      "cell_type": "code",
      "source": [
        "ruta = \"/content/train.csv\"\n",
        "df = pd.read_csv(ruta)"
      ],
      "metadata": {
        "id": "8JfzcZH6FmBp"
      },
      "execution_count": 401,
      "outputs": []
    },
    {
      "cell_type": "code",
      "source": [
        "print(df.shape)\n",
        "df.head()"
      ],
      "metadata": {
        "colab": {
          "base_uri": "https://localhost:8080/",
          "height": 223
        },
        "id": "veqv6yxwGNhS",
        "outputId": "2859a59d-79a4-4fa0-914f-a7f606942914"
      },
      "execution_count": 310,
      "outputs": [
        {
          "output_type": "stream",
          "name": "stdout",
          "text": [
            "(732, 14)\n"
          ]
        },
        {
          "output_type": "execute_result",
          "data": {
            "text/plain": [
              "    age  sex   cp trestbps   chol  fbs  restecg thalach exang oldpeak slope  \\\n",
              "0  51.0  1.0  1.0    125.0  213.0  0.0      2.0   125.0   1.0     1.4   1.0   \n",
              "1  54.0  1.0  3.0    120.0  237.0  0.0      0.0   150.0   1.0     1.5  -9.0   \n",
              "2  63.0  1.0  4.0      140      0    ?      2.0     149     0       2     1   \n",
              "3  52.0  0.0  2.0    140.0   -9.0  0.0      0.0   140.0   0.0     0.0  -9.0   \n",
              "4  55.0  1.0  4.0    140.0  217.0  0.0      0.0   111.0   1.0     5.6   3.0   \n",
              "\n",
              "     ca  thal  label  \n",
              "0   1.0   3.0      0  \n",
              "1  -9.0   7.0      2  \n",
              "2     ?     ?      2  \n",
              "3  -9.0  -9.0      0  \n",
              "4   0.0   7.0      3  "
            ],
            "text/html": [
              "\n",
              "  <div id=\"df-dad980e9-cb9b-447f-9b0c-4fb759f7f11d\" class=\"colab-df-container\">\n",
              "    <div>\n",
              "<style scoped>\n",
              "    .dataframe tbody tr th:only-of-type {\n",
              "        vertical-align: middle;\n",
              "    }\n",
              "\n",
              "    .dataframe tbody tr th {\n",
              "        vertical-align: top;\n",
              "    }\n",
              "\n",
              "    .dataframe thead th {\n",
              "        text-align: right;\n",
              "    }\n",
              "</style>\n",
              "<table border=\"1\" class=\"dataframe\">\n",
              "  <thead>\n",
              "    <tr style=\"text-align: right;\">\n",
              "      <th></th>\n",
              "      <th>age</th>\n",
              "      <th>sex</th>\n",
              "      <th>cp</th>\n",
              "      <th>trestbps</th>\n",
              "      <th>chol</th>\n",
              "      <th>fbs</th>\n",
              "      <th>restecg</th>\n",
              "      <th>thalach</th>\n",
              "      <th>exang</th>\n",
              "      <th>oldpeak</th>\n",
              "      <th>slope</th>\n",
              "      <th>ca</th>\n",
              "      <th>thal</th>\n",
              "      <th>label</th>\n",
              "    </tr>\n",
              "  </thead>\n",
              "  <tbody>\n",
              "    <tr>\n",
              "      <th>0</th>\n",
              "      <td>51.0</td>\n",
              "      <td>1.0</td>\n",
              "      <td>1.0</td>\n",
              "      <td>125.0</td>\n",
              "      <td>213.0</td>\n",
              "      <td>0.0</td>\n",
              "      <td>2.0</td>\n",
              "      <td>125.0</td>\n",
              "      <td>1.0</td>\n",
              "      <td>1.4</td>\n",
              "      <td>1.0</td>\n",
              "      <td>1.0</td>\n",
              "      <td>3.0</td>\n",
              "      <td>0</td>\n",
              "    </tr>\n",
              "    <tr>\n",
              "      <th>1</th>\n",
              "      <td>54.0</td>\n",
              "      <td>1.0</td>\n",
              "      <td>3.0</td>\n",
              "      <td>120.0</td>\n",
              "      <td>237.0</td>\n",
              "      <td>0.0</td>\n",
              "      <td>0.0</td>\n",
              "      <td>150.0</td>\n",
              "      <td>1.0</td>\n",
              "      <td>1.5</td>\n",
              "      <td>-9.0</td>\n",
              "      <td>-9.0</td>\n",
              "      <td>7.0</td>\n",
              "      <td>2</td>\n",
              "    </tr>\n",
              "    <tr>\n",
              "      <th>2</th>\n",
              "      <td>63.0</td>\n",
              "      <td>1.0</td>\n",
              "      <td>4.0</td>\n",
              "      <td>140</td>\n",
              "      <td>0</td>\n",
              "      <td>?</td>\n",
              "      <td>2.0</td>\n",
              "      <td>149</td>\n",
              "      <td>0</td>\n",
              "      <td>2</td>\n",
              "      <td>1</td>\n",
              "      <td>?</td>\n",
              "      <td>?</td>\n",
              "      <td>2</td>\n",
              "    </tr>\n",
              "    <tr>\n",
              "      <th>3</th>\n",
              "      <td>52.0</td>\n",
              "      <td>0.0</td>\n",
              "      <td>2.0</td>\n",
              "      <td>140.0</td>\n",
              "      <td>-9.0</td>\n",
              "      <td>0.0</td>\n",
              "      <td>0.0</td>\n",
              "      <td>140.0</td>\n",
              "      <td>0.0</td>\n",
              "      <td>0.0</td>\n",
              "      <td>-9.0</td>\n",
              "      <td>-9.0</td>\n",
              "      <td>-9.0</td>\n",
              "      <td>0</td>\n",
              "    </tr>\n",
              "    <tr>\n",
              "      <th>4</th>\n",
              "      <td>55.0</td>\n",
              "      <td>1.0</td>\n",
              "      <td>4.0</td>\n",
              "      <td>140.0</td>\n",
              "      <td>217.0</td>\n",
              "      <td>0.0</td>\n",
              "      <td>0.0</td>\n",
              "      <td>111.0</td>\n",
              "      <td>1.0</td>\n",
              "      <td>5.6</td>\n",
              "      <td>3.0</td>\n",
              "      <td>0.0</td>\n",
              "      <td>7.0</td>\n",
              "      <td>3</td>\n",
              "    </tr>\n",
              "  </tbody>\n",
              "</table>\n",
              "</div>\n",
              "    <div class=\"colab-df-buttons\">\n",
              "\n",
              "  <div class=\"colab-df-container\">\n",
              "    <button class=\"colab-df-convert\" onclick=\"convertToInteractive('df-dad980e9-cb9b-447f-9b0c-4fb759f7f11d')\"\n",
              "            title=\"Convert this dataframe to an interactive table.\"\n",
              "            style=\"display:none;\">\n",
              "\n",
              "  <svg xmlns=\"http://www.w3.org/2000/svg\" height=\"24px\" viewBox=\"0 -960 960 960\">\n",
              "    <path d=\"M120-120v-720h720v720H120Zm60-500h600v-160H180v160Zm220 220h160v-160H400v160Zm0 220h160v-160H400v160ZM180-400h160v-160H180v160Zm440 0h160v-160H620v160ZM180-180h160v-160H180v160Zm440 0h160v-160H620v160Z\"/>\n",
              "  </svg>\n",
              "    </button>\n",
              "\n",
              "  <style>\n",
              "    .colab-df-container {\n",
              "      display:flex;\n",
              "      gap: 12px;\n",
              "    }\n",
              "\n",
              "    .colab-df-convert {\n",
              "      background-color: #E8F0FE;\n",
              "      border: none;\n",
              "      border-radius: 50%;\n",
              "      cursor: pointer;\n",
              "      display: none;\n",
              "      fill: #1967D2;\n",
              "      height: 32px;\n",
              "      padding: 0 0 0 0;\n",
              "      width: 32px;\n",
              "    }\n",
              "\n",
              "    .colab-df-convert:hover {\n",
              "      background-color: #E2EBFA;\n",
              "      box-shadow: 0px 1px 2px rgba(60, 64, 67, 0.3), 0px 1px 3px 1px rgba(60, 64, 67, 0.15);\n",
              "      fill: #174EA6;\n",
              "    }\n",
              "\n",
              "    .colab-df-buttons div {\n",
              "      margin-bottom: 4px;\n",
              "    }\n",
              "\n",
              "    [theme=dark] .colab-df-convert {\n",
              "      background-color: #3B4455;\n",
              "      fill: #D2E3FC;\n",
              "    }\n",
              "\n",
              "    [theme=dark] .colab-df-convert:hover {\n",
              "      background-color: #434B5C;\n",
              "      box-shadow: 0px 1px 3px 1px rgba(0, 0, 0, 0.15);\n",
              "      filter: drop-shadow(0px 1px 2px rgba(0, 0, 0, 0.3));\n",
              "      fill: #FFFFFF;\n",
              "    }\n",
              "  </style>\n",
              "\n",
              "    <script>\n",
              "      const buttonEl =\n",
              "        document.querySelector('#df-dad980e9-cb9b-447f-9b0c-4fb759f7f11d button.colab-df-convert');\n",
              "      buttonEl.style.display =\n",
              "        google.colab.kernel.accessAllowed ? 'block' : 'none';\n",
              "\n",
              "      async function convertToInteractive(key) {\n",
              "        const element = document.querySelector('#df-dad980e9-cb9b-447f-9b0c-4fb759f7f11d');\n",
              "        const dataTable =\n",
              "          await google.colab.kernel.invokeFunction('convertToInteractive',\n",
              "                                                    [key], {});\n",
              "        if (!dataTable) return;\n",
              "\n",
              "        const docLinkHtml = 'Like what you see? Visit the ' +\n",
              "          '<a target=\"_blank\" href=https://colab.research.google.com/notebooks/data_table.ipynb>data table notebook</a>'\n",
              "          + ' to learn more about interactive tables.';\n",
              "        element.innerHTML = '';\n",
              "        dataTable['output_type'] = 'display_data';\n",
              "        await google.colab.output.renderOutput(dataTable, element);\n",
              "        const docLink = document.createElement('div');\n",
              "        docLink.innerHTML = docLinkHtml;\n",
              "        element.appendChild(docLink);\n",
              "      }\n",
              "    </script>\n",
              "  </div>\n",
              "\n",
              "\n",
              "<div id=\"df-7e709fab-dce9-4a04-a6ee-d88ea4ea3a0c\">\n",
              "  <button class=\"colab-df-quickchart\" onclick=\"quickchart('df-7e709fab-dce9-4a04-a6ee-d88ea4ea3a0c')\"\n",
              "            title=\"Suggest charts\"\n",
              "            style=\"display:none;\">\n",
              "\n",
              "<svg xmlns=\"http://www.w3.org/2000/svg\" height=\"24px\"viewBox=\"0 0 24 24\"\n",
              "     width=\"24px\">\n",
              "    <g>\n",
              "        <path d=\"M19 3H5c-1.1 0-2 .9-2 2v14c0 1.1.9 2 2 2h14c1.1 0 2-.9 2-2V5c0-1.1-.9-2-2-2zM9 17H7v-7h2v7zm4 0h-2V7h2v10zm4 0h-2v-4h2v4z\"/>\n",
              "    </g>\n",
              "</svg>\n",
              "  </button>\n",
              "\n",
              "<style>\n",
              "  .colab-df-quickchart {\n",
              "      --bg-color: #E8F0FE;\n",
              "      --fill-color: #1967D2;\n",
              "      --hover-bg-color: #E2EBFA;\n",
              "      --hover-fill-color: #174EA6;\n",
              "      --disabled-fill-color: #AAA;\n",
              "      --disabled-bg-color: #DDD;\n",
              "  }\n",
              "\n",
              "  [theme=dark] .colab-df-quickchart {\n",
              "      --bg-color: #3B4455;\n",
              "      --fill-color: #D2E3FC;\n",
              "      --hover-bg-color: #434B5C;\n",
              "      --hover-fill-color: #FFFFFF;\n",
              "      --disabled-bg-color: #3B4455;\n",
              "      --disabled-fill-color: #666;\n",
              "  }\n",
              "\n",
              "  .colab-df-quickchart {\n",
              "    background-color: var(--bg-color);\n",
              "    border: none;\n",
              "    border-radius: 50%;\n",
              "    cursor: pointer;\n",
              "    display: none;\n",
              "    fill: var(--fill-color);\n",
              "    height: 32px;\n",
              "    padding: 0;\n",
              "    width: 32px;\n",
              "  }\n",
              "\n",
              "  .colab-df-quickchart:hover {\n",
              "    background-color: var(--hover-bg-color);\n",
              "    box-shadow: 0 1px 2px rgba(60, 64, 67, 0.3), 0 1px 3px 1px rgba(60, 64, 67, 0.15);\n",
              "    fill: var(--button-hover-fill-color);\n",
              "  }\n",
              "\n",
              "  .colab-df-quickchart-complete:disabled,\n",
              "  .colab-df-quickchart-complete:disabled:hover {\n",
              "    background-color: var(--disabled-bg-color);\n",
              "    fill: var(--disabled-fill-color);\n",
              "    box-shadow: none;\n",
              "  }\n",
              "\n",
              "  .colab-df-spinner {\n",
              "    border: 2px solid var(--fill-color);\n",
              "    border-color: transparent;\n",
              "    border-bottom-color: var(--fill-color);\n",
              "    animation:\n",
              "      spin 1s steps(1) infinite;\n",
              "  }\n",
              "\n",
              "  @keyframes spin {\n",
              "    0% {\n",
              "      border-color: transparent;\n",
              "      border-bottom-color: var(--fill-color);\n",
              "      border-left-color: var(--fill-color);\n",
              "    }\n",
              "    20% {\n",
              "      border-color: transparent;\n",
              "      border-left-color: var(--fill-color);\n",
              "      border-top-color: var(--fill-color);\n",
              "    }\n",
              "    30% {\n",
              "      border-color: transparent;\n",
              "      border-left-color: var(--fill-color);\n",
              "      border-top-color: var(--fill-color);\n",
              "      border-right-color: var(--fill-color);\n",
              "    }\n",
              "    40% {\n",
              "      border-color: transparent;\n",
              "      border-right-color: var(--fill-color);\n",
              "      border-top-color: var(--fill-color);\n",
              "    }\n",
              "    60% {\n",
              "      border-color: transparent;\n",
              "      border-right-color: var(--fill-color);\n",
              "    }\n",
              "    80% {\n",
              "      border-color: transparent;\n",
              "      border-right-color: var(--fill-color);\n",
              "      border-bottom-color: var(--fill-color);\n",
              "    }\n",
              "    90% {\n",
              "      border-color: transparent;\n",
              "      border-bottom-color: var(--fill-color);\n",
              "    }\n",
              "  }\n",
              "</style>\n",
              "\n",
              "  <script>\n",
              "    async function quickchart(key) {\n",
              "      const quickchartButtonEl =\n",
              "        document.querySelector('#' + key + ' button');\n",
              "      quickchartButtonEl.disabled = true;  // To prevent multiple clicks.\n",
              "      quickchartButtonEl.classList.add('colab-df-spinner');\n",
              "      try {\n",
              "        const charts = await google.colab.kernel.invokeFunction(\n",
              "            'suggestCharts', [key], {});\n",
              "      } catch (error) {\n",
              "        console.error('Error during call to suggestCharts:', error);\n",
              "      }\n",
              "      quickchartButtonEl.classList.remove('colab-df-spinner');\n",
              "      quickchartButtonEl.classList.add('colab-df-quickchart-complete');\n",
              "    }\n",
              "    (() => {\n",
              "      let quickchartButtonEl =\n",
              "        document.querySelector('#df-7e709fab-dce9-4a04-a6ee-d88ea4ea3a0c button');\n",
              "      quickchartButtonEl.style.display =\n",
              "        google.colab.kernel.accessAllowed ? 'block' : 'none';\n",
              "    })();\n",
              "  </script>\n",
              "</div>\n",
              "    </div>\n",
              "  </div>\n"
            ],
            "application/vnd.google.colaboratory.intrinsic+json": {
              "type": "dataframe",
              "variable_name": "df",
              "summary": "{\n  \"name\": \"df\",\n  \"rows\": 732,\n  \"fields\": [\n    {\n      \"column\": \"age\",\n      \"properties\": {\n        \"dtype\": \"number\",\n        \"std\": 9.306868347336913,\n        \"min\": 28.0,\n        \"max\": 76.0,\n        \"num_unique_values\": 49,\n        \"samples\": [\n          61.0,\n          72.0,\n          75.0\n        ],\n        \"semantic_type\": \"\",\n        \"description\": \"\"\n      }\n    },\n    {\n      \"column\": \"sex\",\n      \"properties\": {\n        \"dtype\": \"number\",\n        \"std\": 0.4078590005017088,\n        \"min\": 0.0,\n        \"max\": 1.0,\n        \"num_unique_values\": 2,\n        \"samples\": [\n          0.0,\n          1.0\n        ],\n        \"semantic_type\": \"\",\n        \"description\": \"\"\n      }\n    },\n    {\n      \"column\": \"cp\",\n      \"properties\": {\n        \"dtype\": \"number\",\n        \"std\": 0.9233629726205,\n        \"min\": 1.0,\n        \"max\": 4.0,\n        \"num_unique_values\": 4,\n        \"samples\": [\n          3.0,\n          2.0\n        ],\n        \"semantic_type\": \"\",\n        \"description\": \"\"\n      }\n    },\n    {\n      \"column\": \"trestbps\",\n      \"properties\": {\n        \"dtype\": \"category\",\n        \"num_unique_values\": 95,\n        \"samples\": [\n          \"102.0\",\n          \"190\"\n        ],\n        \"semantic_type\": \"\",\n        \"description\": \"\"\n      }\n    },\n    {\n      \"column\": \"chol\",\n      \"properties\": {\n        \"dtype\": \"category\",\n        \"num_unique_values\": 280,\n        \"samples\": [\n          \"254.0\",\n          \"184.0\"\n        ],\n        \"semantic_type\": \"\",\n        \"description\": \"\"\n      }\n    },\n    {\n      \"column\": \"fbs\",\n      \"properties\": {\n        \"dtype\": \"category\",\n        \"num_unique_values\": 6,\n        \"samples\": [\n          \"0.0\",\n          \"?\"\n        ],\n        \"semantic_type\": \"\",\n        \"description\": \"\"\n      }\n    },\n    {\n      \"column\": \"restecg\",\n      \"properties\": {\n        \"dtype\": \"number\",\n        \"std\": 0.8029660932328697,\n        \"min\": 0.0,\n        \"max\": 2.0,\n        \"num_unique_values\": 3,\n        \"samples\": [\n          2.0,\n          0.0\n        ],\n        \"semantic_type\": \"\",\n        \"description\": \"\"\n      }\n    },\n    {\n      \"column\": \"thalach\",\n      \"properties\": {\n        \"dtype\": \"category\",\n        \"num_unique_values\": 180,\n        \"samples\": [\n          \"122.0\",\n          \"175.0\"\n        ],\n        \"semantic_type\": \"\",\n        \"description\": \"\"\n      }\n    },\n    {\n      \"column\": \"exang\",\n      \"properties\": {\n        \"dtype\": \"category\",\n        \"num_unique_values\": 5,\n        \"samples\": [\n          \"0\",\n          \"?\"\n        ],\n        \"semantic_type\": \"\",\n        \"description\": \"\"\n      }\n    },\n    {\n      \"column\": \"oldpeak\",\n      \"properties\": {\n        \"dtype\": \"category\",\n        \"num_unique_values\": 64,\n        \"samples\": [\n          \"1.3\",\n          \"0.7\"\n        ],\n        \"semantic_type\": \"\",\n        \"description\": \"\"\n      }\n    },\n    {\n      \"column\": \"slope\",\n      \"properties\": {\n        \"dtype\": \"category\",\n        \"num_unique_values\": 8,\n        \"samples\": [\n          \"-9.0\",\n          \"2.0\"\n        ],\n        \"semantic_type\": \"\",\n        \"description\": \"\"\n      }\n    },\n    {\n      \"column\": \"ca\",\n      \"properties\": {\n        \"dtype\": \"category\",\n        \"num_unique_values\": 9,\n        \"samples\": [\n          \"0\",\n          \"-9.0\"\n        ],\n        \"semantic_type\": \"\",\n        \"description\": \"\"\n      }\n    },\n    {\n      \"column\": \"thal\",\n      \"properties\": {\n        \"dtype\": \"category\",\n        \"num_unique_values\": 8,\n        \"samples\": [\n          \"7.0\",\n          \"7\"\n        ],\n        \"semantic_type\": \"\",\n        \"description\": \"\"\n      }\n    },\n    {\n      \"column\": \"label\",\n      \"properties\": {\n        \"dtype\": \"number\",\n        \"std\": 1,\n        \"min\": 0,\n        \"max\": 4,\n        \"num_unique_values\": 5,\n        \"samples\": [\n          2,\n          1\n        ],\n        \"semantic_type\": \"\",\n        \"description\": \"\"\n      }\n    }\n  ]\n}"
            }
          },
          "metadata": {},
          "execution_count": 310
        }
      ]
    },
    {
      "cell_type": "code",
      "source": [
        "df.info()"
      ],
      "metadata": {
        "colab": {
          "base_uri": "https://localhost:8080/"
        },
        "id": "NHS8LDC7GRnQ",
        "outputId": "f64c3515-8231-406c-862b-44ed307d8625"
      },
      "execution_count": 311,
      "outputs": [
        {
          "output_type": "stream",
          "name": "stdout",
          "text": [
            "<class 'pandas.core.frame.DataFrame'>\n",
            "RangeIndex: 732 entries, 0 to 731\n",
            "Data columns (total 14 columns):\n",
            " #   Column    Non-Null Count  Dtype  \n",
            "---  ------    --------------  -----  \n",
            " 0   age       732 non-null    float64\n",
            " 1   sex       732 non-null    float64\n",
            " 2   cp        732 non-null    float64\n",
            " 3   trestbps  732 non-null    object \n",
            " 4   chol      732 non-null    object \n",
            " 5   fbs       732 non-null    object \n",
            " 6   restecg   732 non-null    float64\n",
            " 7   thalach   732 non-null    object \n",
            " 8   exang     732 non-null    object \n",
            " 9   oldpeak   732 non-null    object \n",
            " 10  slope     732 non-null    object \n",
            " 11  ca        732 non-null    object \n",
            " 12  thal      732 non-null    object \n",
            " 13  label     732 non-null    int64  \n",
            "dtypes: float64(4), int64(1), object(9)\n",
            "memory usage: 80.2+ KB\n"
          ]
        }
      ]
    },
    {
      "cell_type": "markdown",
      "source": [
        "# 1. Limpieza del dataset de entrenamiento"
      ],
      "metadata": {
        "id": "9atSXFmVKBNC"
      }
    },
    {
      "cell_type": "markdown",
      "source": [
        "En esta primera fase, procederemos a limpiar el dataset siguiendo las situaciones más comunes."
      ],
      "metadata": {
        "id": "Ztfes9SIKFUq"
      }
    },
    {
      "cell_type": "markdown",
      "source": [
        "## 4.1 Datos faltantes"
      ],
      "metadata": {
        "id": "jfTFfFrMKWkl"
      }
    },
    {
      "cell_type": "markdown",
      "source": [
        "En primer lugar estudiaremos la existencia de registros incompletos en nuestro dataset."
      ],
      "metadata": {
        "id": "6fbONoU7Khmr"
      }
    },
    {
      "cell_type": "code",
      "source": [
        "# Ver valores nulos en el DataFrame\n",
        "valores_nulos = df.isnull().sum()\n",
        "\n",
        "# Imprimir el número de valores nulos en cada columna\n",
        "print(valores_nulos)"
      ],
      "metadata": {
        "colab": {
          "base_uri": "https://localhost:8080/"
        },
        "id": "V4KBvi6tGd8N",
        "outputId": "9ae52791-67ce-4b64-fcea-9499dc8f3683"
      },
      "execution_count": 403,
      "outputs": [
        {
          "output_type": "stream",
          "name": "stdout",
          "text": [
            "age         0\n",
            "sex         0\n",
            "cp          0\n",
            "trestbps    0\n",
            "chol        0\n",
            "fbs         0\n",
            "restecg     0\n",
            "thalach     0\n",
            "exang       0\n",
            "oldpeak     0\n",
            "slope       0\n",
            "ca          0\n",
            "thal        0\n",
            "dtype: int64\n"
          ]
        }
      ]
    },
    {
      "cell_type": "markdown",
      "source": [
        "Observamos que no hay registros vacíos en el dataset de entrenamiento, por lo que procedemos al siguiente paso.\n",
        "\n",
        "En segundo lugar, estudiaremos el reparto de valores de cada variable buscando posibles anomalías.\n",
        "\n",
        "Empezamos con la variable de la edad."
      ],
      "metadata": {
        "id": "k2iQ9kOMK9DC"
      }
    },
    {
      "cell_type": "code",
      "source": [
        "# Obtener la distribución de valores de la variable \"age\" y ordenar por edad ascendente\n",
        "reparto_age = df['age'].value_counts().sort_index()\n",
        "\n",
        "# Imprimir el reparto de valores ordenado por edad ascendente\n",
        "print(reparto_age)\n"
      ],
      "metadata": {
        "colab": {
          "base_uri": "https://localhost:8080/"
        },
        "id": "k8JCYvfsLpkH",
        "outputId": "69eca4d8-6573-405f-ef0f-4ebff9b4daad"
      },
      "execution_count": 404,
      "outputs": [
        {
          "output_type": "stream",
          "name": "stdout",
          "text": [
            "age\n",
            "29.0     1\n",
            "32.0     1\n",
            "33.0     1\n",
            "34.0     2\n",
            "35.0     3\n",
            "37.0     1\n",
            "38.0     4\n",
            "39.0     2\n",
            "40.0     5\n",
            "42.0     3\n",
            "43.0     5\n",
            "44.0     4\n",
            "45.0     4\n",
            "46.0     4\n",
            "47.0     6\n",
            "48.0     8\n",
            "50.0     4\n",
            "51.0     8\n",
            "52.0     7\n",
            "53.0     6\n",
            "54.0    13\n",
            "55.0    12\n",
            "56.0     4\n",
            "57.0     5\n",
            "58.0     7\n",
            "59.0     6\n",
            "60.0     8\n",
            "61.0     6\n",
            "62.0     9\n",
            "63.0     4\n",
            "64.0     5\n",
            "65.0     7\n",
            "66.0     1\n",
            "67.0     6\n",
            "68.0     1\n",
            "69.0     1\n",
            "70.0     2\n",
            "71.0     1\n",
            "72.0     2\n",
            "74.0     3\n",
            "77.0     2\n",
            "Name: count, dtype: int64\n"
          ]
        }
      ]
    },
    {
      "cell_type": "markdown",
      "source": [
        "Como la edad es un número entero, nos podemos ahorrar sus decimales, por lo que pasamos la variable a formato entero."
      ],
      "metadata": {
        "id": "tygrcYWuNryi"
      }
    },
    {
      "cell_type": "code",
      "source": [
        "# Convertir los valores de la columna 'age' a enteros en el DataFrame df\n",
        "df['age'] = df['age'].astype(int)\n",
        "\n",
        "# Obtener la distribución de valores y ordenarla por edad ascendente\n",
        "reparto_age = df['age'].value_counts().sort_index()\n",
        "\n",
        "# Imprimir el reparto de valores ordenado por edad ascendente\n",
        "print(reparto_age)\n"
      ],
      "metadata": {
        "colab": {
          "base_uri": "https://localhost:8080/"
        },
        "id": "INBkWzf_L7oe",
        "outputId": "71a35ee9-2bf0-4e41-d872-071c12b9c2e3"
      },
      "execution_count": 405,
      "outputs": [
        {
          "output_type": "stream",
          "name": "stdout",
          "text": [
            "age\n",
            "29     1\n",
            "32     1\n",
            "33     1\n",
            "34     2\n",
            "35     3\n",
            "37     1\n",
            "38     4\n",
            "39     2\n",
            "40     5\n",
            "42     3\n",
            "43     5\n",
            "44     4\n",
            "45     4\n",
            "46     4\n",
            "47     6\n",
            "48     8\n",
            "50     4\n",
            "51     8\n",
            "52     7\n",
            "53     6\n",
            "54    13\n",
            "55    12\n",
            "56     4\n",
            "57     5\n",
            "58     7\n",
            "59     6\n",
            "60     8\n",
            "61     6\n",
            "62     9\n",
            "63     4\n",
            "64     5\n",
            "65     7\n",
            "66     1\n",
            "67     6\n",
            "68     1\n",
            "69     1\n",
            "70     2\n",
            "71     1\n",
            "72     2\n",
            "74     3\n",
            "77     2\n",
            "Name: count, dtype: int64\n"
          ]
        }
      ]
    },
    {
      "cell_type": "markdown",
      "source": [
        "Ahora procedemos a estudiar la variable del sexo."
      ],
      "metadata": {
        "id": "UDkI9RQmP7ql"
      }
    },
    {
      "cell_type": "code",
      "source": [
        "# Obtener la distribución de valores de la variable \"sex\" y ordenar por edad ascendente\n",
        "reparto_sex = df['sex'].value_counts().sort_index()\n",
        "\n",
        "# Imprimir el reparto de valores ordenado por edad ascendente\n",
        "print(reparto_sex)"
      ],
      "metadata": {
        "colab": {
          "base_uri": "https://localhost:8080/"
        },
        "id": "dCDjNyKgQoH6",
        "outputId": "d91cbd0b-06d7-42cd-dbc2-660d48d25e07"
      },
      "execution_count": 406,
      "outputs": [
        {
          "output_type": "stream",
          "name": "stdout",
          "text": [
            "sex\n",
            "0.0     40\n",
            "1.0    144\n",
            "Name: count, dtype: int64\n"
          ]
        }
      ]
    },
    {
      "cell_type": "markdown",
      "source": [
        "Vemos que el dataset otorga el valor 1 al sexo masculino, y 0 al femenino, por lo que podemos descartar los decimales también."
      ],
      "metadata": {
        "id": "RdR-TdE3Ro1I"
      }
    },
    {
      "cell_type": "code",
      "source": [
        "# Convertir los valores de la columna 'sex' a enteros en el DataFrame df\n",
        "df['sex'] = df['sex'].astype(int)\n",
        "\n",
        "# Obtener la distribución de valores y ordenarla por sexo ascendente\n",
        "reparto_sex = df['sex'].value_counts().sort_index()\n",
        "\n",
        "# Imprimir el reparto de valores ordenado por sexo ascendente\n",
        "print(reparto_sex)\n"
      ],
      "metadata": {
        "colab": {
          "base_uri": "https://localhost:8080/"
        },
        "id": "pcBmyHeCRgvJ",
        "outputId": "723a1f18-c638-4fb5-d33f-b79a09af3b60"
      },
      "execution_count": 407,
      "outputs": [
        {
          "output_type": "stream",
          "name": "stdout",
          "text": [
            "sex\n",
            "0     40\n",
            "1    144\n",
            "Name: count, dtype: int64\n"
          ]
        }
      ]
    },
    {
      "cell_type": "markdown",
      "source": [
        "Procedemos a estudiar la variable cp, que otorga valores del 1 al 4 según el tipo de dolor del paciente."
      ],
      "metadata": {
        "id": "xc4vMc49Qy6i"
      }
    },
    {
      "cell_type": "code",
      "source": [
        "# Obtener la distribución de valores de la variable \"cp\" y ordenar por edad ascendente\n",
        "reparto_cp = df['cp'].value_counts().sort_index()\n",
        "\n",
        "# Imprimir el reparto de valores ordenado por edad ascendente\n",
        "print(reparto_cp)"
      ],
      "metadata": {
        "colab": {
          "base_uri": "https://localhost:8080/"
        },
        "id": "pp-oC-mCSLql",
        "outputId": "9890bad4-872a-4d98-ca8b-141d9a9a70fe"
      },
      "execution_count": 408,
      "outputs": [
        {
          "output_type": "stream",
          "name": "stdout",
          "text": [
            "cp\n",
            "1.0      9\n",
            "2.0     35\n",
            "3.0     36\n",
            "4.0    104\n",
            "Name: count, dtype: int64\n"
          ]
        }
      ]
    },
    {
      "cell_type": "markdown",
      "source": [
        "Descartamos los decimales de la misma manera."
      ],
      "metadata": {
        "id": "KKzA2N-uSSBY"
      }
    },
    {
      "cell_type": "code",
      "source": [
        "# Convertir los valores de la columna 'cp' a enteros en el DataFrame df\n",
        "df['cp'] = df['cp'].astype(int)\n",
        "\n",
        "# Obtener la distribución de valores y ordenarla por edad ascendente\n",
        "reparto_cp = df['cp'].value_counts().sort_index()\n",
        "\n",
        "# Imprimir el reparto de valores ordenado por cp ascendente\n",
        "print(reparto_cp)\n"
      ],
      "metadata": {
        "colab": {
          "base_uri": "https://localhost:8080/"
        },
        "id": "E6cGUmjgSUdF",
        "outputId": "8cf01bfe-a9c7-48fa-a71d-e2e5f6e885d9"
      },
      "execution_count": 409,
      "outputs": [
        {
          "output_type": "stream",
          "name": "stdout",
          "text": [
            "cp\n",
            "1      9\n",
            "2     35\n",
            "3     36\n",
            "4    104\n",
            "Name: count, dtype: int64\n"
          ]
        }
      ]
    },
    {
      "cell_type": "markdown",
      "source": [
        "Procedemos con la variable trestbps, que corresponde a la presión arterial en reposo."
      ],
      "metadata": {
        "id": "92VZEFrWRpud"
      }
    },
    {
      "cell_type": "code",
      "source": [
        "# Obtener la distribución de valores de la variable \"trestbps\" y ordenar por edad ascendente\n",
        "reparto_trestbps = df['trestbps'].value_counts().sort_index()\n",
        "\n",
        "# Imprimir el reparto de valores ordenado por edad ascendente\n",
        "print(reparto_trestbps)"
      ],
      "metadata": {
        "colab": {
          "base_uri": "https://localhost:8080/"
        },
        "id": "4wk8woggTztb",
        "outputId": "f81a40f5-97aa-47aa-a4f1-a056a49a951d"
      },
      "execution_count": 410,
      "outputs": [
        {
          "output_type": "stream",
          "name": "stdout",
          "text": [
            "trestbps\n",
            "-9.0      1\n",
            "100.0     1\n",
            "101.0     1\n",
            "102       1\n",
            "105       1\n",
            "105.0     1\n",
            "106       1\n",
            "108.0     1\n",
            "110       6\n",
            "110.0     9\n",
            "112.0     2\n",
            "115       4\n",
            "115.0     1\n",
            "118.0     1\n",
            "120       5\n",
            "120.0    17\n",
            "122       1\n",
            "124       1\n",
            "125       1\n",
            "125.0     4\n",
            "126       1\n",
            "128.0     2\n",
            "129.0     1\n",
            "130       7\n",
            "130.0    20\n",
            "132.0     2\n",
            "135.0     1\n",
            "136.0     1\n",
            "138       1\n",
            "138.0     5\n",
            "140       4\n",
            "140.0    18\n",
            "142       2\n",
            "144       3\n",
            "145       2\n",
            "145.0     2\n",
            "150       3\n",
            "150.0    11\n",
            "152       1\n",
            "152.0     2\n",
            "154       1\n",
            "155       1\n",
            "155.0     1\n",
            "156       1\n",
            "156.0     1\n",
            "158       1\n",
            "158.0     1\n",
            "160       4\n",
            "160.0     5\n",
            "170       1\n",
            "170.0     1\n",
            "180.0     1\n",
            "200       1\n",
            "200.0     1\n",
            "80        1\n",
            "95        2\n",
            "?        11\n",
            "Name: count, dtype: int64\n"
          ]
        }
      ]
    },
    {
      "cell_type": "markdown",
      "source": [
        "En primer lugar, al no existir ningún registro decimal, los descartamos."
      ],
      "metadata": {
        "id": "ivxZUlBeUILl"
      }
    },
    {
      "cell_type": "code",
      "source": [
        "# Eliminar los decimales de la columna 'trestbps'\n",
        "df['trestbps'] = df['trestbps'].astype(str).str.split('.').str[0]\n",
        "\n",
        "# Obtener la distribución de valores y ordenarla por trestbps ascendente\n",
        "reparto_trestbps = df['trestbps'].value_counts().sort_index()\n",
        "\n",
        "# Imprimir el reparto de valores ordenado por trestbps ascendente\n",
        "print(reparto_trestbps)\n"
      ],
      "metadata": {
        "colab": {
          "base_uri": "https://localhost:8080/"
        },
        "id": "23rY_xGHUPaB",
        "outputId": "36e3111c-c16b-459f-de92-20015f5e1ffe"
      },
      "execution_count": 411,
      "outputs": [
        {
          "output_type": "stream",
          "name": "stdout",
          "text": [
            "trestbps\n",
            "-9      1\n",
            "100     1\n",
            "101     1\n",
            "102     1\n",
            "105     2\n",
            "106     1\n",
            "108     1\n",
            "110    15\n",
            "112     2\n",
            "115     5\n",
            "118     1\n",
            "120    22\n",
            "122     1\n",
            "124     1\n",
            "125     5\n",
            "126     1\n",
            "128     2\n",
            "129     1\n",
            "130    27\n",
            "132     2\n",
            "135     1\n",
            "136     1\n",
            "138     6\n",
            "140    22\n",
            "142     2\n",
            "144     3\n",
            "145     4\n",
            "150    14\n",
            "152     3\n",
            "154     1\n",
            "155     2\n",
            "156     2\n",
            "158     2\n",
            "160     9\n",
            "170     2\n",
            "180     1\n",
            "200     2\n",
            "80      1\n",
            "95      2\n",
            "?      11\n",
            "Name: count, dtype: int64\n"
          ]
        }
      ]
    },
    {
      "cell_type": "markdown",
      "source": [
        "Vemos que hay un outlier, ya que hay un registro con valor a 0, lo que no tiene sentido en nuestro dataset. Al solo ser uno, podemos proceder a descartarlo."
      ],
      "metadata": {
        "id": "b6P5Sli5hs2b"
      }
    },
    {
      "cell_type": "code",
      "source": [
        "# Eliminar los decimales de la columna 'trestbps'\n",
        "df['trestbps'] = df['trestbps'].astype(str).str.split('.').str[0]\n",
        "\n",
        "# Filtrar los valores diferentes de '0'\n",
        "df = df[df['trestbps'] != '0']\n",
        "\n",
        "# Obtener la distribución de valores y ordenarla por 'trestbps' ascendente\n",
        "reparto_trestbps = df['trestbps'].value_counts().sort_index()\n",
        "\n",
        "# Imprimir el reparto de valores ordenado por 'trestbps' ascendente\n",
        "print(reparto_trestbps)\n"
      ],
      "metadata": {
        "colab": {
          "base_uri": "https://localhost:8080/"
        },
        "id": "vuE97EnpXbS3",
        "outputId": "6ba1ab15-e06f-42b9-cbdc-5433ad54d637"
      },
      "execution_count": 412,
      "outputs": [
        {
          "output_type": "stream",
          "name": "stdout",
          "text": [
            "trestbps\n",
            "-9      1\n",
            "100     1\n",
            "101     1\n",
            "102     1\n",
            "105     2\n",
            "106     1\n",
            "108     1\n",
            "110    15\n",
            "112     2\n",
            "115     5\n",
            "118     1\n",
            "120    22\n",
            "122     1\n",
            "124     1\n",
            "125     5\n",
            "126     1\n",
            "128     2\n",
            "129     1\n",
            "130    27\n",
            "132     2\n",
            "135     1\n",
            "136     1\n",
            "138     6\n",
            "140    22\n",
            "142     2\n",
            "144     3\n",
            "145     4\n",
            "150    14\n",
            "152     3\n",
            "154     1\n",
            "155     2\n",
            "156     2\n",
            "158     2\n",
            "160     9\n",
            "170     2\n",
            "180     1\n",
            "200     2\n",
            "80      1\n",
            "95      2\n",
            "?      11\n",
            "Name: count, dtype: int64\n"
          ]
        }
      ]
    },
    {
      "cell_type": "markdown",
      "source": [
        "Vemos también que existen 47 valores desconocidos con valor '?'. Viendo la distribución de valores, vemos que la mayoría de los valores se encuentran entre 120 y 130. Vamos a calcular la media por si acaso."
      ],
      "metadata": {
        "id": "ZnuvG0jZh_Qx"
      }
    },
    {
      "cell_type": "code",
      "source": [
        "# Filtrar los valores diferentes de '?' en la columna 'trestbps'\n",
        "df_filtered = df[df['trestbps'] != '?']\n",
        "\n",
        "# Convertir la columna 'trestbps' a tipo entero\n",
        "df_filtered['trestbps'] = df_filtered['trestbps'].astype(int)\n",
        "\n",
        "# Calcular la media de los valores en la columna 'trestbps'\n",
        "media_trestbps = df_filtered['trestbps'].mean()\n",
        "\n",
        "# Imprimir la media\n",
        "print(\"Media de trestbps\", media_trestbps)\n"
      ],
      "metadata": {
        "colab": {
          "base_uri": "https://localhost:8080/"
        },
        "id": "YBmaz-KYbyI2",
        "outputId": "1f14bce9-f4c3-42e3-95ac-3bed692eb8ab"
      },
      "execution_count": 413,
      "outputs": [
        {
          "output_type": "stream",
          "name": "stdout",
          "text": [
            "Media de trestbps 131.98843930635837\n"
          ]
        },
        {
          "output_type": "stream",
          "name": "stderr",
          "text": [
            "<ipython-input-413-76c34d7b955a>:5: SettingWithCopyWarning: \n",
            "A value is trying to be set on a copy of a slice from a DataFrame.\n",
            "Try using .loc[row_indexer,col_indexer] = value instead\n",
            "\n",
            "See the caveats in the documentation: https://pandas.pydata.org/pandas-docs/stable/user_guide/indexing.html#returning-a-view-versus-a-copy\n",
            "  df_filtered['trestbps'] = df_filtered['trestbps'].astype(int)\n"
          ]
        }
      ]
    },
    {
      "cell_type": "markdown",
      "source": [
        "Al ser la media 130, que coincide con el rango de la moda, decidimos darle el valor 130 a los 47 registros desconocidos en esta fase inicial."
      ],
      "metadata": {
        "id": "3RD9EBisiWu2"
      }
    },
    {
      "cell_type": "code",
      "source": [
        "# Reemplazar los valores '?' por 130 en la columna 'trestbps'\n",
        "df['trestbps'].replace('?', 130, inplace=True)\n",
        "\n",
        "# Convertir la columna 'trestbps' a tipo numérico\n",
        "df['trestbps'] = pd.to_numeric(df['trestbps'])\n",
        "\n",
        "# Obtener la distribución de valores y ordenarla por 'trestbps' ascendente\n",
        "reparto_trestbps = df['trestbps'].value_counts().sort_index()\n",
        "\n",
        "# Imprimir el reparto de valores ordenado por 'trestbps' ascendente\n",
        "print(reparto_trestbps)\n"
      ],
      "metadata": {
        "colab": {
          "base_uri": "https://localhost:8080/"
        },
        "id": "4shC_QAwc2-8",
        "outputId": "5ec20af0-88b8-4845-9929-96f9efce3c3e"
      },
      "execution_count": 414,
      "outputs": [
        {
          "output_type": "stream",
          "name": "stdout",
          "text": [
            "trestbps\n",
            "-9       1\n",
            " 80      1\n",
            " 95      2\n",
            " 100     1\n",
            " 101     1\n",
            " 102     1\n",
            " 105     2\n",
            " 106     1\n",
            " 108     1\n",
            " 110    15\n",
            " 112     2\n",
            " 115     5\n",
            " 118     1\n",
            " 120    22\n",
            " 122     1\n",
            " 124     1\n",
            " 125     5\n",
            " 126     1\n",
            " 128     2\n",
            " 129     1\n",
            " 130    38\n",
            " 132     2\n",
            " 135     1\n",
            " 136     1\n",
            " 138     6\n",
            " 140    22\n",
            " 142     2\n",
            " 144     3\n",
            " 145     4\n",
            " 150    14\n",
            " 152     3\n",
            " 154     1\n",
            " 155     2\n",
            " 156     2\n",
            " 158     2\n",
            " 160     9\n",
            " 170     2\n",
            " 180     1\n",
            " 200     2\n",
            "Name: count, dtype: int64\n"
          ]
        }
      ]
    },
    {
      "cell_type": "markdown",
      "source": [
        "Ahora ya tendríamos bien normalizada esta variable.\n",
        "\n",
        "A continuación procedemos a estudiar la variable *chol*, que corresponde con el colesterol sérico en sangre, del cual su disposición es la siguiente:"
      ],
      "metadata": {
        "id": "8zJggPufRpsD"
      }
    },
    {
      "cell_type": "code",
      "source": [
        "# Obtener la distribución de valores de la variable 'chol'\n",
        "distribucion_chol = df['chol'].value_counts().sort_index()\n",
        "\n",
        "# Imprimir la distribución de valores de 'chol'\n",
        "print(distribucion_chol)\n"
      ],
      "metadata": {
        "colab": {
          "base_uri": "https://localhost:8080/"
        },
        "id": "cXWFumHAi5nm",
        "outputId": "ebb811d3-44ac-492c-dc4a-65303e187b49"
      },
      "execution_count": 415,
      "outputs": [
        {
          "output_type": "stream",
          "name": "stdout",
          "text": [
            "chol\n",
            "-9.0      7\n",
            "0        36\n",
            "149.0     1\n",
            "156.0     1\n",
            "160.0     1\n",
            "         ..\n",
            "392.0     1\n",
            "393.0     1\n",
            "394.0     2\n",
            "407.0     1\n",
            "?         2\n",
            "Name: count, Length: 111, dtype: int64\n"
          ]
        }
      ]
    },
    {
      "cell_type": "markdown",
      "source": [
        "De la misma manera, al no existir rango decimal lo convertimos a enteros. Tampoco encontramos ningún outlier."
      ],
      "metadata": {
        "id": "dmSPtNtol9qt"
      }
    },
    {
      "cell_type": "code",
      "source": [
        "# Convertir los valores numéricos de la columna 'chol' a cadenas y eliminar los decimales\n",
        "df['chol'] = df['chol'].astype(str).str.split('.').str[0]\n",
        "\n",
        "# Imprimir la distribución de valores de 'chol'\n",
        "distribucion_chol = df['chol'].value_counts(dropna=False).sort_index()\n",
        "print(distribucion_chol)\n"
      ],
      "metadata": {
        "colab": {
          "base_uri": "https://localhost:8080/"
        },
        "id": "5dIAVAxflwUy",
        "outputId": "b3508c5e-a4ec-42b0-b696-8bca1dd44e3c"
      },
      "execution_count": 416,
      "outputs": [
        {
          "output_type": "stream",
          "name": "stdout",
          "text": [
            "chol\n",
            "-9      7\n",
            "0      36\n",
            "149     1\n",
            "156     1\n",
            "160     1\n",
            "       ..\n",
            "392     1\n",
            "393     1\n",
            "394     2\n",
            "407     1\n",
            "?       2\n",
            "Name: count, Length: 99, dtype: int64\n"
          ]
        }
      ]
    },
    {
      "cell_type": "markdown",
      "source": [
        "Vemos ahora qué hacer con los 16 registros evaluados a -9, ya que no tiene sentido en la evaluación del colesterol."
      ],
      "metadata": {
        "id": "hK7gH-oVmImE"
      }
    },
    {
      "cell_type": "code",
      "source": [
        "# Filtrar los valores diferentes de '?' y '-9' en la columna 'chol'\n",
        "valid_chol = df[(df['chol'] != '?') & (df['chol'] != '-9')]['chol']\n",
        "\n",
        "# Convertir los valores válidos a numéricos\n",
        "valid_chol = pd.to_numeric(valid_chol)\n",
        "\n",
        "# Calcular la media y la moda de los valores válidos\n",
        "media_chol = valid_chol.mean()\n",
        "moda_chol = valid_chol.mode()[0]\n",
        "\n",
        "# Imprimir la media y la moda de 'chol'\n",
        "print(\"Media de chol (sin incluir ? y -9):\", media_chol)\n",
        "print(\"Moda de chol (sin incluir ? y -9):\", moda_chol)\n"
      ],
      "metadata": {
        "colab": {
          "base_uri": "https://localhost:8080/"
        },
        "id": "7Rt_PaW8mPuu",
        "outputId": "5ec52df0-4432-41fd-8204-599cd2893717"
      },
      "execution_count": 417,
      "outputs": [
        {
          "output_type": "stream",
          "name": "stdout",
          "text": [
            "Media de chol (sin incluir ? y -9): 195.85714285714286\n",
            "Moda de chol (sin incluir ? y -9): 0\n"
          ]
        }
      ]
    },
    {
      "cell_type": "markdown",
      "source": [
        "En este caso la media no es lo más óptimo, ya que lo común como vemos en la moda es no tener colesterol en sangre, por lo que sustituiremos los valores por la moda."
      ],
      "metadata": {
        "id": "z3WRxIcwmXyo"
      }
    },
    {
      "cell_type": "code",
      "source": [
        "# Reemplazar los valores '?' por 0 en la columna 'chol'\n",
        "df['chol'].replace('?', 0, inplace=True)\n",
        "\n",
        "# Reemplazar los valores '-9' por 0 en la columna 'chol'\n",
        "df['chol'].replace('-9', 0, inplace=True)\n",
        "\n",
        "# Convertir la columna 'chol' a tipo numérico\n",
        "df['chol'] = pd.to_numeric(df['chol'], errors='coerce')\n",
        "\n",
        "# Imprimir la distribución actualizada de valores de 'chol'\n",
        "distribucion_chol = df['chol'].value_counts(dropna=False).sort_index()\n",
        "print(distribucion_chol)\n"
      ],
      "metadata": {
        "colab": {
          "base_uri": "https://localhost:8080/"
        },
        "id": "8cls34vgmnyI",
        "outputId": "a6d791f6-ab10-4e08-ab09-46d84d1251ca"
      },
      "execution_count": 418,
      "outputs": [
        {
          "output_type": "stream",
          "name": "stdout",
          "text": [
            "chol\n",
            "0      45\n",
            "149     1\n",
            "156     1\n",
            "160     1\n",
            "164     1\n",
            "       ..\n",
            "369     1\n",
            "392     1\n",
            "393     1\n",
            "394     2\n",
            "407     1\n",
            "Name: count, Length: 97, dtype: int64\n"
          ]
        }
      ]
    },
    {
      "cell_type": "markdown",
      "source": [
        "Pasamos a la variable fbs, que evalúa a 1 si hay dolor por esfuerzo o 0 en caso contrario."
      ],
      "metadata": {
        "id": "CRqtuZiCpCji"
      }
    },
    {
      "cell_type": "code",
      "source": [
        "# Obtener la distribución de valores de la variable 'fbs'\n",
        "distribucion_fbs = df['fbs'].value_counts().sort_index()\n",
        "\n",
        "# Imprimir la distribución de valores de 'fbs'\n",
        "print(distribucion_fbs)\n"
      ],
      "metadata": {
        "colab": {
          "base_uri": "https://localhost:8080/"
        },
        "id": "xBoIDGkRpOGr",
        "outputId": "2afc05db-8947-4c83-de36-e826060c4a3a"
      },
      "execution_count": 419,
      "outputs": [
        {
          "output_type": "stream",
          "name": "stdout",
          "text": [
            "fbs\n",
            "0       28\n",
            "0.0    108\n",
            "1       18\n",
            "1.0      7\n",
            "?       23\n",
            "Name: count, dtype: int64\n"
          ]
        }
      ]
    },
    {
      "cell_type": "markdown",
      "source": [
        "Lo pasamos a entero al no haber flotantes."
      ],
      "metadata": {
        "id": "GzuldjstpVGb"
      }
    },
    {
      "cell_type": "code",
      "source": [
        "# Eliminar los decimales de la columna 'fbs'\n",
        "df['fbs'] = df['fbs'].astype(str).str.split('.').str[0]\n",
        "\n",
        "# Obtener la distribución de valores de la variable 'fbs'\n",
        "distribucion_fbs = df['fbs'].value_counts().sort_index()\n",
        "\n",
        "# Imprimir la distribución de valores de 'fbs'\n",
        "print(distribucion_fbs)\n"
      ],
      "metadata": {
        "colab": {
          "base_uri": "https://localhost:8080/"
        },
        "id": "Yal6FGaQpZUq",
        "outputId": "dd6e42d1-cf80-46f4-f132-7aa5dbe02f53"
      },
      "execution_count": 420,
      "outputs": [
        {
          "output_type": "stream",
          "name": "stdout",
          "text": [
            "fbs\n",
            "0    136\n",
            "1     25\n",
            "?     23\n",
            "Name: count, dtype: int64\n"
          ]
        }
      ]
    },
    {
      "cell_type": "markdown",
      "source": [
        "Como vemos visualmente, la moda es bastante evidente, el 75% de los pacientes no experimentan dolor por esfuerzo, por lo que los valores anómalos (-9 e ?) los sustituiremos por esta moda, ya que suponemos que lo lógico y común es no sentir dolor, y no son pocos registros como para descartarlos."
      ],
      "metadata": {
        "id": "Iagh6WDB-KjY"
      }
    },
    {
      "cell_type": "code",
      "source": [
        "# Reemplazar los valores '-9' y '?' por '0' en la columna 'fbs'\n",
        "df['fbs'].replace(['-9', '?'], '0', inplace=True)\n",
        "\n",
        "# Convertir la columna 'fbs' a tipo entero\n",
        "df['fbs'] = df['fbs'].astype(int)\n",
        "\n",
        "# Obtener la distribución de valores de la variable 'fbs'\n",
        "distribucion_fbs = df['fbs'].value_counts().sort_index()\n",
        "\n",
        "# Imprimir la distribución de valores de 'fbs'\n",
        "print(distribucion_fbs)\n"
      ],
      "metadata": {
        "colab": {
          "base_uri": "https://localhost:8080/"
        },
        "id": "x6oGlEUH-I6G",
        "outputId": "139c085c-4e64-4d3c-9d13-e52ddc75878c"
      },
      "execution_count": 421,
      "outputs": [
        {
          "output_type": "stream",
          "name": "stdout",
          "text": [
            "fbs\n",
            "0    159\n",
            "1     25\n",
            "Name: count, dtype: int64\n"
          ]
        }
      ]
    },
    {
      "cell_type": "markdown",
      "source": [
        "Continuamos con la variable restecg, la cual nos indica los resultados electrocardiográficos en reposo."
      ],
      "metadata": {
        "id": "9kEtQilh_jMv"
      }
    },
    {
      "cell_type": "code",
      "source": [
        "# Obtener la distribución de valores de la variable 'restecg'\n",
        "distribucion_restecg = df['restecg'].value_counts()\n",
        "\n",
        "# Imprimir la distribución de valores de 'restecg'\n",
        "print(distribucion_restecg)\n"
      ],
      "metadata": {
        "colab": {
          "base_uri": "https://localhost:8080/"
        },
        "id": "ceYL-eSH_6zz",
        "outputId": "f15e3ad3-3092-44a9-e1e9-4d14cda09354"
      },
      "execution_count": 422,
      "outputs": [
        {
          "output_type": "stream",
          "name": "stdout",
          "text": [
            "restecg\n",
            "0.0     77\n",
            "0       33\n",
            "2.0     29\n",
            "1       25\n",
            "2       10\n",
            "1.0      8\n",
            "-9.0     1\n",
            "?        1\n",
            "Name: count, dtype: int64\n"
          ]
        }
      ]
    },
    {
      "cell_type": "markdown",
      "source": [
        "Vemos que la disposición de esta variable es correcta, simplemente la pasamos a entero como de costumbre."
      ],
      "metadata": {
        "id": "jzBYRh1sAtQs"
      }
    },
    {
      "cell_type": "code",
      "source": [
        "#PARA TRAIN\n",
        "\n",
        "# Convertir la columna 'restecg' a tipo entero\n",
        "df['restecg'] = df['restecg'].astype(int)\n",
        "\n",
        "# Obtener la distribución de valores de la variable 'restecg'\n",
        "distribucion_restecg = df['restecg'].value_counts().sort_index()\n",
        "\n",
        "# Imprimir la distribución de valores de 'restecg'\n",
        "print(distribucion_restecg)\n"
      ],
      "metadata": {
        "colab": {
          "base_uri": "https://localhost:8080/",
          "height": 356
        },
        "id": "Wh-Hra8fAxxi",
        "outputId": "ea73a86d-0014-481e-e878-6b1bbad67a96"
      },
      "execution_count": 397,
      "outputs": [
        {
          "output_type": "error",
          "ename": "ValueError",
          "evalue": "invalid literal for int() with base 10: '0.0'",
          "traceback": [
            "\u001b[0;31m---------------------------------------------------------------------------\u001b[0m",
            "\u001b[0;31mValueError\u001b[0m                                Traceback (most recent call last)",
            "\u001b[0;32m<ipython-input-397-10d89d718cf8>\u001b[0m in \u001b[0;36m<cell line: 2>\u001b[0;34m()\u001b[0m\n\u001b[1;32m      1\u001b[0m \u001b[0;31m# Convertir la columna 'restecg' a tipo entero\u001b[0m\u001b[0;34m\u001b[0m\u001b[0;34m\u001b[0m\u001b[0m\n\u001b[0;32m----> 2\u001b[0;31m \u001b[0mdf\u001b[0m\u001b[0;34m[\u001b[0m\u001b[0;34m'restecg'\u001b[0m\u001b[0;34m]\u001b[0m \u001b[0;34m=\u001b[0m \u001b[0mdf\u001b[0m\u001b[0;34m[\u001b[0m\u001b[0;34m'restecg'\u001b[0m\u001b[0;34m]\u001b[0m\u001b[0;34m.\u001b[0m\u001b[0mastype\u001b[0m\u001b[0;34m(\u001b[0m\u001b[0mint\u001b[0m\u001b[0;34m)\u001b[0m\u001b[0;34m\u001b[0m\u001b[0;34m\u001b[0m\u001b[0m\n\u001b[0m\u001b[1;32m      3\u001b[0m \u001b[0;34m\u001b[0m\u001b[0m\n\u001b[1;32m      4\u001b[0m \u001b[0;31m# Obtener la distribución de valores de la variable 'restecg'\u001b[0m\u001b[0;34m\u001b[0m\u001b[0;34m\u001b[0m\u001b[0m\n\u001b[1;32m      5\u001b[0m \u001b[0mdistribucion_restecg\u001b[0m \u001b[0;34m=\u001b[0m \u001b[0mdf\u001b[0m\u001b[0;34m[\u001b[0m\u001b[0;34m'restecg'\u001b[0m\u001b[0;34m]\u001b[0m\u001b[0;34m.\u001b[0m\u001b[0mvalue_counts\u001b[0m\u001b[0;34m(\u001b[0m\u001b[0;34m)\u001b[0m\u001b[0;34m.\u001b[0m\u001b[0msort_index\u001b[0m\u001b[0;34m(\u001b[0m\u001b[0;34m)\u001b[0m\u001b[0;34m\u001b[0m\u001b[0;34m\u001b[0m\u001b[0m\n",
            "\u001b[0;32m/usr/local/lib/python3.10/dist-packages/pandas/core/generic.py\u001b[0m in \u001b[0;36mastype\u001b[0;34m(self, dtype, copy, errors)\u001b[0m\n\u001b[1;32m   6322\u001b[0m         \u001b[0;32melse\u001b[0m\u001b[0;34m:\u001b[0m\u001b[0;34m\u001b[0m\u001b[0;34m\u001b[0m\u001b[0m\n\u001b[1;32m   6323\u001b[0m             \u001b[0;31m# else, only a single dtype is given\u001b[0m\u001b[0;34m\u001b[0m\u001b[0;34m\u001b[0m\u001b[0m\n\u001b[0;32m-> 6324\u001b[0;31m             \u001b[0mnew_data\u001b[0m \u001b[0;34m=\u001b[0m \u001b[0mself\u001b[0m\u001b[0;34m.\u001b[0m\u001b[0m_mgr\u001b[0m\u001b[0;34m.\u001b[0m\u001b[0mastype\u001b[0m\u001b[0;34m(\u001b[0m\u001b[0mdtype\u001b[0m\u001b[0;34m=\u001b[0m\u001b[0mdtype\u001b[0m\u001b[0;34m,\u001b[0m \u001b[0mcopy\u001b[0m\u001b[0;34m=\u001b[0m\u001b[0mcopy\u001b[0m\u001b[0;34m,\u001b[0m \u001b[0merrors\u001b[0m\u001b[0;34m=\u001b[0m\u001b[0merrors\u001b[0m\u001b[0;34m)\u001b[0m\u001b[0;34m\u001b[0m\u001b[0;34m\u001b[0m\u001b[0m\n\u001b[0m\u001b[1;32m   6325\u001b[0m             \u001b[0;32mreturn\u001b[0m \u001b[0mself\u001b[0m\u001b[0;34m.\u001b[0m\u001b[0m_constructor\u001b[0m\u001b[0;34m(\u001b[0m\u001b[0mnew_data\u001b[0m\u001b[0;34m)\u001b[0m\u001b[0;34m.\u001b[0m\u001b[0m__finalize__\u001b[0m\u001b[0;34m(\u001b[0m\u001b[0mself\u001b[0m\u001b[0;34m,\u001b[0m \u001b[0mmethod\u001b[0m\u001b[0;34m=\u001b[0m\u001b[0;34m\"astype\"\u001b[0m\u001b[0;34m)\u001b[0m\u001b[0;34m\u001b[0m\u001b[0;34m\u001b[0m\u001b[0m\n\u001b[1;32m   6326\u001b[0m \u001b[0;34m\u001b[0m\u001b[0m\n",
            "\u001b[0;32m/usr/local/lib/python3.10/dist-packages/pandas/core/internals/managers.py\u001b[0m in \u001b[0;36mastype\u001b[0;34m(self, dtype, copy, errors)\u001b[0m\n\u001b[1;32m    449\u001b[0m             \u001b[0mcopy\u001b[0m \u001b[0;34m=\u001b[0m \u001b[0;32mFalse\u001b[0m\u001b[0;34m\u001b[0m\u001b[0;34m\u001b[0m\u001b[0m\n\u001b[1;32m    450\u001b[0m \u001b[0;34m\u001b[0m\u001b[0m\n\u001b[0;32m--> 451\u001b[0;31m         return self.apply(\n\u001b[0m\u001b[1;32m    452\u001b[0m             \u001b[0;34m\"astype\"\u001b[0m\u001b[0;34m,\u001b[0m\u001b[0;34m\u001b[0m\u001b[0;34m\u001b[0m\u001b[0m\n\u001b[1;32m    453\u001b[0m             \u001b[0mdtype\u001b[0m\u001b[0;34m=\u001b[0m\u001b[0mdtype\u001b[0m\u001b[0;34m,\u001b[0m\u001b[0;34m\u001b[0m\u001b[0;34m\u001b[0m\u001b[0m\n",
            "\u001b[0;32m/usr/local/lib/python3.10/dist-packages/pandas/core/internals/managers.py\u001b[0m in \u001b[0;36mapply\u001b[0;34m(self, f, align_keys, **kwargs)\u001b[0m\n\u001b[1;32m    350\u001b[0m                 \u001b[0mapplied\u001b[0m \u001b[0;34m=\u001b[0m \u001b[0mb\u001b[0m\u001b[0;34m.\u001b[0m\u001b[0mapply\u001b[0m\u001b[0;34m(\u001b[0m\u001b[0mf\u001b[0m\u001b[0;34m,\u001b[0m \u001b[0;34m**\u001b[0m\u001b[0mkwargs\u001b[0m\u001b[0;34m)\u001b[0m\u001b[0;34m\u001b[0m\u001b[0;34m\u001b[0m\u001b[0m\n\u001b[1;32m    351\u001b[0m             \u001b[0;32melse\u001b[0m\u001b[0;34m:\u001b[0m\u001b[0;34m\u001b[0m\u001b[0;34m\u001b[0m\u001b[0m\n\u001b[0;32m--> 352\u001b[0;31m                 \u001b[0mapplied\u001b[0m \u001b[0;34m=\u001b[0m \u001b[0mgetattr\u001b[0m\u001b[0;34m(\u001b[0m\u001b[0mb\u001b[0m\u001b[0;34m,\u001b[0m \u001b[0mf\u001b[0m\u001b[0;34m)\u001b[0m\u001b[0;34m(\u001b[0m\u001b[0;34m**\u001b[0m\u001b[0mkwargs\u001b[0m\u001b[0;34m)\u001b[0m\u001b[0;34m\u001b[0m\u001b[0;34m\u001b[0m\u001b[0m\n\u001b[0m\u001b[1;32m    353\u001b[0m             \u001b[0mresult_blocks\u001b[0m \u001b[0;34m=\u001b[0m \u001b[0mextend_blocks\u001b[0m\u001b[0;34m(\u001b[0m\u001b[0mapplied\u001b[0m\u001b[0;34m,\u001b[0m \u001b[0mresult_blocks\u001b[0m\u001b[0;34m)\u001b[0m\u001b[0;34m\u001b[0m\u001b[0;34m\u001b[0m\u001b[0m\n\u001b[1;32m    354\u001b[0m \u001b[0;34m\u001b[0m\u001b[0m\n",
            "\u001b[0;32m/usr/local/lib/python3.10/dist-packages/pandas/core/internals/blocks.py\u001b[0m in \u001b[0;36mastype\u001b[0;34m(self, dtype, copy, errors, using_cow)\u001b[0m\n\u001b[1;32m    509\u001b[0m         \u001b[0mvalues\u001b[0m \u001b[0;34m=\u001b[0m \u001b[0mself\u001b[0m\u001b[0;34m.\u001b[0m\u001b[0mvalues\u001b[0m\u001b[0;34m\u001b[0m\u001b[0;34m\u001b[0m\u001b[0m\n\u001b[1;32m    510\u001b[0m \u001b[0;34m\u001b[0m\u001b[0m\n\u001b[0;32m--> 511\u001b[0;31m         \u001b[0mnew_values\u001b[0m \u001b[0;34m=\u001b[0m \u001b[0mastype_array_safe\u001b[0m\u001b[0;34m(\u001b[0m\u001b[0mvalues\u001b[0m\u001b[0;34m,\u001b[0m \u001b[0mdtype\u001b[0m\u001b[0;34m,\u001b[0m \u001b[0mcopy\u001b[0m\u001b[0;34m=\u001b[0m\u001b[0mcopy\u001b[0m\u001b[0;34m,\u001b[0m \u001b[0merrors\u001b[0m\u001b[0;34m=\u001b[0m\u001b[0merrors\u001b[0m\u001b[0;34m)\u001b[0m\u001b[0;34m\u001b[0m\u001b[0;34m\u001b[0m\u001b[0m\n\u001b[0m\u001b[1;32m    512\u001b[0m \u001b[0;34m\u001b[0m\u001b[0m\n\u001b[1;32m    513\u001b[0m         \u001b[0mnew_values\u001b[0m \u001b[0;34m=\u001b[0m \u001b[0mmaybe_coerce_values\u001b[0m\u001b[0;34m(\u001b[0m\u001b[0mnew_values\u001b[0m\u001b[0;34m)\u001b[0m\u001b[0;34m\u001b[0m\u001b[0;34m\u001b[0m\u001b[0m\n",
            "\u001b[0;32m/usr/local/lib/python3.10/dist-packages/pandas/core/dtypes/astype.py\u001b[0m in \u001b[0;36mastype_array_safe\u001b[0;34m(values, dtype, copy, errors)\u001b[0m\n\u001b[1;32m    240\u001b[0m \u001b[0;34m\u001b[0m\u001b[0m\n\u001b[1;32m    241\u001b[0m     \u001b[0;32mtry\u001b[0m\u001b[0;34m:\u001b[0m\u001b[0;34m\u001b[0m\u001b[0;34m\u001b[0m\u001b[0m\n\u001b[0;32m--> 242\u001b[0;31m         \u001b[0mnew_values\u001b[0m \u001b[0;34m=\u001b[0m \u001b[0mastype_array\u001b[0m\u001b[0;34m(\u001b[0m\u001b[0mvalues\u001b[0m\u001b[0;34m,\u001b[0m \u001b[0mdtype\u001b[0m\u001b[0;34m,\u001b[0m \u001b[0mcopy\u001b[0m\u001b[0;34m=\u001b[0m\u001b[0mcopy\u001b[0m\u001b[0;34m)\u001b[0m\u001b[0;34m\u001b[0m\u001b[0;34m\u001b[0m\u001b[0m\n\u001b[0m\u001b[1;32m    243\u001b[0m     \u001b[0;32mexcept\u001b[0m \u001b[0;34m(\u001b[0m\u001b[0mValueError\u001b[0m\u001b[0;34m,\u001b[0m \u001b[0mTypeError\u001b[0m\u001b[0;34m)\u001b[0m\u001b[0;34m:\u001b[0m\u001b[0;34m\u001b[0m\u001b[0;34m\u001b[0m\u001b[0m\n\u001b[1;32m    244\u001b[0m         \u001b[0;31m# e.g. _astype_nansafe can fail on object-dtype of strings\u001b[0m\u001b[0;34m\u001b[0m\u001b[0;34m\u001b[0m\u001b[0m\n",
            "\u001b[0;32m/usr/local/lib/python3.10/dist-packages/pandas/core/dtypes/astype.py\u001b[0m in \u001b[0;36mastype_array\u001b[0;34m(values, dtype, copy)\u001b[0m\n\u001b[1;32m    185\u001b[0m \u001b[0;34m\u001b[0m\u001b[0m\n\u001b[1;32m    186\u001b[0m     \u001b[0;32melse\u001b[0m\u001b[0;34m:\u001b[0m\u001b[0;34m\u001b[0m\u001b[0;34m\u001b[0m\u001b[0m\n\u001b[0;32m--> 187\u001b[0;31m         \u001b[0mvalues\u001b[0m \u001b[0;34m=\u001b[0m \u001b[0m_astype_nansafe\u001b[0m\u001b[0;34m(\u001b[0m\u001b[0mvalues\u001b[0m\u001b[0;34m,\u001b[0m \u001b[0mdtype\u001b[0m\u001b[0;34m,\u001b[0m \u001b[0mcopy\u001b[0m\u001b[0;34m=\u001b[0m\u001b[0mcopy\u001b[0m\u001b[0;34m)\u001b[0m\u001b[0;34m\u001b[0m\u001b[0;34m\u001b[0m\u001b[0m\n\u001b[0m\u001b[1;32m    188\u001b[0m \u001b[0;34m\u001b[0m\u001b[0m\n\u001b[1;32m    189\u001b[0m     \u001b[0;31m# in pandas we don't store numpy str dtypes, so convert to object\u001b[0m\u001b[0;34m\u001b[0m\u001b[0;34m\u001b[0m\u001b[0m\n",
            "\u001b[0;32m/usr/local/lib/python3.10/dist-packages/pandas/core/dtypes/astype.py\u001b[0m in \u001b[0;36m_astype_nansafe\u001b[0;34m(arr, dtype, copy, skipna)\u001b[0m\n\u001b[1;32m    136\u001b[0m     \u001b[0;32mif\u001b[0m \u001b[0mcopy\u001b[0m \u001b[0;32mor\u001b[0m \u001b[0mis_object_dtype\u001b[0m\u001b[0;34m(\u001b[0m\u001b[0marr\u001b[0m\u001b[0;34m.\u001b[0m\u001b[0mdtype\u001b[0m\u001b[0;34m)\u001b[0m \u001b[0;32mor\u001b[0m \u001b[0mis_object_dtype\u001b[0m\u001b[0;34m(\u001b[0m\u001b[0mdtype\u001b[0m\u001b[0;34m)\u001b[0m\u001b[0;34m:\u001b[0m\u001b[0;34m\u001b[0m\u001b[0;34m\u001b[0m\u001b[0m\n\u001b[1;32m    137\u001b[0m         \u001b[0;31m# Explicit copy, or required since NumPy can't view from / to object.\u001b[0m\u001b[0;34m\u001b[0m\u001b[0;34m\u001b[0m\u001b[0m\n\u001b[0;32m--> 138\u001b[0;31m         \u001b[0;32mreturn\u001b[0m \u001b[0marr\u001b[0m\u001b[0;34m.\u001b[0m\u001b[0mastype\u001b[0m\u001b[0;34m(\u001b[0m\u001b[0mdtype\u001b[0m\u001b[0;34m,\u001b[0m \u001b[0mcopy\u001b[0m\u001b[0;34m=\u001b[0m\u001b[0;32mTrue\u001b[0m\u001b[0;34m)\u001b[0m\u001b[0;34m\u001b[0m\u001b[0;34m\u001b[0m\u001b[0m\n\u001b[0m\u001b[1;32m    139\u001b[0m \u001b[0;34m\u001b[0m\u001b[0m\n\u001b[1;32m    140\u001b[0m     \u001b[0;32mreturn\u001b[0m \u001b[0marr\u001b[0m\u001b[0;34m.\u001b[0m\u001b[0mastype\u001b[0m\u001b[0;34m(\u001b[0m\u001b[0mdtype\u001b[0m\u001b[0;34m,\u001b[0m \u001b[0mcopy\u001b[0m\u001b[0;34m=\u001b[0m\u001b[0mcopy\u001b[0m\u001b[0;34m)\u001b[0m\u001b[0;34m\u001b[0m\u001b[0;34m\u001b[0m\u001b[0m\n",
            "\u001b[0;31mValueError\u001b[0m: invalid literal for int() with base 10: '0.0'"
          ]
        }
      ]
    },
    {
      "cell_type": "code",
      "source": [
        "#PARA TEST\n",
        "# Eliminar los decimales de la columna 'restecg'\n",
        "df['restecg'] = df['restecg'].astype(str).str.split('.').str[0]\n",
        "\n",
        "# Obtener la distribución de valores de la variable 'restecg'\n",
        "distribucion_restecg = df['restecg'].value_counts(dropna=False).sort_index()\n",
        "\n",
        "# Imprimir la distribución de valores de 'restecg'\n",
        "print(distribucion_restecg)\n"
      ],
      "metadata": {
        "colab": {
          "base_uri": "https://localhost:8080/"
        },
        "id": "x_yvJ8R5kIuz",
        "outputId": "a31fa00d-5277-4910-e187-04d3ef6bd78a"
      },
      "execution_count": 423,
      "outputs": [
        {
          "output_type": "stream",
          "name": "stdout",
          "text": [
            "restecg\n",
            "-9      1\n",
            "0     110\n",
            "1      33\n",
            "2      39\n",
            "?       1\n",
            "Name: count, dtype: int64\n"
          ]
        }
      ]
    },
    {
      "cell_type": "markdown",
      "source": [
        "Continuamos con thalach, que representa la frecuencia cardiaca en reposo."
      ],
      "metadata": {
        "id": "L_6pgtS5A8rJ"
      }
    },
    {
      "cell_type": "code",
      "source": [
        "# Obtener la distribución de valores de la variable 'thalach' y ordenarla de menor a mayor\n",
        "distribucion_thalach = df['thalach'].value_counts().sort_index()\n",
        "\n",
        "# Imprimir la distribución de valores de 'thalach' ordenada de menor a mayor\n",
        "print(distribucion_thalach)\n"
      ],
      "metadata": {
        "colab": {
          "base_uri": "https://localhost:8080/"
        },
        "id": "P2YNeddhA76B",
        "outputId": "acca7c57-fb38-4cdc-9005-4dbb5241a2a7"
      },
      "execution_count": 424,
      "outputs": [
        {
          "output_type": "stream",
          "name": "stdout",
          "text": [
            "thalach\n",
            "-9.0      1\n",
            "100.0     1\n",
            "105       3\n",
            "108       2\n",
            "108.0     1\n",
            "         ..\n",
            "98        1\n",
            "98.0      1\n",
            "99        1\n",
            "99.0      1\n",
            "?        10\n",
            "Name: count, Length: 106, dtype: int64\n"
          ]
        }
      ]
    },
    {
      "cell_type": "markdown",
      "source": [
        "De manera habitual, al no haber decimales los descartamos."
      ],
      "metadata": {
        "id": "hvK1RvqwBb0q"
      }
    },
    {
      "cell_type": "code",
      "source": [
        "# Eliminar los decimales de la columna 'thalach'\n",
        "df['thalach'] = df['thalach'].astype(str).str.split('.').str[0]\n",
        "\n",
        "# Obtener la distribución de valores de la variable 'thalach' y ordenarla de menor a mayor\n",
        "distribucion_thalach = df['thalach'].value_counts().sort_index()\n",
        "\n",
        "# Imprimir la distribución de valores de 'thalach' ordenada de menor a mayor\n",
        "print(distribucion_thalach)\n"
      ],
      "metadata": {
        "colab": {
          "base_uri": "https://localhost:8080/"
        },
        "id": "cmvFnkI7Bece",
        "outputId": "295ac490-80dd-49f3-c259-bf4c3229f8e3"
      },
      "execution_count": 425,
      "outputs": [
        {
          "output_type": "stream",
          "name": "stdout",
          "text": [
            "thalach\n",
            "-9      1\n",
            "100     1\n",
            "105     3\n",
            "108     3\n",
            "110     6\n",
            "       ..\n",
            "96      1\n",
            "97      1\n",
            "98      2\n",
            "99      2\n",
            "?      10\n",
            "Name: count, Length: 83, dtype: int64\n"
          ]
        }
      ]
    },
    {
      "cell_type": "markdown",
      "source": [
        "Aquí vemos que la distribución es bastante diversa, y tenemos que 44 registros no están asignados, por lo que debemos darles un valor.\n",
        "\n",
        "Para ello, veremos a qué tienden los valores."
      ],
      "metadata": {
        "id": "nVvoikL5DFK2"
      }
    },
    {
      "cell_type": "code",
      "source": [
        "import numpy as np\n",
        "\n",
        "# Filtrar los valores diferentes de '?' en la columna 'thalach'\n",
        "df_filtered = df[df['thalach'] != '?']\n",
        "\n",
        "# Convertir la columna 'thalach' a tipo numérico\n",
        "df_filtered['thalach'] = pd.to_numeric(df_filtered['thalach'])\n",
        "\n",
        "# Calcular la media de los valores en la columna 'thalach'\n",
        "media_thalach = df_filtered['thalach'].mean()\n",
        "\n",
        "# Calcular la moda de los valores en la columna 'thalach'\n",
        "moda_thalach = df_filtered['thalach'].mode()[0]\n",
        "\n",
        "# Imprimir la media y la moda de 'thalach'\n",
        "print(\"Media de thalach:\", media_thalach)\n",
        "print(\"Moda de thalach:\", moda_thalach)\n"
      ],
      "metadata": {
        "colab": {
          "base_uri": "https://localhost:8080/"
        },
        "id": "St6Q7a4sC3e7",
        "outputId": "60834bb3-4142-4d51-b8d7-5bfb9a5cf46e"
      },
      "execution_count": 426,
      "outputs": [
        {
          "output_type": "stream",
          "name": "stdout",
          "text": [
            "Media de thalach: 134.32183908045977\n",
            "Moda de thalach: 130\n"
          ]
        },
        {
          "output_type": "stream",
          "name": "stderr",
          "text": [
            "<ipython-input-426-f0eece54ca33>:7: SettingWithCopyWarning: \n",
            "A value is trying to be set on a copy of a slice from a DataFrame.\n",
            "Try using .loc[row_indexer,col_indexer] = value instead\n",
            "\n",
            "See the caveats in the documentation: https://pandas.pydata.org/pandas-docs/stable/user_guide/indexing.html#returning-a-view-versus-a-copy\n",
            "  df_filtered['thalach'] = pd.to_numeric(df_filtered['thalach'])\n"
          ]
        }
      ]
    },
    {
      "cell_type": "markdown",
      "source": [
        "Vemos que deja bastante evidente que tanto la media como la moda tienden a que lo más común en estas enfermedades es tener una frecuencia cardiaca en reposo entorno a 140, por lo que otorgaremos este valor a los registros desconocidos."
      ],
      "metadata": {
        "id": "8x3P1fMiDTup"
      }
    },
    {
      "cell_type": "code",
      "source": [
        "# Reemplazar los valores '?' por '140' en la columna 'thalach'\n",
        "df['thalach'].replace('?', '140', inplace=True)\n",
        "\n",
        "# Mostrar la distribución de valores de la variable 'thalach'\n",
        "distribucion_thalach = df['thalach'].value_counts().sort_index()\n",
        "print(distribucion_thalach)\n"
      ],
      "metadata": {
        "colab": {
          "base_uri": "https://localhost:8080/"
        },
        "id": "hnp8Ec_xDm2x",
        "outputId": "1109e014-9129-4aed-e18d-88a2486d7baf"
      },
      "execution_count": 427,
      "outputs": [
        {
          "output_type": "stream",
          "name": "stdout",
          "text": [
            "thalach\n",
            "-9     1\n",
            "100    1\n",
            "105    3\n",
            "108    3\n",
            "110    6\n",
            "      ..\n",
            "94     1\n",
            "96     1\n",
            "97     1\n",
            "98     2\n",
            "99     2\n",
            "Name: count, Length: 82, dtype: int64\n"
          ]
        }
      ]
    },
    {
      "cell_type": "markdown",
      "source": [
        "Continuamos con exang, que representa con 1 si existe angina inducida por ejercicio, o 0 en caso contrario"
      ],
      "metadata": {
        "id": "3gtn_oAnD-kK"
      }
    },
    {
      "cell_type": "code",
      "source": [
        "# Mostrar la distribución de valores de la variable 'exang'\n",
        "distribucion_exang = df['exang'].value_counts()\n",
        "print(distribucion_exang)\n"
      ],
      "metadata": {
        "colab": {
          "base_uri": "https://localhost:8080/"
        },
        "id": "6Y5lm9nQEM72",
        "outputId": "b6e0f28f-2f49-4944-de37-d82f61074be4"
      },
      "execution_count": 428,
      "outputs": [
        {
          "output_type": "stream",
          "name": "stdout",
          "text": [
            "exang\n",
            "0.0     79\n",
            "1       35\n",
            "1.0     35\n",
            "0       24\n",
            "?       10\n",
            "-9.0     1\n",
            "Name: count, dtype: int64\n"
          ]
        }
      ]
    },
    {
      "cell_type": "markdown",
      "source": [
        "Lo primero como siempre, descartamos decimales al no haber flotantes.\n",
        "\n",
        "Al haber una clara tendencia hacia una no presencia de angina, asignaremos 0 a los registros con ?."
      ],
      "metadata": {
        "id": "njdxCbBkEW-t"
      }
    },
    {
      "cell_type": "code",
      "source": [
        "# Convertir la columna 'exang' a tipo entero\n",
        "df['exang'] = df['exang'].replace('?', np.nan).astype(float).fillna(0).astype(int)\n",
        "\n",
        "# Obtener la distribución de valores de la variable 'exang' y ordenarla de menor a mayor\n",
        "distribucion_exang = df['exang'].value_counts().sort_index()\n",
        "\n",
        "# Imprimir la distribución de valores de 'exang' ordenada de menor a mayor\n",
        "print(distribucion_exang)\n"
      ],
      "metadata": {
        "colab": {
          "base_uri": "https://localhost:8080/"
        },
        "id": "Gou3pEUOEaPV",
        "outputId": "333c6502-def0-400d-82e7-8f3f1256cf5e"
      },
      "execution_count": 429,
      "outputs": [
        {
          "output_type": "stream",
          "name": "stdout",
          "text": [
            "exang\n",
            "-9      1\n",
            " 0    113\n",
            " 1     70\n",
            "Name: count, dtype: int64\n"
          ]
        }
      ]
    },
    {
      "cell_type": "markdown",
      "source": [
        "Continuamos con oldpeak, que representa la depresión del ST inducida por el ejercicio en relación con el reposo."
      ],
      "metadata": {
        "id": "yI7YYlyiFPJk"
      }
    },
    {
      "cell_type": "code",
      "source": [
        "# Obtener la distribución de valores de la variable 'oldpeak' y ordenarla de menor a mayor\n",
        "distribucion_oldpeak = df['oldpeak'].value_counts().sort_index()\n",
        "\n",
        "# Imprimir la distribución de valores de 'oldpeak' ordenada de menor a mayor\n",
        "print(distribucion_oldpeak)\n"
      ],
      "metadata": {
        "colab": {
          "base_uri": "https://localhost:8080/"
        },
        "id": "7Hu2OrmeFWB_",
        "outputId": "44cb933c-eba0-42bc-c07b-73ca50a48d3b"
      },
      "execution_count": 430,
      "outputs": [
        {
          "output_type": "stream",
          "name": "stdout",
          "text": [
            "oldpeak\n",
            "-.1     1\n",
            "-.7     1\n",
            ".1      1\n",
            ".2      1\n",
            ".4      1\n",
            ".5      1\n",
            ".7      2\n",
            "0      18\n",
            "0.0    54\n",
            "0.1     1\n",
            "0.2     3\n",
            "0.4     1\n",
            "0.5     1\n",
            "0.6     3\n",
            "0.8     4\n",
            "1       4\n",
            "1.0    14\n",
            "1.1     1\n",
            "1.2     6\n",
            "1.3     1\n",
            "1.4     3\n",
            "1.5    13\n",
            "1.6     2\n",
            "1.8     2\n",
            "1.9     1\n",
            "2       8\n",
            "2.0     8\n",
            "2.4     1\n",
            "2.5     3\n",
            "2.8     2\n",
            "3       3\n",
            "3.0     2\n",
            "3.6     2\n",
            "4.0     2\n",
            "?      13\n",
            "Name: count, dtype: int64\n"
          ]
        }
      ]
    },
    {
      "cell_type": "markdown",
      "source": [
        "Aquí vemos que sí hay decimales, por lo que no interesa descartarlos, y vemos que su distribución es más compleja, por lo que vamos a ver a qué tiende."
      ],
      "metadata": {
        "id": "MX_3PyVEH9ZH"
      }
    },
    {
      "cell_type": "code",
      "source": [
        "# Filtrar los valores diferentes de '?' en la columna 'oldpeak'\n",
        "valid_oldpeak = df[df['oldpeak'] != '?']['oldpeak']\n",
        "\n",
        "# Convertir los valores válidos a numéricos\n",
        "valid_oldpeak = pd.to_numeric(valid_oldpeak, errors='coerce')\n",
        "\n",
        "# Calcular la media y la moda de los valores válidos\n",
        "media_oldpeak = valid_oldpeak.mean()\n",
        "moda_oldpeak = valid_oldpeak.mode()[0]\n",
        "\n",
        "# Imprimir la media y la moda de 'oldpeak'\n",
        "print(\"Media de oldpeak (sin incluir ?):\", media_oldpeak)\n",
        "print(\"Moda de oldpeak (sin incluir ?):\", moda_oldpeak)\n"
      ],
      "metadata": {
        "colab": {
          "base_uri": "https://localhost:8080/"
        },
        "id": "ngpIdOjxIkar",
        "outputId": "0539e9d5-e15c-4cbb-b5e2-809397a07897"
      },
      "execution_count": 431,
      "outputs": [
        {
          "output_type": "stream",
          "name": "stdout",
          "text": [
            "Media de oldpeak (sin incluir ?): 0.8543859649122807\n",
            "Moda de oldpeak (sin incluir ?): 0.0\n"
          ]
        }
      ]
    },
    {
      "cell_type": "markdown",
      "source": [
        "Vemos que existen valores negativos que no tienen por qué ser anómalos, por lo que de momento no los vamos a descartar. Vemos que tanto la media como la moda tienden a que el denominador más común suele ser 0, por lo que los 49 registros desconocidos los evaluaremos a 0."
      ],
      "metadata": {
        "id": "XY-7HK5NHp1N"
      }
    },
    {
      "cell_type": "code",
      "source": [
        "\n",
        "# Reemplazar los valores '?' por 0 en la columna 'oldpeak'\n",
        "df['oldpeak'].replace('?', 0, inplace=True)\n",
        "\n",
        "# Convertir los valores de la columna 'oldpeak' a tipo numérico, ignorando los valores no válidos ('?')\n",
        "df['oldpeak'] = pd.to_numeric(df['oldpeak'], errors='coerce')\n",
        "\n",
        "# Imprimir la distribución actualizada de valores de 'oldpeak'\n",
        "distribucion_oldpeak = df['oldpeak'].value_counts().sort_index()\n",
        "print(distribucion_oldpeak)\n"
      ],
      "metadata": {
        "colab": {
          "base_uri": "https://localhost:8080/"
        },
        "id": "54nx8zf5JH8f",
        "outputId": "8a12e80c-a6f4-455e-b641-be75b2172029"
      },
      "execution_count": 432,
      "outputs": [
        {
          "output_type": "stream",
          "name": "stdout",
          "text": [
            "oldpeak\n",
            "-0.7     1\n",
            "-0.1     1\n",
            " 0.0    85\n",
            " 0.1     2\n",
            " 0.2     4\n",
            " 0.4     2\n",
            " 0.5     2\n",
            " 0.6     3\n",
            " 0.7     2\n",
            " 0.8     4\n",
            " 1.0    18\n",
            " 1.1     1\n",
            " 1.2     6\n",
            " 1.3     1\n",
            " 1.4     3\n",
            " 1.5    13\n",
            " 1.6     2\n",
            " 1.8     2\n",
            " 1.9     1\n",
            " 2.0    16\n",
            " 2.4     1\n",
            " 2.5     3\n",
            " 2.8     2\n",
            " 3.0     5\n",
            " 3.6     2\n",
            " 4.0     2\n",
            "Name: count, dtype: int64\n"
          ]
        }
      ]
    },
    {
      "cell_type": "markdown",
      "source": [
        "Continuamos con slope, que representa la pendiente del segmento ST en ejercicio máximo, que solo puede tomar los valores 1, 2 y 3 (pendiente ascendente, plano y descendente respectivamente)"
      ],
      "metadata": {
        "id": "hKmNCo9yJfn8"
      }
    },
    {
      "cell_type": "code",
      "source": [
        "# Mostrar la distribución de valores de la variable 'slope'\n",
        "distribucion_slope = df['slope'].value_counts().sort_index()\n",
        "print(distribucion_slope)\n"
      ],
      "metadata": {
        "colab": {
          "base_uri": "https://localhost:8080/"
        },
        "id": "QmF5GUJpJ19O",
        "outputId": "c7bbcae1-fce6-453c-fe45-639f4f65649d"
      },
      "execution_count": 433,
      "outputs": [
        {
          "output_type": "stream",
          "name": "stdout",
          "text": [
            "slope\n",
            "-9.0    37\n",
            "1       11\n",
            "1.0     33\n",
            "2       23\n",
            "2.0     44\n",
            "3       11\n",
            "3.0      1\n",
            "?       24\n",
            "Name: count, dtype: int64\n"
          ]
        }
      ]
    },
    {
      "cell_type": "markdown",
      "source": [
        "Aquí sí que lo primero es eliminar los decimales al no haber flotantes."
      ],
      "metadata": {
        "id": "-SaGLKm1JfkW"
      }
    },
    {
      "cell_type": "code",
      "source": [
        "# Convertir la columna 'slope' a tipo string y eliminar decimales\n",
        "df['slope'] = df['slope'].astype(str).str.split('.').str[0]\n",
        "\n",
        "# Mostrar la distribución de valores de la variable 'slope'\n",
        "distribucion_slope = df['slope'].value_counts().sort_index()\n",
        "print(distribucion_slope)\n"
      ],
      "metadata": {
        "colab": {
          "base_uri": "https://localhost:8080/"
        },
        "id": "MteIrp5cKE80",
        "outputId": "18760dee-57aa-43fa-85c8-91cfa71bf4c5"
      },
      "execution_count": 434,
      "outputs": [
        {
          "output_type": "stream",
          "name": "stdout",
          "text": [
            "slope\n",
            "-9    37\n",
            "1     44\n",
            "2     67\n",
            "3     12\n",
            "?     24\n",
            "Name: count, dtype: int64\n"
          ]
        }
      ]
    },
    {
      "cell_type": "markdown",
      "source": [
        "Aquí al no conocer el alcance exacto de la variable ni la importancia, y al haber una gran cantidad de registros desconocidos que no podemos descartar al ser muy elevado, procedemos a cambiarlos por la moda, que parece a priori que tiene una tendencia plana."
      ],
      "metadata": {
        "id": "SJbX9E63JfZD"
      }
    },
    {
      "cell_type": "code",
      "source": [
        "# Reemplazar los valores '?' por 1 en la columna 'slope'\n",
        "df['slope'].replace('?', '1', inplace=True)\n",
        "\n",
        "# Reemplazar los valores -9 por 1 en la columna 'slope'\n",
        "df['slope'].replace('-9', '1', inplace=True)\n",
        "\n",
        "# Convertir la columna 'slope' a tipo entero\n",
        "df['slope'] = df['slope'].astype(int)\n",
        "\n",
        "# Mostrar la distribución actualizada de valores de la variable 'slope'\n",
        "distribucion_slope = df['slope'].value_counts().sort_index()\n",
        "print(distribucion_slope)\n"
      ],
      "metadata": {
        "colab": {
          "base_uri": "https://localhost:8080/"
        },
        "id": "24ErASmWKzbC",
        "outputId": "db7a13ae-53db-47f3-9d35-282461c30650"
      },
      "execution_count": 435,
      "outputs": [
        {
          "output_type": "stream",
          "name": "stdout",
          "text": [
            "slope\n",
            "1    105\n",
            "2     67\n",
            "3     12\n",
            "Name: count, dtype: int64\n"
          ]
        }
      ]
    },
    {
      "cell_type": "markdown",
      "source": [
        "Pasamos a la variable ca, que corresponde con el número de vasos mayores (0-3) coloreados por flouroscopia."
      ],
      "metadata": {
        "id": "egf_whmPLU6A"
      }
    },
    {
      "cell_type": "code",
      "source": [
        "# Mostrar la distribución de valores de la variable 'ca'\n",
        "distribucion_ca = df['ca'].value_counts().sort_index()\n",
        "print(distribucion_ca)\n"
      ],
      "metadata": {
        "colab": {
          "base_uri": "https://localhost:8080/"
        },
        "id": "CfkMz1mHLgW0",
        "outputId": "d2b88eef-46a6-4d26-c9b3-09a28c901a3c"
      },
      "execution_count": 436,
      "outputs": [
        {
          "output_type": "stream",
          "name": "stdout",
          "text": [
            "ca\n",
            "-9.0    59\n",
            "0.0     33\n",
            "1        1\n",
            "1.0     12\n",
            "2        1\n",
            "2.0      5\n",
            "3.0      3\n",
            "9.0      1\n",
            "?       69\n",
            "Name: count, dtype: int64\n"
          ]
        }
      ]
    },
    {
      "cell_type": "markdown",
      "source": [
        "En primer lugar, como siempre, descartamos decimales al no existir flotantes."
      ],
      "metadata": {
        "id": "QJcHE_hBLplq"
      }
    },
    {
      "cell_type": "code",
      "source": [
        "# Descartar los decimales en la distribución de valores de la variable 'ca'\n",
        "df['ca'] = df['ca'].astype(str).str.split('.').str[0]\n",
        "\n",
        "# Mostrar la distribución actualizada de valores de la variable 'ca'\n",
        "distribucion_ca = df['ca'].value_counts().sort_index()\n",
        "print(distribucion_ca)\n"
      ],
      "metadata": {
        "colab": {
          "base_uri": "https://localhost:8080/"
        },
        "id": "H8A82A4qLttg",
        "outputId": "519b2556-4ae4-4c1c-c989-83e5e7f8d6f8"
      },
      "execution_count": 437,
      "outputs": [
        {
          "output_type": "stream",
          "name": "stdout",
          "text": [
            "ca\n",
            "-9    59\n",
            "0     33\n",
            "1     13\n",
            "2      6\n",
            "3      3\n",
            "9      1\n",
            "?     69\n",
            "Name: count, dtype: int64\n"
          ]
        }
      ]
    },
    {
      "cell_type": "markdown",
      "source": [
        "Vemos que a priori no va a resultar una variable muy directa en el aprendizaje de la enfermedad, ya que hay más valores desconocidos que conocidos, por lo que simplemente los sustituiremos por la moda, que es el 0."
      ],
      "metadata": {
        "id": "JKd8FTsjL5q1"
      }
    },
    {
      "cell_type": "code",
      "source": [
        "# Reemplazar los valores '?' por '0' en la columna 'ca'\n",
        "df['ca'].replace('?', '0', inplace=True)\n",
        "\n",
        "# Reemplazar los valores '-9' por '0' en la columna 'ca'\n",
        "df['ca'].replace('-9', '0', inplace=True)\n",
        "\n",
        "# Mostrar la distribución actualizada de valores de la variable 'ca'\n",
        "distribucion_ca = df['ca'].value_counts().sort_index()\n",
        "print(distribucion_ca)\n"
      ],
      "metadata": {
        "colab": {
          "base_uri": "https://localhost:8080/"
        },
        "id": "6S7WcNl9MKCk",
        "outputId": "c2d868d1-346e-485f-fdd8-ef19bdce0711"
      },
      "execution_count": 438,
      "outputs": [
        {
          "output_type": "stream",
          "name": "stdout",
          "text": [
            "ca\n",
            "0    161\n",
            "1     13\n",
            "2      6\n",
            "3      3\n",
            "9      1\n",
            "Name: count, dtype: int64\n"
          ]
        }
      ]
    },
    {
      "cell_type": "markdown",
      "source": [
        "Para finalizar la limpieza, analizaremos la variable thal, que representa con los valores 3, 6 y 7 los valores normal, defecto fijo y defecto reversible respectivamente."
      ],
      "metadata": {
        "id": "FNO4PTOMNNK_"
      }
    },
    {
      "cell_type": "code",
      "source": [
        "# Mostrar la distribución de valores de la variable 'thal'\n",
        "distribucion_thal = df['thal'].value_counts().sort_index()\n",
        "print(distribucion_thal)\n"
      ],
      "metadata": {
        "colab": {
          "base_uri": "https://localhost:8080/"
        },
        "id": "iExlnZRQNQQ3",
        "outputId": "c8597be8-e7b3-476b-a55c-b82b90afa93b"
      },
      "execution_count": 439,
      "outputs": [
        {
          "output_type": "stream",
          "name": "stdout",
          "text": [
            "thal\n",
            "-9.0    55\n",
            "3        3\n",
            "3.0     36\n",
            "6        4\n",
            "6.0      5\n",
            "7       14\n",
            "7.0     18\n",
            "?       49\n",
            "Name: count, dtype: int64\n"
          ]
        }
      ]
    },
    {
      "cell_type": "markdown",
      "source": [
        "Descartamos decimales de la manera habitual."
      ],
      "metadata": {
        "id": "4CVBBmQMNgl0"
      }
    },
    {
      "cell_type": "code",
      "source": [
        "# Descartar los decimales en la distribución de valores de la variable 'thal'\n",
        "df['thal'] = df['thal'].astype(str).str.split('.').str[0]\n",
        "\n",
        "# Mostrar la distribución actualizada de valores de la variable 'thal'\n",
        "distribucion_thal = df['thal'].value_counts().sort_index()\n",
        "print(distribucion_thal)\n"
      ],
      "metadata": {
        "colab": {
          "base_uri": "https://localhost:8080/"
        },
        "id": "z4PJCl3dNjys",
        "outputId": "d143b400-e1f9-43ac-984c-8509d9cd19cc"
      },
      "execution_count": 440,
      "outputs": [
        {
          "output_type": "stream",
          "name": "stdout",
          "text": [
            "thal\n",
            "-9    55\n",
            "3     39\n",
            "6      9\n",
            "7     32\n",
            "?     49\n",
            "Name: count, dtype: int64\n"
          ]
        }
      ]
    },
    {
      "cell_type": "markdown",
      "source": [
        "Aquí, de manera similar a la varible ca estudiada previamente, al existir multitud de registros desconocidos y no sacar una tendencia clara, decidimos otorgar a los desconocidos un thal normal, de cara a alterar el algoritmo lo menos posible."
      ],
      "metadata": {
        "id": "kloxTrAqNsGx"
      }
    },
    {
      "cell_type": "code",
      "source": [
        "# Reemplazar los valores '?' por '3' en la columna 'thal'\n",
        "df['thal'].replace('?', '3', inplace=True)\n",
        "\n",
        "# Reemplazar los valores '-9' por '3' en la columna 'thal'\n",
        "df['thal'].replace('-9', '3', inplace=True)\n",
        "\n",
        "# Mostrar la distribución actualizada de valores de la variable 'thal'\n",
        "distribucion_thal = df['thal'].value_counts().sort_index()\n",
        "print(distribucion_thal)\n"
      ],
      "metadata": {
        "colab": {
          "base_uri": "https://localhost:8080/"
        },
        "id": "QHJOR2CrN9zT",
        "outputId": "84bd1949-51be-4523-ef33-e29f2d96a0fb"
      },
      "execution_count": 441,
      "outputs": [
        {
          "output_type": "stream",
          "name": "stdout",
          "text": [
            "thal\n",
            "3    143\n",
            "6      9\n",
            "7     32\n",
            "Name: count, dtype: int64\n"
          ]
        }
      ]
    },
    {
      "cell_type": "markdown",
      "source": [
        "Con esto daríamos por finalizada la primera limpieza del dataset de entrenamiento, por lo que podemos proceder a descargarlo."
      ],
      "metadata": {
        "id": "BMVbQddUOMPP"
      }
    },
    {
      "cell_type": "code",
      "source": [
        "df.info()"
      ],
      "metadata": {
        "colab": {
          "base_uri": "https://localhost:8080/"
        },
        "id": "5MFO55ozQIJU",
        "outputId": "efb26ff7-317c-484a-96dd-953c4d10c767"
      },
      "execution_count": 442,
      "outputs": [
        {
          "output_type": "stream",
          "name": "stdout",
          "text": [
            "<class 'pandas.core.frame.DataFrame'>\n",
            "RangeIndex: 184 entries, 0 to 183\n",
            "Data columns (total 13 columns):\n",
            " #   Column    Non-Null Count  Dtype  \n",
            "---  ------    --------------  -----  \n",
            " 0   age       184 non-null    int64  \n",
            " 1   sex       184 non-null    int64  \n",
            " 2   cp        184 non-null    int64  \n",
            " 3   trestbps  184 non-null    int64  \n",
            " 4   chol      184 non-null    int64  \n",
            " 5   fbs       184 non-null    int64  \n",
            " 6   restecg   184 non-null    object \n",
            " 7   thalach   184 non-null    object \n",
            " 8   exang     184 non-null    int64  \n",
            " 9   oldpeak   184 non-null    float64\n",
            " 10  slope     184 non-null    int64  \n",
            " 11  ca        184 non-null    object \n",
            " 12  thal      184 non-null    object \n",
            "dtypes: float64(1), int64(8), object(4)\n",
            "memory usage: 18.8+ KB\n"
          ]
        }
      ]
    },
    {
      "cell_type": "code",
      "source": [
        "from google.colab import files\n",
        "\n",
        "# Guardar el DataFrame modificado como un nuevo archivo CSV\n",
        "df.to_csv('train_cleaned.csv', index=False)\n",
        "\n",
        "# Descargar el archivo CSV a tu computadora local\n",
        "files.download('train_cleaned.csv')\n"
      ],
      "metadata": {
        "colab": {
          "base_uri": "https://localhost:8080/",
          "height": 17
        },
        "id": "-ZDNz6I9Jn-N",
        "outputId": "630fc5b1-2d09-41b2-801f-44d306cd28b1"
      },
      "execution_count": 352,
      "outputs": [
        {
          "output_type": "display_data",
          "data": {
            "text/plain": [
              "<IPython.core.display.Javascript object>"
            ],
            "application/javascript": [
              "\n",
              "    async function download(id, filename, size) {\n",
              "      if (!google.colab.kernel.accessAllowed) {\n",
              "        return;\n",
              "      }\n",
              "      const div = document.createElement('div');\n",
              "      const label = document.createElement('label');\n",
              "      label.textContent = `Downloading \"${filename}\": `;\n",
              "      div.appendChild(label);\n",
              "      const progress = document.createElement('progress');\n",
              "      progress.max = size;\n",
              "      div.appendChild(progress);\n",
              "      document.body.appendChild(div);\n",
              "\n",
              "      const buffers = [];\n",
              "      let downloaded = 0;\n",
              "\n",
              "      const channel = await google.colab.kernel.comms.open(id);\n",
              "      // Send a message to notify the kernel that we're ready.\n",
              "      channel.send({})\n",
              "\n",
              "      for await (const message of channel.messages) {\n",
              "        // Send a message to notify the kernel that we're ready.\n",
              "        channel.send({})\n",
              "        if (message.buffers) {\n",
              "          for (const buffer of message.buffers) {\n",
              "            buffers.push(buffer);\n",
              "            downloaded += buffer.byteLength;\n",
              "            progress.value = downloaded;\n",
              "          }\n",
              "        }\n",
              "      }\n",
              "      const blob = new Blob(buffers, {type: 'application/binary'});\n",
              "      const a = document.createElement('a');\n",
              "      a.href = window.URL.createObjectURL(blob);\n",
              "      a.download = filename;\n",
              "      div.appendChild(a);\n",
              "      a.click();\n",
              "      div.remove();\n",
              "    }\n",
              "  "
            ]
          },
          "metadata": {}
        },
        {
          "output_type": "display_data",
          "data": {
            "text/plain": [
              "<IPython.core.display.Javascript object>"
            ],
            "application/javascript": [
              "download(\"download_48c71fa1-6aef-48d2-98e8-24c643a52f67\", \"train_cleaned.csv\", 26764)"
            ]
          },
          "metadata": {}
        }
      ]
    },
    {
      "cell_type": "markdown",
      "source": [
        "Una vez limpio el dataset de train, realizamos la limpieza sobre el dataset de test, y vemos los resultados."
      ],
      "metadata": {
        "id": "5Ao8CEbQhYy6"
      }
    },
    {
      "cell_type": "code",
      "source": [
        "ruta = \"/content/test.csv\"\n",
        "df = pd.read_csv(ruta)"
      ],
      "metadata": {
        "id": "CPa_Oz2ofNy0"
      },
      "execution_count": 402,
      "outputs": []
    },
    {
      "cell_type": "code",
      "source": [
        "from google.colab import files\n",
        "\n",
        "# Guardar el DataFrame modificado como un nuevo archivo CSV\n",
        "df.to_csv('test_cleaned.csv', index=False)\n",
        "\n",
        "# Descargar el archivo CSV a tu computadora local\n",
        "files.download('test_cleaned.csv')"
      ],
      "metadata": {
        "colab": {
          "base_uri": "https://localhost:8080/",
          "height": 17
        },
        "id": "t4MB8jtIcYP3",
        "outputId": "3078491d-a253-436c-ff4b-79205491f3e7"
      },
      "execution_count": 444,
      "outputs": [
        {
          "output_type": "display_data",
          "data": {
            "text/plain": [
              "<IPython.core.display.Javascript object>"
            ],
            "application/javascript": [
              "\n",
              "    async function download(id, filename, size) {\n",
              "      if (!google.colab.kernel.accessAllowed) {\n",
              "        return;\n",
              "      }\n",
              "      const div = document.createElement('div');\n",
              "      const label = document.createElement('label');\n",
              "      label.textContent = `Downloading \"${filename}\": `;\n",
              "      div.appendChild(label);\n",
              "      const progress = document.createElement('progress');\n",
              "      progress.max = size;\n",
              "      div.appendChild(progress);\n",
              "      document.body.appendChild(div);\n",
              "\n",
              "      const buffers = [];\n",
              "      let downloaded = 0;\n",
              "\n",
              "      const channel = await google.colab.kernel.comms.open(id);\n",
              "      // Send a message to notify the kernel that we're ready.\n",
              "      channel.send({})\n",
              "\n",
              "      for await (const message of channel.messages) {\n",
              "        // Send a message to notify the kernel that we're ready.\n",
              "        channel.send({})\n",
              "        if (message.buffers) {\n",
              "          for (const buffer of message.buffers) {\n",
              "            buffers.push(buffer);\n",
              "            downloaded += buffer.byteLength;\n",
              "            progress.value = downloaded;\n",
              "          }\n",
              "        }\n",
              "      }\n",
              "      const blob = new Blob(buffers, {type: 'application/binary'});\n",
              "      const a = document.createElement('a');\n",
              "      a.href = window.URL.createObjectURL(blob);\n",
              "      a.download = filename;\n",
              "      div.appendChild(a);\n",
              "      a.click();\n",
              "      div.remove();\n",
              "    }\n",
              "  "
            ]
          },
          "metadata": {}
        },
        {
          "output_type": "display_data",
          "data": {
            "text/plain": [
              "<IPython.core.display.Javascript object>"
            ],
            "application/javascript": [
              "download(\"download_40d1cffe-3d41-45fe-a133-e7b165e33dc9\", \"test_cleaned.csv\", 6404)"
            ]
          },
          "metadata": {}
        }
      ]
    },
    {
      "cell_type": "markdown",
      "source": [
        "Observamos que algunos campos no se han limpiado correctamente debido a la diferencia de valores con el dataset de test, por el que añadimos manualmente las mismas lógicas que para el dataset de train."
      ],
      "metadata": {
        "id": "RFDRTSA9h5VG"
      }
    },
    {
      "cell_type": "markdown",
      "source": [
        "# 2. Primera aproximación"
      ],
      "metadata": {
        "id": "5Jca8hxFleti"
      }
    },
    {
      "cell_type": "markdown",
      "source": [
        "En esta primera aproximación, vamos a generar un primer modelo de prueba kNN sobre el dataset de train y aplicarlo sobre el de test, generando un primer csv estimando las enfermedades de cada uno de los pacientes."
      ],
      "metadata": {
        "id": "Kh7KoJPdliqC"
      }
    },
    {
      "cell_type": "code",
      "source": [
        "ruta = \"/content/train_cleaned.csv\"\n",
        "df_train = pd.read_csv(ruta)"
      ],
      "metadata": {
        "id": "QPFVWzcRiKAl"
      },
      "execution_count": 468,
      "outputs": []
    },
    {
      "cell_type": "code",
      "source": [
        "ruta = \"/content/test_cleaned.csv\"\n",
        "# Lee el archivo CSV especificando el separador como punto y coma\n",
        "df_test = pd.read_csv(ruta, sep=';')"
      ],
      "metadata": {
        "id": "3RxY50kHl-z0"
      },
      "execution_count": 480,
      "outputs": []
    },
    {
      "cell_type": "code",
      "source": [
        "df_train.info()"
      ],
      "metadata": {
        "colab": {
          "base_uri": "https://localhost:8080/"
        },
        "id": "kpqCOMVHmFKZ",
        "outputId": "3b7e0b5c-3d18-4745-f3fb-17da61d7f459"
      },
      "execution_count": 473,
      "outputs": [
        {
          "output_type": "stream",
          "name": "stdout",
          "text": [
            "<class 'pandas.core.frame.DataFrame'>\n",
            "RangeIndex: 731 entries, 0 to 730\n",
            "Data columns (total 14 columns):\n",
            " #   Column    Non-Null Count  Dtype  \n",
            "---  ------    --------------  -----  \n",
            " 0   age       731 non-null    int64  \n",
            " 1   sex       731 non-null    int64  \n",
            " 2   cp        731 non-null    int64  \n",
            " 3   trestbps  731 non-null    int64  \n",
            " 4   chol      731 non-null    int64  \n",
            " 5   fbs       731 non-null    int64  \n",
            " 6   restecg   731 non-null    int64  \n",
            " 7   thalach   731 non-null    int64  \n",
            " 8   exang     731 non-null    int64  \n",
            " 9   oldpeak   731 non-null    float64\n",
            " 10  slope     731 non-null    int64  \n",
            " 11  ca        731 non-null    int64  \n",
            " 12  thal      731 non-null    int64  \n",
            " 13  label     731 non-null    int64  \n",
            "dtypes: float64(1), int64(13)\n",
            "memory usage: 80.1 KB\n"
          ]
        }
      ]
    },
    {
      "cell_type": "code",
      "source": [
        "df_test.info()"
      ],
      "metadata": {
        "colab": {
          "base_uri": "https://localhost:8080/"
        },
        "id": "0jMxEY8fmO-R",
        "outputId": "803e96cb-fba2-4b2f-81e8-dcfad4a9b03f"
      },
      "execution_count": 481,
      "outputs": [
        {
          "output_type": "stream",
          "name": "stdout",
          "text": [
            "<class 'pandas.core.frame.DataFrame'>\n",
            "RangeIndex: 184 entries, 0 to 183\n",
            "Data columns (total 13 columns):\n",
            " #   Column    Non-Null Count  Dtype  \n",
            "---  ------    --------------  -----  \n",
            " 0   age       184 non-null    int64  \n",
            " 1   sex       184 non-null    int64  \n",
            " 2   cp        184 non-null    int64  \n",
            " 3   trestbps  184 non-null    int64  \n",
            " 4   chol      184 non-null    int64  \n",
            " 5   fbs       184 non-null    int64  \n",
            " 6   restecg   184 non-null    int64  \n",
            " 7   thalach   184 non-null    int64  \n",
            " 8   exang     184 non-null    int64  \n",
            " 9   oldpeak   184 non-null    float64\n",
            " 10  slope     184 non-null    int64  \n",
            " 11  ca        184 non-null    int64  \n",
            " 12  thal      184 non-null    int64  \n",
            "dtypes: float64(1), int64(12)\n",
            "memory usage: 18.8 KB\n"
          ]
        }
      ]
    },
    {
      "cell_type": "code",
      "source": [
        "import pandas as pd\n",
        "from sklearn.linear_model import LogisticRegression\n",
        "\n",
        "# Cargar conjunto de datos de entrenamiento y prueba\n",
        "# Supongamos que df_train y df_test ya están cargados con la estructura adecuada\n",
        "\n",
        "# Preparar datos de entrenamiento y prueba\n",
        "X_train = df_train.drop(columns=['label'])  # características\n",
        "y_train = df_train['label']  # variable objetivo\n",
        "\n",
        "# Entrenar un modelo de Regresión Logística\n",
        "model = LogisticRegression()\n",
        "model.fit(X_train, y_train)\n",
        "\n",
        "# Realizar predicciones sobre los datos de prueba\n",
        "predictions = model.predict(df_test)\n",
        "\n",
        "# Crear un DataFrame con los resultados\n",
        "df_results = pd.DataFrame({'ID': range(len(df_test)), 'label': predictions})\n",
        "\n",
        "# Mostrar el DataFrame con los resultados\n",
        "print(df_results)\n"
      ],
      "metadata": {
        "colab": {
          "base_uri": "https://localhost:8080/"
        },
        "id": "hFmK8Ajem8IF",
        "outputId": "69ef4ca7-8486-4967-aab6-d228be99fca0"
      },
      "execution_count": 489,
      "outputs": [
        {
          "output_type": "stream",
          "name": "stdout",
          "text": [
            "      ID  label\n",
            "0      0      3\n",
            "1      1      0\n",
            "2      2      1\n",
            "3      3      1\n",
            "4      4      0\n",
            "..   ...    ...\n",
            "179  179      0\n",
            "180  180      0\n",
            "181  181      1\n",
            "182  182      0\n",
            "183  183      0\n",
            "\n",
            "[184 rows x 2 columns]\n"
          ]
        },
        {
          "output_type": "stream",
          "name": "stderr",
          "text": [
            "/usr/local/lib/python3.10/dist-packages/sklearn/linear_model/_logistic.py:458: ConvergenceWarning: lbfgs failed to converge (status=1):\n",
            "STOP: TOTAL NO. of ITERATIONS REACHED LIMIT.\n",
            "\n",
            "Increase the number of iterations (max_iter) or scale the data as shown in:\n",
            "    https://scikit-learn.org/stable/modules/preprocessing.html\n",
            "Please also refer to the documentation for alternative solver options:\n",
            "    https://scikit-learn.org/stable/modules/linear_model.html#logistic-regression\n",
            "  n_iter_i = _check_optimize_result(\n"
          ]
        }
      ]
    },
    {
      "cell_type": "code",
      "source": [
        "from google.colab import files\n",
        "\n",
        "# Guardar el DataFrame modificado como un nuevo archivo CSV\n",
        "df_results.to_csv('sample_submission.csv', index=False)\n",
        "\n",
        "# Descargar el archivo CSV a tu computadora local\n",
        "files.download('sample_submission.csv')"
      ],
      "metadata": {
        "colab": {
          "base_uri": "https://localhost:8080/",
          "height": 17
        },
        "id": "CPmiXClmq6jw",
        "outputId": "37823d97-01b8-4450-9641-cad6e9a36116"
      },
      "execution_count": 484,
      "outputs": [
        {
          "output_type": "display_data",
          "data": {
            "text/plain": [
              "<IPython.core.display.Javascript object>"
            ],
            "application/javascript": [
              "\n",
              "    async function download(id, filename, size) {\n",
              "      if (!google.colab.kernel.accessAllowed) {\n",
              "        return;\n",
              "      }\n",
              "      const div = document.createElement('div');\n",
              "      const label = document.createElement('label');\n",
              "      label.textContent = `Downloading \"${filename}\": `;\n",
              "      div.appendChild(label);\n",
              "      const progress = document.createElement('progress');\n",
              "      progress.max = size;\n",
              "      div.appendChild(progress);\n",
              "      document.body.appendChild(div);\n",
              "\n",
              "      const buffers = [];\n",
              "      let downloaded = 0;\n",
              "\n",
              "      const channel = await google.colab.kernel.comms.open(id);\n",
              "      // Send a message to notify the kernel that we're ready.\n",
              "      channel.send({})\n",
              "\n",
              "      for await (const message of channel.messages) {\n",
              "        // Send a message to notify the kernel that we're ready.\n",
              "        channel.send({})\n",
              "        if (message.buffers) {\n",
              "          for (const buffer of message.buffers) {\n",
              "            buffers.push(buffer);\n",
              "            downloaded += buffer.byteLength;\n",
              "            progress.value = downloaded;\n",
              "          }\n",
              "        }\n",
              "      }\n",
              "      const blob = new Blob(buffers, {type: 'application/binary'});\n",
              "      const a = document.createElement('a');\n",
              "      a.href = window.URL.createObjectURL(blob);\n",
              "      a.download = filename;\n",
              "      div.appendChild(a);\n",
              "      a.click();\n",
              "      div.remove();\n",
              "    }\n",
              "  "
            ]
          },
          "metadata": {}
        },
        {
          "output_type": "display_data",
          "data": {
            "text/plain": [
              "<IPython.core.display.Javascript object>"
            ],
            "application/javascript": [
              "download(\"download_2d0c004d-a918-4002-beb4-f4048e4e9fa0\", \"sample_submission.csv\", 1003)"
            ]
          },
          "metadata": {}
        }
      ]
    }
  ]
}