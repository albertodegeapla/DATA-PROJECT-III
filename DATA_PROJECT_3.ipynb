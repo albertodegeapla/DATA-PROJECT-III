{
  "nbformat": 4,
  "nbformat_minor": 0,
  "metadata": {
    "colab": {
      "provenance": []
    },
    "kernelspec": {
      "name": "python3",
      "display_name": "Python 3"
    },
    "language_info": {
      "name": "python"
    }
  },
  "cells": [
    {
      "cell_type": "code",
      "execution_count": 68,
      "metadata": {
        "id": "zjAQlEwHFRys"
      },
      "outputs": [],
      "source": [
        "# imports\n",
        "from sklearn.datasets import load_iris\n",
        "import numpy as np\n",
        "import pandas as pd"
      ]
    },
    {
      "cell_type": "code",
      "source": [
        "ruta = \"/content/train.csv\"\n",
        "df = pd.read_csv(ruta)"
      ],
      "metadata": {
        "id": "8JfzcZH6FmBp"
      },
      "execution_count": 69,
      "outputs": []
    },
    {
      "cell_type": "code",
      "source": [
        "print(df.shape)\n",
        "df.head()"
      ],
      "metadata": {
        "colab": {
          "base_uri": "https://localhost:8080/",
          "height": 223
        },
        "id": "veqv6yxwGNhS",
        "outputId": "2717643f-16a5-4822-d93d-a03a35ceef31"
      },
      "execution_count": 70,
      "outputs": [
        {
          "output_type": "stream",
          "name": "stdout",
          "text": [
            "(732, 14)\n"
          ]
        },
        {
          "output_type": "execute_result",
          "data": {
            "text/plain": [
              "    age  sex   cp trestbps   chol  fbs  restecg thalach exang oldpeak slope  \\\n",
              "0  51.0  1.0  1.0    125.0  213.0  0.0      2.0   125.0   1.0     1.4   1.0   \n",
              "1  54.0  1.0  3.0    120.0  237.0  0.0      0.0   150.0   1.0     1.5  -9.0   \n",
              "2  63.0  1.0  4.0      140      0    ?      2.0     149     0       2     1   \n",
              "3  52.0  0.0  2.0    140.0   -9.0  0.0      0.0   140.0   0.0     0.0  -9.0   \n",
              "4  55.0  1.0  4.0    140.0  217.0  0.0      0.0   111.0   1.0     5.6   3.0   \n",
              "\n",
              "     ca  thal  label  \n",
              "0   1.0   3.0      0  \n",
              "1  -9.0   7.0      2  \n",
              "2     ?     ?      2  \n",
              "3  -9.0  -9.0      0  \n",
              "4   0.0   7.0      3  "
            ],
            "text/html": [
              "\n",
              "  <div id=\"df-7b477a8d-8a16-4896-9527-5d6ce3087715\" class=\"colab-df-container\">\n",
              "    <div>\n",
              "<style scoped>\n",
              "    .dataframe tbody tr th:only-of-type {\n",
              "        vertical-align: middle;\n",
              "    }\n",
              "\n",
              "    .dataframe tbody tr th {\n",
              "        vertical-align: top;\n",
              "    }\n",
              "\n",
              "    .dataframe thead th {\n",
              "        text-align: right;\n",
              "    }\n",
              "</style>\n",
              "<table border=\"1\" class=\"dataframe\">\n",
              "  <thead>\n",
              "    <tr style=\"text-align: right;\">\n",
              "      <th></th>\n",
              "      <th>age</th>\n",
              "      <th>sex</th>\n",
              "      <th>cp</th>\n",
              "      <th>trestbps</th>\n",
              "      <th>chol</th>\n",
              "      <th>fbs</th>\n",
              "      <th>restecg</th>\n",
              "      <th>thalach</th>\n",
              "      <th>exang</th>\n",
              "      <th>oldpeak</th>\n",
              "      <th>slope</th>\n",
              "      <th>ca</th>\n",
              "      <th>thal</th>\n",
              "      <th>label</th>\n",
              "    </tr>\n",
              "  </thead>\n",
              "  <tbody>\n",
              "    <tr>\n",
              "      <th>0</th>\n",
              "      <td>51.0</td>\n",
              "      <td>1.0</td>\n",
              "      <td>1.0</td>\n",
              "      <td>125.0</td>\n",
              "      <td>213.0</td>\n",
              "      <td>0.0</td>\n",
              "      <td>2.0</td>\n",
              "      <td>125.0</td>\n",
              "      <td>1.0</td>\n",
              "      <td>1.4</td>\n",
              "      <td>1.0</td>\n",
              "      <td>1.0</td>\n",
              "      <td>3.0</td>\n",
              "      <td>0</td>\n",
              "    </tr>\n",
              "    <tr>\n",
              "      <th>1</th>\n",
              "      <td>54.0</td>\n",
              "      <td>1.0</td>\n",
              "      <td>3.0</td>\n",
              "      <td>120.0</td>\n",
              "      <td>237.0</td>\n",
              "      <td>0.0</td>\n",
              "      <td>0.0</td>\n",
              "      <td>150.0</td>\n",
              "      <td>1.0</td>\n",
              "      <td>1.5</td>\n",
              "      <td>-9.0</td>\n",
              "      <td>-9.0</td>\n",
              "      <td>7.0</td>\n",
              "      <td>2</td>\n",
              "    </tr>\n",
              "    <tr>\n",
              "      <th>2</th>\n",
              "      <td>63.0</td>\n",
              "      <td>1.0</td>\n",
              "      <td>4.0</td>\n",
              "      <td>140</td>\n",
              "      <td>0</td>\n",
              "      <td>?</td>\n",
              "      <td>2.0</td>\n",
              "      <td>149</td>\n",
              "      <td>0</td>\n",
              "      <td>2</td>\n",
              "      <td>1</td>\n",
              "      <td>?</td>\n",
              "      <td>?</td>\n",
              "      <td>2</td>\n",
              "    </tr>\n",
              "    <tr>\n",
              "      <th>3</th>\n",
              "      <td>52.0</td>\n",
              "      <td>0.0</td>\n",
              "      <td>2.0</td>\n",
              "      <td>140.0</td>\n",
              "      <td>-9.0</td>\n",
              "      <td>0.0</td>\n",
              "      <td>0.0</td>\n",
              "      <td>140.0</td>\n",
              "      <td>0.0</td>\n",
              "      <td>0.0</td>\n",
              "      <td>-9.0</td>\n",
              "      <td>-9.0</td>\n",
              "      <td>-9.0</td>\n",
              "      <td>0</td>\n",
              "    </tr>\n",
              "    <tr>\n",
              "      <th>4</th>\n",
              "      <td>55.0</td>\n",
              "      <td>1.0</td>\n",
              "      <td>4.0</td>\n",
              "      <td>140.0</td>\n",
              "      <td>217.0</td>\n",
              "      <td>0.0</td>\n",
              "      <td>0.0</td>\n",
              "      <td>111.0</td>\n",
              "      <td>1.0</td>\n",
              "      <td>5.6</td>\n",
              "      <td>3.0</td>\n",
              "      <td>0.0</td>\n",
              "      <td>7.0</td>\n",
              "      <td>3</td>\n",
              "    </tr>\n",
              "  </tbody>\n",
              "</table>\n",
              "</div>\n",
              "    <div class=\"colab-df-buttons\">\n",
              "\n",
              "  <div class=\"colab-df-container\">\n",
              "    <button class=\"colab-df-convert\" onclick=\"convertToInteractive('df-7b477a8d-8a16-4896-9527-5d6ce3087715')\"\n",
              "            title=\"Convert this dataframe to an interactive table.\"\n",
              "            style=\"display:none;\">\n",
              "\n",
              "  <svg xmlns=\"http://www.w3.org/2000/svg\" height=\"24px\" viewBox=\"0 -960 960 960\">\n",
              "    <path d=\"M120-120v-720h720v720H120Zm60-500h600v-160H180v160Zm220 220h160v-160H400v160Zm0 220h160v-160H400v160ZM180-400h160v-160H180v160Zm440 0h160v-160H620v160ZM180-180h160v-160H180v160Zm440 0h160v-160H620v160Z\"/>\n",
              "  </svg>\n",
              "    </button>\n",
              "\n",
              "  <style>\n",
              "    .colab-df-container {\n",
              "      display:flex;\n",
              "      gap: 12px;\n",
              "    }\n",
              "\n",
              "    .colab-df-convert {\n",
              "      background-color: #E8F0FE;\n",
              "      border: none;\n",
              "      border-radius: 50%;\n",
              "      cursor: pointer;\n",
              "      display: none;\n",
              "      fill: #1967D2;\n",
              "      height: 32px;\n",
              "      padding: 0 0 0 0;\n",
              "      width: 32px;\n",
              "    }\n",
              "\n",
              "    .colab-df-convert:hover {\n",
              "      background-color: #E2EBFA;\n",
              "      box-shadow: 0px 1px 2px rgba(60, 64, 67, 0.3), 0px 1px 3px 1px rgba(60, 64, 67, 0.15);\n",
              "      fill: #174EA6;\n",
              "    }\n",
              "\n",
              "    .colab-df-buttons div {\n",
              "      margin-bottom: 4px;\n",
              "    }\n",
              "\n",
              "    [theme=dark] .colab-df-convert {\n",
              "      background-color: #3B4455;\n",
              "      fill: #D2E3FC;\n",
              "    }\n",
              "\n",
              "    [theme=dark] .colab-df-convert:hover {\n",
              "      background-color: #434B5C;\n",
              "      box-shadow: 0px 1px 3px 1px rgba(0, 0, 0, 0.15);\n",
              "      filter: drop-shadow(0px 1px 2px rgba(0, 0, 0, 0.3));\n",
              "      fill: #FFFFFF;\n",
              "    }\n",
              "  </style>\n",
              "\n",
              "    <script>\n",
              "      const buttonEl =\n",
              "        document.querySelector('#df-7b477a8d-8a16-4896-9527-5d6ce3087715 button.colab-df-convert');\n",
              "      buttonEl.style.display =\n",
              "        google.colab.kernel.accessAllowed ? 'block' : 'none';\n",
              "\n",
              "      async function convertToInteractive(key) {\n",
              "        const element = document.querySelector('#df-7b477a8d-8a16-4896-9527-5d6ce3087715');\n",
              "        const dataTable =\n",
              "          await google.colab.kernel.invokeFunction('convertToInteractive',\n",
              "                                                    [key], {});\n",
              "        if (!dataTable) return;\n",
              "\n",
              "        const docLinkHtml = 'Like what you see? Visit the ' +\n",
              "          '<a target=\"_blank\" href=https://colab.research.google.com/notebooks/data_table.ipynb>data table notebook</a>'\n",
              "          + ' to learn more about interactive tables.';\n",
              "        element.innerHTML = '';\n",
              "        dataTable['output_type'] = 'display_data';\n",
              "        await google.colab.output.renderOutput(dataTable, element);\n",
              "        const docLink = document.createElement('div');\n",
              "        docLink.innerHTML = docLinkHtml;\n",
              "        element.appendChild(docLink);\n",
              "      }\n",
              "    </script>\n",
              "  </div>\n",
              "\n",
              "\n",
              "<div id=\"df-e844c9fb-6a02-416d-a3e4-51f5d332a35d\">\n",
              "  <button class=\"colab-df-quickchart\" onclick=\"quickchart('df-e844c9fb-6a02-416d-a3e4-51f5d332a35d')\"\n",
              "            title=\"Suggest charts\"\n",
              "            style=\"display:none;\">\n",
              "\n",
              "<svg xmlns=\"http://www.w3.org/2000/svg\" height=\"24px\"viewBox=\"0 0 24 24\"\n",
              "     width=\"24px\">\n",
              "    <g>\n",
              "        <path d=\"M19 3H5c-1.1 0-2 .9-2 2v14c0 1.1.9 2 2 2h14c1.1 0 2-.9 2-2V5c0-1.1-.9-2-2-2zM9 17H7v-7h2v7zm4 0h-2V7h2v10zm4 0h-2v-4h2v4z\"/>\n",
              "    </g>\n",
              "</svg>\n",
              "  </button>\n",
              "\n",
              "<style>\n",
              "  .colab-df-quickchart {\n",
              "      --bg-color: #E8F0FE;\n",
              "      --fill-color: #1967D2;\n",
              "      --hover-bg-color: #E2EBFA;\n",
              "      --hover-fill-color: #174EA6;\n",
              "      --disabled-fill-color: #AAA;\n",
              "      --disabled-bg-color: #DDD;\n",
              "  }\n",
              "\n",
              "  [theme=dark] .colab-df-quickchart {\n",
              "      --bg-color: #3B4455;\n",
              "      --fill-color: #D2E3FC;\n",
              "      --hover-bg-color: #434B5C;\n",
              "      --hover-fill-color: #FFFFFF;\n",
              "      --disabled-bg-color: #3B4455;\n",
              "      --disabled-fill-color: #666;\n",
              "  }\n",
              "\n",
              "  .colab-df-quickchart {\n",
              "    background-color: var(--bg-color);\n",
              "    border: none;\n",
              "    border-radius: 50%;\n",
              "    cursor: pointer;\n",
              "    display: none;\n",
              "    fill: var(--fill-color);\n",
              "    height: 32px;\n",
              "    padding: 0;\n",
              "    width: 32px;\n",
              "  }\n",
              "\n",
              "  .colab-df-quickchart:hover {\n",
              "    background-color: var(--hover-bg-color);\n",
              "    box-shadow: 0 1px 2px rgba(60, 64, 67, 0.3), 0 1px 3px 1px rgba(60, 64, 67, 0.15);\n",
              "    fill: var(--button-hover-fill-color);\n",
              "  }\n",
              "\n",
              "  .colab-df-quickchart-complete:disabled,\n",
              "  .colab-df-quickchart-complete:disabled:hover {\n",
              "    background-color: var(--disabled-bg-color);\n",
              "    fill: var(--disabled-fill-color);\n",
              "    box-shadow: none;\n",
              "  }\n",
              "\n",
              "  .colab-df-spinner {\n",
              "    border: 2px solid var(--fill-color);\n",
              "    border-color: transparent;\n",
              "    border-bottom-color: var(--fill-color);\n",
              "    animation:\n",
              "      spin 1s steps(1) infinite;\n",
              "  }\n",
              "\n",
              "  @keyframes spin {\n",
              "    0% {\n",
              "      border-color: transparent;\n",
              "      border-bottom-color: var(--fill-color);\n",
              "      border-left-color: var(--fill-color);\n",
              "    }\n",
              "    20% {\n",
              "      border-color: transparent;\n",
              "      border-left-color: var(--fill-color);\n",
              "      border-top-color: var(--fill-color);\n",
              "    }\n",
              "    30% {\n",
              "      border-color: transparent;\n",
              "      border-left-color: var(--fill-color);\n",
              "      border-top-color: var(--fill-color);\n",
              "      border-right-color: var(--fill-color);\n",
              "    }\n",
              "    40% {\n",
              "      border-color: transparent;\n",
              "      border-right-color: var(--fill-color);\n",
              "      border-top-color: var(--fill-color);\n",
              "    }\n",
              "    60% {\n",
              "      border-color: transparent;\n",
              "      border-right-color: var(--fill-color);\n",
              "    }\n",
              "    80% {\n",
              "      border-color: transparent;\n",
              "      border-right-color: var(--fill-color);\n",
              "      border-bottom-color: var(--fill-color);\n",
              "    }\n",
              "    90% {\n",
              "      border-color: transparent;\n",
              "      border-bottom-color: var(--fill-color);\n",
              "    }\n",
              "  }\n",
              "</style>\n",
              "\n",
              "  <script>\n",
              "    async function quickchart(key) {\n",
              "      const quickchartButtonEl =\n",
              "        document.querySelector('#' + key + ' button');\n",
              "      quickchartButtonEl.disabled = true;  // To prevent multiple clicks.\n",
              "      quickchartButtonEl.classList.add('colab-df-spinner');\n",
              "      try {\n",
              "        const charts = await google.colab.kernel.invokeFunction(\n",
              "            'suggestCharts', [key], {});\n",
              "      } catch (error) {\n",
              "        console.error('Error during call to suggestCharts:', error);\n",
              "      }\n",
              "      quickchartButtonEl.classList.remove('colab-df-spinner');\n",
              "      quickchartButtonEl.classList.add('colab-df-quickchart-complete');\n",
              "    }\n",
              "    (() => {\n",
              "      let quickchartButtonEl =\n",
              "        document.querySelector('#df-e844c9fb-6a02-416d-a3e4-51f5d332a35d button');\n",
              "      quickchartButtonEl.style.display =\n",
              "        google.colab.kernel.accessAllowed ? 'block' : 'none';\n",
              "    })();\n",
              "  </script>\n",
              "</div>\n",
              "    </div>\n",
              "  </div>\n"
            ],
            "application/vnd.google.colaboratory.intrinsic+json": {
              "type": "dataframe",
              "variable_name": "df",
              "summary": "{\n  \"name\": \"df\",\n  \"rows\": 732,\n  \"fields\": [\n    {\n      \"column\": \"age\",\n      \"properties\": {\n        \"dtype\": \"number\",\n        \"std\": 9.306868347336913,\n        \"min\": 28.0,\n        \"max\": 76.0,\n        \"num_unique_values\": 49,\n        \"samples\": [\n          61.0,\n          72.0,\n          75.0\n        ],\n        \"semantic_type\": \"\",\n        \"description\": \"\"\n      }\n    },\n    {\n      \"column\": \"sex\",\n      \"properties\": {\n        \"dtype\": \"number\",\n        \"std\": 0.4078590005017088,\n        \"min\": 0.0,\n        \"max\": 1.0,\n        \"num_unique_values\": 2,\n        \"samples\": [\n          0.0,\n          1.0\n        ],\n        \"semantic_type\": \"\",\n        \"description\": \"\"\n      }\n    },\n    {\n      \"column\": \"cp\",\n      \"properties\": {\n        \"dtype\": \"number\",\n        \"std\": 0.9233629726205,\n        \"min\": 1.0,\n        \"max\": 4.0,\n        \"num_unique_values\": 4,\n        \"samples\": [\n          3.0,\n          2.0\n        ],\n        \"semantic_type\": \"\",\n        \"description\": \"\"\n      }\n    },\n    {\n      \"column\": \"trestbps\",\n      \"properties\": {\n        \"dtype\": \"category\",\n        \"num_unique_values\": 95,\n        \"samples\": [\n          \"102.0\",\n          \"190\"\n        ],\n        \"semantic_type\": \"\",\n        \"description\": \"\"\n      }\n    },\n    {\n      \"column\": \"chol\",\n      \"properties\": {\n        \"dtype\": \"category\",\n        \"num_unique_values\": 280,\n        \"samples\": [\n          \"254.0\",\n          \"184.0\"\n        ],\n        \"semantic_type\": \"\",\n        \"description\": \"\"\n      }\n    },\n    {\n      \"column\": \"fbs\",\n      \"properties\": {\n        \"dtype\": \"category\",\n        \"num_unique_values\": 6,\n        \"samples\": [\n          \"0.0\",\n          \"?\"\n        ],\n        \"semantic_type\": \"\",\n        \"description\": \"\"\n      }\n    },\n    {\n      \"column\": \"restecg\",\n      \"properties\": {\n        \"dtype\": \"number\",\n        \"std\": 0.8029660932328697,\n        \"min\": 0.0,\n        \"max\": 2.0,\n        \"num_unique_values\": 3,\n        \"samples\": [\n          2.0,\n          0.0\n        ],\n        \"semantic_type\": \"\",\n        \"description\": \"\"\n      }\n    },\n    {\n      \"column\": \"thalach\",\n      \"properties\": {\n        \"dtype\": \"category\",\n        \"num_unique_values\": 180,\n        \"samples\": [\n          \"122.0\",\n          \"175.0\"\n        ],\n        \"semantic_type\": \"\",\n        \"description\": \"\"\n      }\n    },\n    {\n      \"column\": \"exang\",\n      \"properties\": {\n        \"dtype\": \"category\",\n        \"num_unique_values\": 5,\n        \"samples\": [\n          \"0\",\n          \"?\"\n        ],\n        \"semantic_type\": \"\",\n        \"description\": \"\"\n      }\n    },\n    {\n      \"column\": \"oldpeak\",\n      \"properties\": {\n        \"dtype\": \"category\",\n        \"num_unique_values\": 64,\n        \"samples\": [\n          \"1.3\",\n          \"0.7\"\n        ],\n        \"semantic_type\": \"\",\n        \"description\": \"\"\n      }\n    },\n    {\n      \"column\": \"slope\",\n      \"properties\": {\n        \"dtype\": \"category\",\n        \"num_unique_values\": 8,\n        \"samples\": [\n          \"-9.0\",\n          \"2.0\"\n        ],\n        \"semantic_type\": \"\",\n        \"description\": \"\"\n      }\n    },\n    {\n      \"column\": \"ca\",\n      \"properties\": {\n        \"dtype\": \"category\",\n        \"num_unique_values\": 9,\n        \"samples\": [\n          \"0\",\n          \"-9.0\"\n        ],\n        \"semantic_type\": \"\",\n        \"description\": \"\"\n      }\n    },\n    {\n      \"column\": \"thal\",\n      \"properties\": {\n        \"dtype\": \"category\",\n        \"num_unique_values\": 8,\n        \"samples\": [\n          \"7.0\",\n          \"7\"\n        ],\n        \"semantic_type\": \"\",\n        \"description\": \"\"\n      }\n    },\n    {\n      \"column\": \"label\",\n      \"properties\": {\n        \"dtype\": \"number\",\n        \"std\": 1,\n        \"min\": 0,\n        \"max\": 4,\n        \"num_unique_values\": 5,\n        \"samples\": [\n          2,\n          1\n        ],\n        \"semantic_type\": \"\",\n        \"description\": \"\"\n      }\n    }\n  ]\n}"
            }
          },
          "metadata": {},
          "execution_count": 70
        }
      ]
    },
    {
      "cell_type": "code",
      "source": [
        "df.info()"
      ],
      "metadata": {
        "colab": {
          "base_uri": "https://localhost:8080/"
        },
        "id": "NHS8LDC7GRnQ",
        "outputId": "80179700-7fb9-4a97-d80a-88a4cbec925b"
      },
      "execution_count": 71,
      "outputs": [
        {
          "output_type": "stream",
          "name": "stdout",
          "text": [
            "<class 'pandas.core.frame.DataFrame'>\n",
            "RangeIndex: 732 entries, 0 to 731\n",
            "Data columns (total 14 columns):\n",
            " #   Column    Non-Null Count  Dtype  \n",
            "---  ------    --------------  -----  \n",
            " 0   age       732 non-null    float64\n",
            " 1   sex       732 non-null    float64\n",
            " 2   cp        732 non-null    float64\n",
            " 3   trestbps  732 non-null    object \n",
            " 4   chol      732 non-null    object \n",
            " 5   fbs       732 non-null    object \n",
            " 6   restecg   732 non-null    float64\n",
            " 7   thalach   732 non-null    object \n",
            " 8   exang     732 non-null    object \n",
            " 9   oldpeak   732 non-null    object \n",
            " 10  slope     732 non-null    object \n",
            " 11  ca        732 non-null    object \n",
            " 12  thal      732 non-null    object \n",
            " 13  label     732 non-null    int64  \n",
            "dtypes: float64(4), int64(1), object(9)\n",
            "memory usage: 80.2+ KB\n"
          ]
        }
      ]
    },
    {
      "cell_type": "markdown",
      "source": [
        "# 1. Limpieza del dataset de entrenamiento"
      ],
      "metadata": {
        "id": "9atSXFmVKBNC"
      }
    },
    {
      "cell_type": "markdown",
      "source": [
        "En esta primera fase, procederemos a limpiar el dataset siguiendo las situaciones más comunes."
      ],
      "metadata": {
        "id": "Ztfes9SIKFUq"
      }
    },
    {
      "cell_type": "markdown",
      "source": [
        "## 4.1 Datos faltantes"
      ],
      "metadata": {
        "id": "jfTFfFrMKWkl"
      }
    },
    {
      "cell_type": "markdown",
      "source": [
        "En primer lugar estudiaremos la existencia de registros incompletos en nuestro dataset."
      ],
      "metadata": {
        "id": "6fbONoU7Khmr"
      }
    },
    {
      "cell_type": "code",
      "source": [
        "# Ver valores nulos en el DataFrame\n",
        "valores_nulos = df.isnull().sum()\n",
        "\n",
        "# Imprimir el número de valores nulos en cada columna\n",
        "print(valores_nulos)"
      ],
      "metadata": {
        "colab": {
          "base_uri": "https://localhost:8080/"
        },
        "id": "V4KBvi6tGd8N",
        "outputId": "2d1c7bd3-825e-4eb7-cd7a-1060f2f68b77"
      },
      "execution_count": 72,
      "outputs": [
        {
          "output_type": "stream",
          "name": "stdout",
          "text": [
            "age         0\n",
            "sex         0\n",
            "cp          0\n",
            "trestbps    0\n",
            "chol        0\n",
            "fbs         0\n",
            "restecg     0\n",
            "thalach     0\n",
            "exang       0\n",
            "oldpeak     0\n",
            "slope       0\n",
            "ca          0\n",
            "thal        0\n",
            "label       0\n",
            "dtype: int64\n"
          ]
        }
      ]
    },
    {
      "cell_type": "markdown",
      "source": [
        "Observamos que no hay registros vacíos en el dataset de entrenamiento, por lo que procedemos al siguiente paso.\n",
        "\n",
        "En segundo lugar, estudiaremos el reparto de valores de cada variable buscando posibles anomalías.\n",
        "\n",
        "Empezamos con la variable de la edad."
      ],
      "metadata": {
        "id": "k2iQ9kOMK9DC"
      }
    },
    {
      "cell_type": "code",
      "source": [
        "# Obtener la distribución de valores de la variable \"age\" y ordenar por edad ascendente\n",
        "reparto_age = df['age'].value_counts().sort_index()\n",
        "\n",
        "# Imprimir el reparto de valores ordenado por edad ascendente\n",
        "print(reparto_age)\n"
      ],
      "metadata": {
        "colab": {
          "base_uri": "https://localhost:8080/"
        },
        "id": "k8JCYvfsLpkH",
        "outputId": "74a709bd-3e70-4f5b-e257-ca367406fea9"
      },
      "execution_count": 73,
      "outputs": [
        {
          "output_type": "stream",
          "name": "stdout",
          "text": [
            "age\n",
            "28.0     1\n",
            "29.0     2\n",
            "30.0     1\n",
            "31.0     2\n",
            "32.0     3\n",
            "33.0     1\n",
            "34.0     5\n",
            "35.0     8\n",
            "36.0     6\n",
            "37.0    10\n",
            "38.0    12\n",
            "39.0    13\n",
            "40.0     7\n",
            "41.0    24\n",
            "42.0    15\n",
            "43.0    19\n",
            "44.0    15\n",
            "45.0    14\n",
            "46.0    20\n",
            "47.0    13\n",
            "48.0    23\n",
            "49.0    22\n",
            "50.0    21\n",
            "51.0    27\n",
            "52.0    29\n",
            "53.0    27\n",
            "54.0    38\n",
            "55.0    29\n",
            "56.0    34\n",
            "57.0    33\n",
            "58.0    36\n",
            "59.0    29\n",
            "60.0    24\n",
            "61.0    25\n",
            "62.0    26\n",
            "63.0    24\n",
            "64.0    17\n",
            "65.0    14\n",
            "66.0    12\n",
            "67.0     9\n",
            "68.0     9\n",
            "69.0    12\n",
            "70.0     5\n",
            "71.0     4\n",
            "72.0     2\n",
            "73.0     1\n",
            "74.0     4\n",
            "75.0     3\n",
            "76.0     2\n",
            "Name: count, dtype: int64\n"
          ]
        }
      ]
    },
    {
      "cell_type": "markdown",
      "source": [
        "Como la edad es un número entero, nos podemos ahorrar sus decimales, por lo que pasamos la variable a formato entero."
      ],
      "metadata": {
        "id": "tygrcYWuNryi"
      }
    },
    {
      "cell_type": "code",
      "source": [
        "# Convertir los valores de la columna 'age' a enteros en el DataFrame df\n",
        "df['age'] = df['age'].astype(int)\n",
        "\n",
        "# Obtener la distribución de valores y ordenarla por edad ascendente\n",
        "reparto_age = df['age'].value_counts().sort_index()\n",
        "\n",
        "# Imprimir el reparto de valores ordenado por edad ascendente\n",
        "print(reparto_age)\n"
      ],
      "metadata": {
        "colab": {
          "base_uri": "https://localhost:8080/"
        },
        "id": "INBkWzf_L7oe",
        "outputId": "4b1019b8-e521-407d-bdcf-1d315b84f5be"
      },
      "execution_count": 74,
      "outputs": [
        {
          "output_type": "stream",
          "name": "stdout",
          "text": [
            "age\n",
            "28     1\n",
            "29     2\n",
            "30     1\n",
            "31     2\n",
            "32     3\n",
            "33     1\n",
            "34     5\n",
            "35     8\n",
            "36     6\n",
            "37    10\n",
            "38    12\n",
            "39    13\n",
            "40     7\n",
            "41    24\n",
            "42    15\n",
            "43    19\n",
            "44    15\n",
            "45    14\n",
            "46    20\n",
            "47    13\n",
            "48    23\n",
            "49    22\n",
            "50    21\n",
            "51    27\n",
            "52    29\n",
            "53    27\n",
            "54    38\n",
            "55    29\n",
            "56    34\n",
            "57    33\n",
            "58    36\n",
            "59    29\n",
            "60    24\n",
            "61    25\n",
            "62    26\n",
            "63    24\n",
            "64    17\n",
            "65    14\n",
            "66    12\n",
            "67     9\n",
            "68     9\n",
            "69    12\n",
            "70     5\n",
            "71     4\n",
            "72     2\n",
            "73     1\n",
            "74     4\n",
            "75     3\n",
            "76     2\n",
            "Name: count, dtype: int64\n"
          ]
        }
      ]
    },
    {
      "cell_type": "markdown",
      "source": [
        "Ahora procedemos a estudiar la variable del sexo."
      ],
      "metadata": {
        "id": "UDkI9RQmP7ql"
      }
    },
    {
      "cell_type": "code",
      "source": [
        "# Obtener la distribución de valores de la variable \"sex\" y ordenar por edad ascendente\n",
        "reparto_sex = df['sex'].value_counts().sort_index()\n",
        "\n",
        "# Imprimir el reparto de valores ordenado por edad ascendente\n",
        "print(reparto_sex)"
      ],
      "metadata": {
        "colab": {
          "base_uri": "https://localhost:8080/"
        },
        "id": "dCDjNyKgQoH6",
        "outputId": "006e4a48-d6f7-443f-db59-550b0ec9fe73"
      },
      "execution_count": 75,
      "outputs": [
        {
          "output_type": "stream",
          "name": "stdout",
          "text": [
            "sex\n",
            "0.0    154\n",
            "1.0    578\n",
            "Name: count, dtype: int64\n"
          ]
        }
      ]
    },
    {
      "cell_type": "markdown",
      "source": [
        "Vemos que el dataset otorga el valor 1 al sexo masculino, y 0 al femenino, por lo que podemos descartar los decimales también."
      ],
      "metadata": {
        "id": "RdR-TdE3Ro1I"
      }
    },
    {
      "cell_type": "code",
      "source": [
        "# Convertir los valores de la columna 'sex' a enteros en el DataFrame df\n",
        "df['sex'] = df['sex'].astype(int)\n",
        "\n",
        "# Obtener la distribución de valores y ordenarla por sexo ascendente\n",
        "reparto_sex = df['sex'].value_counts().sort_index()\n",
        "\n",
        "# Imprimir el reparto de valores ordenado por sexo ascendente\n",
        "print(reparto_sex)\n"
      ],
      "metadata": {
        "colab": {
          "base_uri": "https://localhost:8080/"
        },
        "id": "pcBmyHeCRgvJ",
        "outputId": "c3a8eb5d-9dc9-4f9b-a44f-238eaa75f304"
      },
      "execution_count": 76,
      "outputs": [
        {
          "output_type": "stream",
          "name": "stdout",
          "text": [
            "sex\n",
            "0    154\n",
            "1    578\n",
            "Name: count, dtype: int64\n"
          ]
        }
      ]
    },
    {
      "cell_type": "markdown",
      "source": [
        "Procedemos a estudiar la variable cp, que otorga valores del 1 al 4 según el tipo de dolor del paciente."
      ],
      "metadata": {
        "id": "xc4vMc49Qy6i"
      }
    },
    {
      "cell_type": "code",
      "source": [
        "# Obtener la distribución de valores de la variable \"cp\" y ordenar por edad ascendente\n",
        "reparto_cp = df['cp'].value_counts().sort_index()\n",
        "\n",
        "# Imprimir el reparto de valores ordenado por edad ascendente\n",
        "print(reparto_cp)"
      ],
      "metadata": {
        "colab": {
          "base_uri": "https://localhost:8080/"
        },
        "id": "pp-oC-mCSLql",
        "outputId": "d7c539f6-0e9d-459f-9f33-a19c47336622"
      },
      "execution_count": 77,
      "outputs": [
        {
          "output_type": "stream",
          "name": "stdout",
          "text": [
            "cp\n",
            "1.0     35\n",
            "2.0    138\n",
            "3.0    168\n",
            "4.0    391\n",
            "Name: count, dtype: int64\n"
          ]
        }
      ]
    },
    {
      "cell_type": "markdown",
      "source": [
        "Descartamos los decimales de la misma manera."
      ],
      "metadata": {
        "id": "KKzA2N-uSSBY"
      }
    },
    {
      "cell_type": "code",
      "source": [
        "# Convertir los valores de la columna 'cp' a enteros en el DataFrame df\n",
        "df['cp'] = df['cp'].astype(int)\n",
        "\n",
        "# Obtener la distribución de valores y ordenarla por edad ascendente\n",
        "reparto_cp = df['cp'].value_counts().sort_index()\n",
        "\n",
        "# Imprimir el reparto de valores ordenado por cp ascendente\n",
        "print(reparto_cp)\n"
      ],
      "metadata": {
        "colab": {
          "base_uri": "https://localhost:8080/"
        },
        "id": "E6cGUmjgSUdF",
        "outputId": "26c73e4e-6571-4793-e372-47b0ec9774af"
      },
      "execution_count": 78,
      "outputs": [
        {
          "output_type": "stream",
          "name": "stdout",
          "text": [
            "cp\n",
            "1     35\n",
            "2    138\n",
            "3    168\n",
            "4    391\n",
            "Name: count, dtype: int64\n"
          ]
        }
      ]
    },
    {
      "cell_type": "markdown",
      "source": [
        "Procedemos con la variable trestbps, que corresponde a la presión arterial en reposo."
      ],
      "metadata": {
        "id": "92VZEFrWRpud"
      }
    },
    {
      "cell_type": "code",
      "source": [
        "# Obtener la distribución de valores de la variable \"trestbps\" y ordenar por edad ascendente\n",
        "reparto_trestbps = df['trestbps'].value_counts().sort_index()\n",
        "\n",
        "# Imprimir el reparto de valores ordenado por edad ascendente\n",
        "print(reparto_trestbps)"
      ],
      "metadata": {
        "colab": {
          "base_uri": "https://localhost:8080/"
        },
        "id": "4wk8woggTztb",
        "outputId": "fe08b085-8f90-42d9-cb89-139684cfad7f"
      },
      "execution_count": 79,
      "outputs": [
        {
          "output_type": "stream",
          "name": "stdout",
          "text": [
            "trestbps\n",
            "0         1\n",
            "100       5\n",
            "100.0     9\n",
            "102.0     2\n",
            "104       2\n",
            "         ..\n",
            "94.0      2\n",
            "95        3\n",
            "96        1\n",
            "98.0      1\n",
            "?        47\n",
            "Name: count, Length: 95, dtype: int64\n"
          ]
        }
      ]
    },
    {
      "cell_type": "markdown",
      "source": [
        "En primer lugar, al no existir ningún registro decimal, los descartamos."
      ],
      "metadata": {
        "id": "ivxZUlBeUILl"
      }
    },
    {
      "cell_type": "code",
      "source": [
        "# Eliminar los decimales de la columna 'trestbps'\n",
        "df['trestbps'] = df['trestbps'].astype(str).str.split('.').str[0]\n",
        "\n",
        "# Obtener la distribución de valores y ordenarla por trestbps ascendente\n",
        "reparto_trestbps = df['trestbps'].value_counts().sort_index()\n",
        "\n",
        "# Imprimir el reparto de valores ordenado por trestbps ascendente\n",
        "print(reparto_trestbps)\n"
      ],
      "metadata": {
        "colab": {
          "base_uri": "https://localhost:8080/"
        },
        "id": "23rY_xGHUPaB",
        "outputId": "974091c8-bf25-486c-c3e5-f5c25c87491a"
      },
      "execution_count": 80,
      "outputs": [
        {
          "output_type": "stream",
          "name": "stdout",
          "text": [
            "trestbps\n",
            "0        1\n",
            "100     14\n",
            "102      2\n",
            "104      3\n",
            "105      7\n",
            "106      2\n",
            "108      6\n",
            "110     44\n",
            "112     12\n",
            "113      1\n",
            "114      2\n",
            "115     14\n",
            "116      2\n",
            "117      1\n",
            "118      9\n",
            "120    109\n",
            "122     11\n",
            "123      1\n",
            "124     11\n",
            "125     24\n",
            "126      6\n",
            "127      1\n",
            "128     15\n",
            "130     88\n",
            "132     10\n",
            "134      9\n",
            "135     17\n",
            "136      7\n",
            "138      9\n",
            "140     78\n",
            "142      7\n",
            "144      3\n",
            "145     11\n",
            "146      3\n",
            "148      2\n",
            "150     42\n",
            "152      4\n",
            "154      2\n",
            "155      6\n",
            "158      2\n",
            "160     41\n",
            "164      1\n",
            "165      2\n",
            "170     12\n",
            "172      2\n",
            "174      1\n",
            "178      3\n",
            "180     11\n",
            "185      1\n",
            "190      2\n",
            "192      1\n",
            "200      2\n",
            "92       1\n",
            "94       2\n",
            "95       3\n",
            "96       1\n",
            "98       1\n",
            "?       47\n",
            "Name: count, dtype: int64\n"
          ]
        }
      ]
    },
    {
      "cell_type": "markdown",
      "source": [
        "Vemos que hay un outlier, ya que hay un registro con valor a 0, lo que no tiene sentido en nuestro dataset. Al solo ser uno, podemos proceder a descartarlo."
      ],
      "metadata": {
        "id": "b6P5Sli5hs2b"
      }
    },
    {
      "cell_type": "code",
      "source": [
        "# Eliminar los decimales de la columna 'trestbps'\n",
        "df['trestbps'] = df['trestbps'].astype(str).str.split('.').str[0]\n",
        "\n",
        "# Filtrar los valores diferentes de '0'\n",
        "df = df[df['trestbps'] != '0']\n",
        "\n",
        "# Obtener la distribución de valores y ordenarla por 'trestbps' ascendente\n",
        "reparto_trestbps = df['trestbps'].value_counts().sort_index()\n",
        "\n",
        "# Imprimir el reparto de valores ordenado por 'trestbps' ascendente\n",
        "print(reparto_trestbps)\n"
      ],
      "metadata": {
        "colab": {
          "base_uri": "https://localhost:8080/"
        },
        "id": "vuE97EnpXbS3",
        "outputId": "3b0975f7-7713-43e5-8d89-6e9c120fab24"
      },
      "execution_count": 81,
      "outputs": [
        {
          "output_type": "stream",
          "name": "stdout",
          "text": [
            "trestbps\n",
            "100     14\n",
            "102      2\n",
            "104      3\n",
            "105      7\n",
            "106      2\n",
            "108      6\n",
            "110     44\n",
            "112     12\n",
            "113      1\n",
            "114      2\n",
            "115     14\n",
            "116      2\n",
            "117      1\n",
            "118      9\n",
            "120    109\n",
            "122     11\n",
            "123      1\n",
            "124     11\n",
            "125     24\n",
            "126      6\n",
            "127      1\n",
            "128     15\n",
            "130     88\n",
            "132     10\n",
            "134      9\n",
            "135     17\n",
            "136      7\n",
            "138      9\n",
            "140     78\n",
            "142      7\n",
            "144      3\n",
            "145     11\n",
            "146      3\n",
            "148      2\n",
            "150     42\n",
            "152      4\n",
            "154      2\n",
            "155      6\n",
            "158      2\n",
            "160     41\n",
            "164      1\n",
            "165      2\n",
            "170     12\n",
            "172      2\n",
            "174      1\n",
            "178      3\n",
            "180     11\n",
            "185      1\n",
            "190      2\n",
            "192      1\n",
            "200      2\n",
            "92       1\n",
            "94       2\n",
            "95       3\n",
            "96       1\n",
            "98       1\n",
            "?       47\n",
            "Name: count, dtype: int64\n"
          ]
        }
      ]
    },
    {
      "cell_type": "markdown",
      "source": [
        "Vemos también que existen 47 valores desconocidos con valor '?'. Viendo la distribución de valores, vemos que la mayoría de los valores se encuentran entre 120 y 130. Vamos a calcular la media por si acaso."
      ],
      "metadata": {
        "id": "ZnuvG0jZh_Qx"
      }
    },
    {
      "cell_type": "code",
      "source": [
        "# Filtrar los valores diferentes de '?' en la columna 'trestbps'\n",
        "df_filtered = df[df['trestbps'] != '?']\n",
        "\n",
        "# Convertir la columna 'trestbps' a tipo entero\n",
        "df_filtered['trestbps'] = df_filtered['trestbps'].astype(int)\n",
        "\n",
        "# Calcular la media de los valores en la columna 'trestbps'\n",
        "media_trestbps = df_filtered['trestbps'].mean()\n",
        "\n",
        "# Imprimir la media\n",
        "print(\"Media de trestbps\", media_trestbps)\n"
      ],
      "metadata": {
        "colab": {
          "base_uri": "https://localhost:8080/"
        },
        "id": "YBmaz-KYbyI2",
        "outputId": "1e4e37d6-455b-41e7-f2f1-f5ceb33db7d3"
      },
      "execution_count": 82,
      "outputs": [
        {
          "output_type": "stream",
          "name": "stdout",
          "text": [
            "Media de trestbps 132.16812865497076\n"
          ]
        },
        {
          "output_type": "stream",
          "name": "stderr",
          "text": [
            "<ipython-input-82-76c34d7b955a>:5: SettingWithCopyWarning: \n",
            "A value is trying to be set on a copy of a slice from a DataFrame.\n",
            "Try using .loc[row_indexer,col_indexer] = value instead\n",
            "\n",
            "See the caveats in the documentation: https://pandas.pydata.org/pandas-docs/stable/user_guide/indexing.html#returning-a-view-versus-a-copy\n",
            "  df_filtered['trestbps'] = df_filtered['trestbps'].astype(int)\n"
          ]
        }
      ]
    },
    {
      "cell_type": "markdown",
      "source": [
        "Al ser la media 130, que coincide con el rango de la moda, decidimos darle el valor 130 a los 47 registros desconocidos en esta fase inicial."
      ],
      "metadata": {
        "id": "3RD9EBisiWu2"
      }
    },
    {
      "cell_type": "code",
      "source": [
        "# Reemplazar los valores '?' por 130 en la columna 'trestbps'\n",
        "df['trestbps'].replace('?', 130, inplace=True)\n",
        "\n",
        "# Convertir la columna 'trestbps' a tipo numérico\n",
        "df['trestbps'] = pd.to_numeric(df['trestbps'])\n",
        "\n",
        "# Obtener la distribución de valores y ordenarla por 'trestbps' ascendente\n",
        "reparto_trestbps = df['trestbps'].value_counts().sort_index()\n",
        "\n",
        "# Imprimir el reparto de valores ordenado por 'trestbps' ascendente\n",
        "print(reparto_trestbps)\n"
      ],
      "metadata": {
        "colab": {
          "base_uri": "https://localhost:8080/"
        },
        "id": "4shC_QAwc2-8",
        "outputId": "6329e5f5-24bd-42ef-f5b0-aad5e6b3dcc9"
      },
      "execution_count": 83,
      "outputs": [
        {
          "output_type": "stream",
          "name": "stdout",
          "text": [
            "trestbps\n",
            "92       1\n",
            "94       2\n",
            "95       3\n",
            "96       1\n",
            "98       1\n",
            "100     14\n",
            "102      2\n",
            "104      3\n",
            "105      7\n",
            "106      2\n",
            "108      6\n",
            "110     44\n",
            "112     12\n",
            "113      1\n",
            "114      2\n",
            "115     14\n",
            "116      2\n",
            "117      1\n",
            "118      9\n",
            "120    109\n",
            "122     11\n",
            "123      1\n",
            "124     11\n",
            "125     24\n",
            "126      6\n",
            "127      1\n",
            "128     15\n",
            "130    135\n",
            "132     10\n",
            "134      9\n",
            "135     17\n",
            "136      7\n",
            "138      9\n",
            "140     78\n",
            "142      7\n",
            "144      3\n",
            "145     11\n",
            "146      3\n",
            "148      2\n",
            "150     42\n",
            "152      4\n",
            "154      2\n",
            "155      6\n",
            "158      2\n",
            "160     41\n",
            "164      1\n",
            "165      2\n",
            "170     12\n",
            "172      2\n",
            "174      1\n",
            "178      3\n",
            "180     11\n",
            "185      1\n",
            "190      2\n",
            "192      1\n",
            "200      2\n",
            "Name: count, dtype: int64\n"
          ]
        }
      ]
    },
    {
      "cell_type": "markdown",
      "source": [
        "Ahora ya tendríamos bien normalizada esta variable.\n",
        "\n",
        "A continuación procedemos a estudiar la variable *chol*, que corresponde con el colesterol sérico en sangre, del cual su disposición es la siguiente:"
      ],
      "metadata": {
        "id": "8zJggPufRpsD"
      }
    },
    {
      "cell_type": "code",
      "source": [
        "# Obtener la distribución de valores de la variable 'chol'\n",
        "distribucion_chol = df['chol'].value_counts().sort_index()\n",
        "\n",
        "# Imprimir la distribución de valores de 'chol'\n",
        "print(distribucion_chol)\n"
      ],
      "metadata": {
        "colab": {
          "base_uri": "https://localhost:8080/"
        },
        "id": "cXWFumHAi5nm",
        "outputId": "7778c256-9af4-42b8-80ad-6f1202ae13b1"
      },
      "execution_count": 84,
      "outputs": [
        {
          "output_type": "stream",
          "name": "stdout",
          "text": [
            "chol\n",
            "-9.0      16\n",
            "0        134\n",
            "100        1\n",
            "100.0      1\n",
            "117.0      1\n",
            "        ... \n",
            "529.0      1\n",
            "564.0      1\n",
            "603.0      1\n",
            "85.0       1\n",
            "?          5\n",
            "Name: count, Length: 280, dtype: int64\n"
          ]
        }
      ]
    },
    {
      "cell_type": "markdown",
      "source": [
        "De la misma manera, al no existir rango decimal lo convertimos a enteros. Tampoco encontramos ningún outlier."
      ],
      "metadata": {
        "id": "dmSPtNtol9qt"
      }
    },
    {
      "cell_type": "code",
      "source": [
        "# Convertir los valores numéricos de la columna 'chol' a enteros\n",
        "df['chol'] = pd.to_numeric(df['chol'], errors='coerce').astype('Int64')\n",
        "\n",
        "# Obtener la distribución de valores de la variable 'chol' y ordenarla por los valores de colesterol de forma ascendente\n",
        "distribucion_chol = df['chol'].value_counts().sort_index()\n",
        "\n",
        "# Imprimir la distribución de valores de 'chol'\n",
        "print(distribucion_chol)"
      ],
      "metadata": {
        "colab": {
          "base_uri": "https://localhost:8080/"
        },
        "id": "5dIAVAxflwUy",
        "outputId": "d047bc80-a4be-429a-a6b2-9136b834fa9b"
      },
      "execution_count": 85,
      "outputs": [
        {
          "output_type": "stream",
          "name": "stdout",
          "text": [
            "chol\n",
            "-9      16\n",
            "0      134\n",
            "85       1\n",
            "100      2\n",
            "117      1\n",
            "      ... \n",
            "491      1\n",
            "518      1\n",
            "529      1\n",
            "564      1\n",
            "603      1\n",
            "Name: count, Length: 204, dtype: Int64\n"
          ]
        }
      ]
    },
    {
      "cell_type": "markdown",
      "source": [
        "Vemos ahora qué hacer con los 16 registros evaluados a -9, ya que no tiene sentido en la evaluación del colesterol."
      ],
      "metadata": {
        "id": "hK7gH-oVmImE"
      }
    },
    {
      "cell_type": "code",
      "source": [
        "# Calcular la media del campo 'chol'\n",
        "media_chol = df['chol'].mean()\n",
        "\n",
        "# Calcular la moda del campo 'chol'\n",
        "moda_chol = df['chol'].mode()[0]\n",
        "\n",
        "# Imprimir la media y la moda del campo 'chol'\n",
        "print(\"Media de chol:\", media_chol)\n",
        "print(\"Moda de chol:\", moda_chol)\n"
      ],
      "metadata": {
        "colab": {
          "base_uri": "https://localhost:8080/"
        },
        "id": "7Rt_PaW8mPuu",
        "outputId": "26fb20e5-0f73-4f9d-a280-1cf9ddc3d263"
      },
      "execution_count": 86,
      "outputs": [
        {
          "output_type": "stream",
          "name": "stdout",
          "text": [
            "Media de chol: 195.6267217630854\n",
            "Moda de chol: 0\n"
          ]
        }
      ]
    },
    {
      "cell_type": "markdown",
      "source": [
        "En este caso la media no es lo más óptimo, ya que lo común como vemos en la moda es no tener colesterol en sangre, por lo que sustituiremos los valores por la moda."
      ],
      "metadata": {
        "id": "z3WRxIcwmXyo"
      }
    },
    {
      "cell_type": "code",
      "source": [
        "# Reemplazar los valores -9 por 0 en la columna 'chol'\n",
        "df['chol'].replace(-9, 0, inplace=True)\n",
        "\n",
        "# Obtener la distribución de valores de la variable 'chol' y ordenarla por los valores de colesterol de forma ascendente\n",
        "distribucion_chol = df['chol'].value_counts().sort_index()\n",
        "\n",
        "# Imprimir la distribución de valores de 'chol'\n",
        "print(distribucion_chol)\n"
      ],
      "metadata": {
        "colab": {
          "base_uri": "https://localhost:8080/"
        },
        "id": "8cls34vgmnyI",
        "outputId": "246dd1f4-213f-4797-8b33-83ab666d063c"
      },
      "execution_count": 87,
      "outputs": [
        {
          "output_type": "stream",
          "name": "stdout",
          "text": [
            "chol\n",
            "0      150\n",
            "85       1\n",
            "100      2\n",
            "117      1\n",
            "126      1\n",
            "      ... \n",
            "491      1\n",
            "518      1\n",
            "529      1\n",
            "564      1\n",
            "603      1\n",
            "Name: count, Length: 203, dtype: Int64\n"
          ]
        }
      ]
    },
    {
      "cell_type": "markdown",
      "source": [
        "Pasamos a la variable fbs, que evalúa a 1 si hay dolor por esfuerzo o 0 en caso contrario."
      ],
      "metadata": {
        "id": "CRqtuZiCpCji"
      }
    },
    {
      "cell_type": "code",
      "source": [
        "# Obtener la distribución de valores de la variable 'fbs'\n",
        "distribucion_fbs = df['fbs'].value_counts().sort_index()\n",
        "\n",
        "# Imprimir la distribución de valores de 'fbs'\n",
        "print(distribucion_fbs)\n"
      ],
      "metadata": {
        "colab": {
          "base_uri": "https://localhost:8080/"
        },
        "id": "xBoIDGkRpOGr",
        "outputId": "bbfda07b-918c-4a7a-8fce-69d2c426dbfb"
      },
      "execution_count": 88,
      "outputs": [
        {
          "output_type": "stream",
          "name": "stdout",
          "text": [
            "fbs\n",
            "-9.0      8\n",
            "0       138\n",
            "0.0     415\n",
            "1        55\n",
            "1.0      57\n",
            "?        58\n",
            "Name: count, dtype: int64\n"
          ]
        }
      ]
    },
    {
      "cell_type": "markdown",
      "source": [
        "Lo pasamos a entero al no haber flotantes."
      ],
      "metadata": {
        "id": "GzuldjstpVGb"
      }
    },
    {
      "cell_type": "code",
      "source": [
        "# Eliminar los decimales de la columna 'fbs'\n",
        "df['fbs'] = df['fbs'].astype(str).str.split('.').str[0]\n",
        "\n",
        "# Obtener la distribución de valores de la variable 'fbs'\n",
        "distribucion_fbs = df['fbs'].value_counts().sort_index()\n",
        "\n",
        "# Imprimir la distribución de valores de 'fbs'\n",
        "print(distribucion_fbs)\n"
      ],
      "metadata": {
        "colab": {
          "base_uri": "https://localhost:8080/"
        },
        "id": "Yal6FGaQpZUq",
        "outputId": "18916624-228b-4ad5-84c1-a3bd148ea8e6"
      },
      "execution_count": 89,
      "outputs": [
        {
          "output_type": "stream",
          "name": "stdout",
          "text": [
            "fbs\n",
            "-9      8\n",
            "0     553\n",
            "1     112\n",
            "?      58\n",
            "Name: count, dtype: int64\n"
          ]
        }
      ]
    },
    {
      "cell_type": "markdown",
      "source": [
        "Como vemos visualmente, la moda es bastante evidente, el 75% de los pacientes no experimentan dolor por esfuerzo, por lo que los valores anómalos (-9 e ?) los sustituiremos por esta moda, ya que suponemos que lo lógico y común es no sentir dolor, y no son pocos registros como para descartarlos."
      ],
      "metadata": {
        "id": "Iagh6WDB-KjY"
      }
    },
    {
      "cell_type": "code",
      "source": [
        "# Reemplazar los valores '-9' y '?' por '0' en la columna 'fbs'\n",
        "df['fbs'].replace(['-9', '?'], '0', inplace=True)\n",
        "\n",
        "# Convertir la columna 'fbs' a tipo entero\n",
        "df['fbs'] = df['fbs'].astype(int)\n",
        "\n",
        "# Obtener la distribución de valores de la variable 'fbs'\n",
        "distribucion_fbs = df['fbs'].value_counts().sort_index()\n",
        "\n",
        "# Imprimir la distribución de valores de 'fbs'\n",
        "print(distribucion_fbs)\n"
      ],
      "metadata": {
        "colab": {
          "base_uri": "https://localhost:8080/"
        },
        "id": "x6oGlEUH-I6G",
        "outputId": "4b3c0a26-9514-4727-96e8-5bc80ff4b629"
      },
      "execution_count": 90,
      "outputs": [
        {
          "output_type": "stream",
          "name": "stdout",
          "text": [
            "fbs\n",
            "0    619\n",
            "1    112\n",
            "Name: count, dtype: int64\n"
          ]
        }
      ]
    },
    {
      "cell_type": "markdown",
      "source": [
        "Continuamos con la variable restecg, la cual nos indica los resultados electrocardiográficos en reposo."
      ],
      "metadata": {
        "id": "9kEtQilh_jMv"
      }
    },
    {
      "cell_type": "code",
      "source": [
        "# Obtener la distribución de valores de la variable 'restecg'\n",
        "distribucion_restecg = df['restecg'].value_counts()\n",
        "\n",
        "# Imprimir la distribución de valores de 'restecg'\n",
        "print(distribucion_restecg)\n"
      ],
      "metadata": {
        "colab": {
          "base_uri": "https://localhost:8080/"
        },
        "id": "ceYL-eSH_6zz",
        "outputId": "8582a6ab-1c18-4b19-db6b-6334e067889c"
      },
      "execution_count": 91,
      "outputs": [
        {
          "output_type": "stream",
          "name": "stdout",
          "text": [
            "restecg\n",
            "0.0    438\n",
            "2.0    148\n",
            "1.0    145\n",
            "Name: count, dtype: int64\n"
          ]
        }
      ]
    },
    {
      "cell_type": "markdown",
      "source": [
        "Vemos que la disposición de esta variable es correcta, simplemente la pasamos a entero como de costumbre."
      ],
      "metadata": {
        "id": "jzBYRh1sAtQs"
      }
    },
    {
      "cell_type": "code",
      "source": [
        "# Convertir la columna 'restecg' a tipo entero\n",
        "df['restecg'] = df['restecg'].astype(int)\n",
        "\n",
        "# Obtener la distribución de valores de la variable 'restecg'\n",
        "distribucion_restecg = df['restecg'].value_counts().sort_index()\n",
        "\n",
        "# Imprimir la distribución de valores de 'restecg'\n",
        "print(distribucion_restecg)\n"
      ],
      "metadata": {
        "colab": {
          "base_uri": "https://localhost:8080/"
        },
        "id": "Wh-Hra8fAxxi",
        "outputId": "9373db29-5b98-45f5-c98b-2b20ffbbd5d2"
      },
      "execution_count": 92,
      "outputs": [
        {
          "output_type": "stream",
          "name": "stdout",
          "text": [
            "restecg\n",
            "0    438\n",
            "1    145\n",
            "2    148\n",
            "Name: count, dtype: int64\n"
          ]
        }
      ]
    },
    {
      "cell_type": "markdown",
      "source": [
        "Continuamos con thalach, que representa la frecuencia cardiaca en reposo."
      ],
      "metadata": {
        "id": "L_6pgtS5A8rJ"
      }
    },
    {
      "cell_type": "code",
      "source": [
        "# Obtener la distribución de valores de la variable 'thalach' y ordenarla de menor a mayor\n",
        "distribucion_thalach = df['thalach'].value_counts().sort_index()\n",
        "\n",
        "# Imprimir la distribución de valores de 'thalach' ordenada de menor a mayor\n",
        "print(distribucion_thalach)\n"
      ],
      "metadata": {
        "colab": {
          "base_uri": "https://localhost:8080/"
        },
        "id": "P2YNeddhA76B",
        "outputId": "a73effe1-ffdf-4aa7-8203-37c0bd3d025b"
      },
      "execution_count": 93,
      "outputs": [
        {
          "output_type": "stream",
          "name": "stdout",
          "text": [
            "thalach\n",
            "100       7\n",
            "100.0     6\n",
            "102       3\n",
            "102.0     1\n",
            "103       1\n",
            "         ..\n",
            "98        4\n",
            "98.0      3\n",
            "99        3\n",
            "99.0      2\n",
            "?        44\n",
            "Name: count, Length: 180, dtype: int64\n"
          ]
        }
      ]
    },
    {
      "cell_type": "markdown",
      "source": [
        "De manera habitual, al no haber decimales los descartamos."
      ],
      "metadata": {
        "id": "hvK1RvqwBb0q"
      }
    },
    {
      "cell_type": "code",
      "source": [
        "# Eliminar los decimales de la columna 'thalach'\n",
        "df['thalach'] = df['thalach'].astype(str).str.split('.').str[0]\n",
        "\n",
        "# Obtener la distribución de valores de la variable 'thalach' y ordenarla de menor a mayor\n",
        "distribucion_thalach = df['thalach'].value_counts().sort_index()\n",
        "\n",
        "# Imprimir la distribución de valores de 'thalach' ordenada de menor a mayor\n",
        "print(distribucion_thalach)\n"
      ],
      "metadata": {
        "colab": {
          "base_uri": "https://localhost:8080/"
        },
        "id": "cmvFnkI7Bece",
        "outputId": "b5568d44-3b60-46d0-cd36-0cfbc66b8d81"
      },
      "execution_count": 94,
      "outputs": [
        {
          "output_type": "stream",
          "name": "stdout",
          "text": [
            "thalach\n",
            "100    13\n",
            "102     4\n",
            "103     4\n",
            "104     1\n",
            "105     8\n",
            "       ..\n",
            "96      6\n",
            "97      2\n",
            "98      7\n",
            "99      5\n",
            "?      44\n",
            "Name: count, Length: 115, dtype: int64\n"
          ]
        }
      ]
    },
    {
      "cell_type": "markdown",
      "source": [
        "Aquí vemos que la distribución es bastante diversa, y tenemos que 44 registros no están asignados, por lo que debemos darles un valor.\n",
        "\n",
        "Para ello, veremos a qué tienden los valores."
      ],
      "metadata": {
        "id": "nVvoikL5DFK2"
      }
    },
    {
      "cell_type": "code",
      "source": [
        "import numpy as np\n",
        "\n",
        "# Filtrar los valores diferentes de '?' en la columna 'thalach'\n",
        "df_filtered = df[df['thalach'] != '?']\n",
        "\n",
        "# Convertir la columna 'thalach' a tipo numérico\n",
        "df_filtered['thalach'] = pd.to_numeric(df_filtered['thalach'])\n",
        "\n",
        "# Calcular la media de los valores en la columna 'thalach'\n",
        "media_thalach = df_filtered['thalach'].mean()\n",
        "\n",
        "# Calcular la moda de los valores en la columna 'thalach'\n",
        "moda_thalach = df_filtered['thalach'].mode()[0]\n",
        "\n",
        "# Imprimir la media y la moda de 'thalach'\n",
        "print(\"Media de thalach:\", media_thalach)\n",
        "print(\"Moda de thalach:\", moda_thalach)\n"
      ],
      "metadata": {
        "colab": {
          "base_uri": "https://localhost:8080/"
        },
        "id": "St6Q7a4sC3e7",
        "outputId": "d0dc73fb-dcc0-48ee-c52f-0b5d844407e1"
      },
      "execution_count": 95,
      "outputs": [
        {
          "output_type": "stream",
          "name": "stdout",
          "text": [
            "Media de thalach: 138.10771470160117\n",
            "Moda de thalach: 140\n"
          ]
        },
        {
          "output_type": "stream",
          "name": "stderr",
          "text": [
            "<ipython-input-95-f0eece54ca33>:7: SettingWithCopyWarning: \n",
            "A value is trying to be set on a copy of a slice from a DataFrame.\n",
            "Try using .loc[row_indexer,col_indexer] = value instead\n",
            "\n",
            "See the caveats in the documentation: https://pandas.pydata.org/pandas-docs/stable/user_guide/indexing.html#returning-a-view-versus-a-copy\n",
            "  df_filtered['thalach'] = pd.to_numeric(df_filtered['thalach'])\n"
          ]
        }
      ]
    },
    {
      "cell_type": "markdown",
      "source": [
        "Vemos que deja bastante evidente que tanto la media como la moda tienden a que lo más común en estas enfermedades es tener una frecuencia cardiaca en reposo entorno a 140, por lo que otorgaremos este valor a los registros desconocidos."
      ],
      "metadata": {
        "id": "8x3P1fMiDTup"
      }
    },
    {
      "cell_type": "code",
      "source": [
        "# Reemplazar los valores '?' por '140' en la columna 'thalach'\n",
        "df['thalach'].replace('?', '140', inplace=True)\n",
        "\n",
        "# Mostrar la distribución de valores de la variable 'thalach'\n",
        "distribucion_thalach = df['thalach'].value_counts().sort_index()\n",
        "print(distribucion_thalach)\n"
      ],
      "metadata": {
        "colab": {
          "base_uri": "https://localhost:8080/"
        },
        "id": "hnp8Ec_xDm2x",
        "outputId": "be992013-bebc-4e72-c2cf-3ffd74a26feb"
      },
      "execution_count": 96,
      "outputs": [
        {
          "output_type": "stream",
          "name": "stdout",
          "text": [
            "thalach\n",
            "100    13\n",
            "102     4\n",
            "103     4\n",
            "104     1\n",
            "105     8\n",
            "       ..\n",
            "95      2\n",
            "96      6\n",
            "97      2\n",
            "98      7\n",
            "99      5\n",
            "Name: count, Length: 114, dtype: int64\n"
          ]
        }
      ]
    },
    {
      "cell_type": "markdown",
      "source": [
        "Continuamos con exang, que representa con 1 si existe angina inducida por ejercicio, o 0 en caso contrario"
      ],
      "metadata": {
        "id": "3gtn_oAnD-kK"
      }
    },
    {
      "cell_type": "code",
      "source": [
        "# Mostrar la distribución de valores de la variable 'exang'\n",
        "distribucion_exang = df['exang'].value_counts()\n",
        "print(distribucion_exang)\n"
      ],
      "metadata": {
        "colab": {
          "base_uri": "https://localhost:8080/"
        },
        "id": "6Y5lm9nQEM72",
        "outputId": "d004cf63-9410-420a-ee51-894d8ada4937"
      },
      "execution_count": 97,
      "outputs": [
        {
          "output_type": "stream",
          "name": "stdout",
          "text": [
            "exang\n",
            "0.0    327\n",
            "1.0    153\n",
            "1      113\n",
            "0       94\n",
            "?       44\n",
            "Name: count, dtype: int64\n"
          ]
        }
      ]
    },
    {
      "cell_type": "markdown",
      "source": [
        "Lo primero como siempre, descartamos decimales al no haber flotantes.\n",
        "\n",
        "Al haber una clara tendencia hacia una no presencia de angina, asignaremos 0 a los registros con ?."
      ],
      "metadata": {
        "id": "njdxCbBkEW-t"
      }
    },
    {
      "cell_type": "code",
      "source": [
        "# Convertir la columna 'exang' a tipo entero\n",
        "df['exang'] = df['exang'].replace('?', np.nan).astype(float).fillna(0).astype(int)\n",
        "\n",
        "# Obtener la distribución de valores de la variable 'exang' y ordenarla de menor a mayor\n",
        "distribucion_exang = df['exang'].value_counts().sort_index()\n",
        "\n",
        "# Imprimir la distribución de valores de 'exang' ordenada de menor a mayor\n",
        "print(distribucion_exang)\n"
      ],
      "metadata": {
        "colab": {
          "base_uri": "https://localhost:8080/"
        },
        "id": "Gou3pEUOEaPV",
        "outputId": "ce80632e-d749-40fd-e4cf-aa129efa43cf"
      },
      "execution_count": 98,
      "outputs": [
        {
          "output_type": "stream",
          "name": "stdout",
          "text": [
            "exang\n",
            "0    465\n",
            "1    266\n",
            "Name: count, dtype: int64\n"
          ]
        }
      ]
    },
    {
      "cell_type": "markdown",
      "source": [
        "Continuamos con oldpeak, que representa la depresión del ST inducida por el ejercicio en relación con el reposo."
      ],
      "metadata": {
        "id": "yI7YYlyiFPJk"
      }
    },
    {
      "cell_type": "code",
      "source": [
        "# Obtener la distribución de valores de la variable 'oldpeak' y ordenarla de menor a mayor\n",
        "distribucion_oldpeak = df['oldpeak'].value_counts().sort_index()\n",
        "\n",
        "# Imprimir la distribución de valores de 'oldpeak' ordenada de menor a mayor\n",
        "print(distribucion_oldpeak)\n"
      ],
      "metadata": {
        "colab": {
          "base_uri": "https://localhost:8080/"
        },
        "id": "7Hu2OrmeFWB_",
        "outputId": "92766d4c-9dc1-457f-f986-ecd1044ccdd6"
      },
      "execution_count": 99,
      "outputs": [
        {
          "output_type": "stream",
          "name": "stdout",
          "text": [
            "oldpeak\n",
            "-.5      1\n",
            "-.8      1\n",
            "-.9      1\n",
            "-0.5     1\n",
            "-1       2\n",
            "        ..\n",
            "4.4      1\n",
            "5.0      1\n",
            "5.6      1\n",
            "6.2      1\n",
            "?       49\n",
            "Name: count, Length: 64, dtype: int64\n"
          ]
        }
      ]
    },
    {
      "cell_type": "markdown",
      "source": [
        "Aquí vemos que sí hay decimales, por lo que no interesa descartarlos, y vemos que su distribución es más compleja, por lo que vamos a ver a qué tiende."
      ],
      "metadata": {
        "id": "MX_3PyVEH9ZH"
      }
    },
    {
      "cell_type": "code",
      "source": [
        "# Convertir la columna 'oldpeak' a tipo numérico\n",
        "df['oldpeak'] = pd.to_numeric(df['oldpeak'], errors='coerce')\n",
        "\n",
        "# Contar los valores negativos, positivos, cero, nulos e interrogantes en la columna 'oldpeak' considerando los decimales\n",
        "negativos = (df['oldpeak'] < 0).sum()\n",
        "positivos = (df['oldpeak'] > 0).sum()\n",
        "ceros = (df['oldpeak'] == 0).sum()\n",
        "\n",
        "# Imprimir el conteo de valores negativos, positivos, cero, nulos e interrogantes\n",
        "print(\"Valores negativos:\", negativos)\n",
        "print(\"Valores positivos:\", positivos)\n",
        "print(\"Valores cero:\", ceros)\n"
      ],
      "metadata": {
        "colab": {
          "base_uri": "https://localhost:8080/"
        },
        "id": "BFsOFj7HF_zd",
        "outputId": "4f0434e9-1a1a-40de-c6ad-c307857828e6"
      },
      "execution_count": 100,
      "outputs": [
        {
          "output_type": "stream",
          "name": "stdout",
          "text": [
            "Valores negativos: 10\n",
            "Valores positivos: 375\n",
            "Valores cero: 297\n"
          ]
        }
      ]
    },
    {
      "cell_type": "code",
      "source": [
        "import numpy as np\n",
        "\n",
        "# Filtrar los valores diferentes de '?' en la columna 'oldpeak'\n",
        "df_filtered = df[df['oldpeak'] != '?']\n",
        "\n",
        "# Convertir la columna 'oldpeak' a tipo numérico\n",
        "df_filtered['oldpeak'] = pd.to_numeric(df_filtered['oldpeak'], errors='coerce')\n",
        "\n",
        "# Calcular la media de los valores en la columna 'oldpeak'\n",
        "media_oldpeak = df_filtered['oldpeak'].mean()\n",
        "\n",
        "# Calcular la moda de los valores en la columna 'oldpeak'\n",
        "moda_oldpeak = df_filtered['oldpeak'].mode()[0]\n",
        "\n",
        "# Imprimir la media y la moda de 'oldpeak'\n",
        "print(\"Media de oldpeak:\", media_oldpeak)\n",
        "print(\"Moda de oldpeak:\", moda_oldpeak)\n"
      ],
      "metadata": {
        "colab": {
          "base_uri": "https://localhost:8080/"
        },
        "id": "ngpIdOjxIkar",
        "outputId": "ca31e59e-7b55-4e2c-833b-c84c02609b84"
      },
      "execution_count": 101,
      "outputs": [
        {
          "output_type": "stream",
          "name": "stdout",
          "text": [
            "Media de oldpeak: 0.8803519061583578\n",
            "Moda de oldpeak: 0.0\n"
          ]
        }
      ]
    },
    {
      "cell_type": "markdown",
      "source": [
        "Vemos que existen valores negativos que no tienen por qué ser anómalos, por lo que de momento no los vamos a descartar. Vemos que tanto la media como la moda tienden a que el denominador más común suele ser 0, por lo que los 49 registros desconocidos los evaluaremos a 0."
      ],
      "metadata": {
        "id": "XY-7HK5NHp1N"
      }
    },
    {
      "cell_type": "code",
      "source": [
        "# Reemplazar los valores '?' por 0.0 en la columna 'oldpeak'\n",
        "df['oldpeak'].replace('?', '0.0', inplace=True)\n",
        "\n",
        "# Mostrar la distribución de valores de la columna 'oldpeak'\n",
        "distribucion_oldpeak = df['oldpeak'].value_counts().sort_index()\n",
        "print(distribucion_oldpeak)\n"
      ],
      "metadata": {
        "colab": {
          "base_uri": "https://localhost:8080/"
        },
        "id": "54nx8zf5JH8f",
        "outputId": "3073d456-5e79-4303-b34a-df16b963904f"
      },
      "execution_count": 102,
      "outputs": [
        {
          "output_type": "stream",
          "name": "stdout",
          "text": [
            "oldpeak\n",
            "-2.6      1\n",
            "-2.0      1\n",
            "-1.5      1\n",
            "-1.1      1\n",
            "-1.0      2\n",
            "-0.9      1\n",
            "-0.8      1\n",
            "-0.5      2\n",
            " 0.0    297\n",
            " 0.1      7\n",
            " 0.2     10\n",
            " 0.3      5\n",
            " 0.4      8\n",
            " 0.5     17\n",
            " 0.6     11\n",
            " 0.7      2\n",
            " 0.8     11\n",
            " 0.9      4\n",
            " 1.0     65\n",
            " 1.1      3\n",
            " 1.2     11\n",
            " 1.3      4\n",
            " 1.4     12\n",
            " 1.5     34\n",
            " 1.6     12\n",
            " 1.7      2\n",
            " 1.8     10\n",
            " 1.9      4\n",
            " 2.0     60\n",
            " 2.1      2\n",
            " 2.2      5\n",
            " 2.3      1\n",
            " 2.4      3\n",
            " 2.5     13\n",
            " 2.6      7\n",
            " 2.8      5\n",
            " 2.9      1\n",
            " 3.0     22\n",
            " 3.1      1\n",
            " 3.2      2\n",
            " 3.4      3\n",
            " 3.5      2\n",
            " 3.6      2\n",
            " 3.7      1\n",
            " 3.8      1\n",
            " 4.0      6\n",
            " 4.2      2\n",
            " 4.4      1\n",
            " 5.0      1\n",
            " 5.6      1\n",
            " 6.2      1\n",
            "Name: count, dtype: int64\n"
          ]
        }
      ]
    },
    {
      "cell_type": "markdown",
      "source": [
        "Continuamos con slope, que representa la pendiente del segmento ST en ejercicio máximo, que solo puede tomar los valores 1, 2 y 3 (pendiente ascendente, plano y descendente respectivamente)"
      ],
      "metadata": {
        "id": "hKmNCo9yJfn8"
      }
    },
    {
      "cell_type": "code",
      "source": [
        "# Mostrar la distribución de valores de la variable 'slope'\n",
        "distribucion_slope = df['slope'].value_counts().sort_index()\n",
        "print(distribucion_slope)\n"
      ],
      "metadata": {
        "colab": {
          "base_uri": "https://localhost:8080/"
        },
        "id": "QmF5GUJpJ19O",
        "outputId": "74a0b6e7-4fca-4e03-dedf-55b8b6d9a954"
      },
      "execution_count": 103,
      "outputs": [
        {
          "output_type": "stream",
          "name": "stdout",
          "text": [
            "slope\n",
            "-9.0    152\n",
            "1        37\n",
            "1.0     121\n",
            "2        89\n",
            "2.0     187\n",
            "3        30\n",
            "3.0      20\n",
            "?        95\n",
            "Name: count, dtype: int64\n"
          ]
        }
      ]
    },
    {
      "cell_type": "markdown",
      "source": [
        "Aquí sí que lo primero es eliminar los decimales al no haber flotantes."
      ],
      "metadata": {
        "id": "-SaGLKm1JfkW"
      }
    },
    {
      "cell_type": "code",
      "source": [
        "# Convertir la columna 'slope' a tipo string y eliminar decimales\n",
        "df['slope'] = df['slope'].astype(str).str.split('.').str[0]\n",
        "\n",
        "# Mostrar la distribución de valores de la variable 'slope'\n",
        "distribucion_slope = df['slope'].value_counts().sort_index()\n",
        "print(distribucion_slope)\n"
      ],
      "metadata": {
        "colab": {
          "base_uri": "https://localhost:8080/"
        },
        "id": "MteIrp5cKE80",
        "outputId": "d99a6670-45e7-4910-8fa3-ee546aac2fa9"
      },
      "execution_count": 104,
      "outputs": [
        {
          "output_type": "stream",
          "name": "stdout",
          "text": [
            "slope\n",
            "-9    152\n",
            "1     158\n",
            "2     276\n",
            "3      50\n",
            "?      95\n",
            "Name: count, dtype: int64\n"
          ]
        }
      ]
    },
    {
      "cell_type": "markdown",
      "source": [
        "Aquí al no conocer el alcance exacto de la variable ni la importancia, y al haber una gran cantidad de registros desconocidos que no podemos descartar al ser muy elevado, procedemos a cambiarlos por la moda, que parece a priori que tiene una tendencia plana."
      ],
      "metadata": {
        "id": "SJbX9E63JfZD"
      }
    },
    {
      "cell_type": "code",
      "source": [
        "# Reemplazar los valores '?' por 1 en la columna 'slope'\n",
        "df['slope'].replace('?', '1', inplace=True)\n",
        "\n",
        "# Reemplazar los valores -9 por 1 en la columna 'slope'\n",
        "df['slope'].replace('-9', '1', inplace=True)\n",
        "\n",
        "# Convertir la columna 'slope' a tipo entero\n",
        "df['slope'] = df['slope'].astype(int)\n",
        "\n",
        "# Mostrar la distribución actualizada de valores de la variable 'slope'\n",
        "distribucion_slope = df['slope'].value_counts().sort_index()\n",
        "print(distribucion_slope)\n"
      ],
      "metadata": {
        "colab": {
          "base_uri": "https://localhost:8080/"
        },
        "id": "24ErASmWKzbC",
        "outputId": "23ebe308-cf9f-431c-a703-89865e6d16dd"
      },
      "execution_count": 107,
      "outputs": [
        {
          "output_type": "stream",
          "name": "stdout",
          "text": [
            "slope\n",
            "1    405\n",
            "2    276\n",
            "3     50\n",
            "Name: count, dtype: int64\n"
          ]
        }
      ]
    },
    {
      "cell_type": "markdown",
      "source": [
        "Pasamos a la variable ca, que corresponde con el número de vasos mayores (0-3) coloreados por flouroscopia."
      ],
      "metadata": {
        "id": "egf_whmPLU6A"
      }
    },
    {
      "cell_type": "code",
      "source": [
        "# Mostrar la distribución de valores de la variable 'ca'\n",
        "distribucion_ca = df['ca'].value_counts().sort_index()\n",
        "print(distribucion_ca)\n"
      ],
      "metadata": {
        "colab": {
          "base_uri": "https://localhost:8080/"
        },
        "id": "CfkMz1mHLgW0",
        "outputId": "768fefb8-929f-4469-f236-4e68f80a98f2"
      },
      "execution_count": 108,
      "outputs": [
        {
          "output_type": "stream",
          "name": "stdout",
          "text": [
            "ca\n",
            "-9.0    230\n",
            "0         2\n",
            "0.0     145\n",
            "1         1\n",
            "1.0      53\n",
            "2         2\n",
            "2.0      33\n",
            "3.0      17\n",
            "?       248\n",
            "Name: count, dtype: int64\n"
          ]
        }
      ]
    },
    {
      "cell_type": "markdown",
      "source": [
        "En primer lugar, como siempre, descartamos decimales al no existir flotantes."
      ],
      "metadata": {
        "id": "QJcHE_hBLplq"
      }
    },
    {
      "cell_type": "code",
      "source": [
        "# Descartar los decimales en la distribución de valores de la variable 'ca'\n",
        "df['ca'] = df['ca'].astype(str).str.split('.').str[0]\n",
        "\n",
        "# Mostrar la distribución actualizada de valores de la variable 'ca'\n",
        "distribucion_ca = df['ca'].value_counts().sort_index()\n",
        "print(distribucion_ca)\n"
      ],
      "metadata": {
        "colab": {
          "base_uri": "https://localhost:8080/"
        },
        "id": "H8A82A4qLttg",
        "outputId": "1d72031c-e29a-4505-ab42-a85c00b61365"
      },
      "execution_count": 109,
      "outputs": [
        {
          "output_type": "stream",
          "name": "stdout",
          "text": [
            "ca\n",
            "-9    230\n",
            "0     147\n",
            "1      54\n",
            "2      35\n",
            "3      17\n",
            "?     248\n",
            "Name: count, dtype: int64\n"
          ]
        }
      ]
    },
    {
      "cell_type": "markdown",
      "source": [
        "Vemos que a priori no va a resultar una variable muy directa en el aprendizaje de la enfermedad, ya que hay más valores desconocidos que conocidos, por lo que simplemente los sustituiremos por la moda, que es el 0."
      ],
      "metadata": {
        "id": "JKd8FTsjL5q1"
      }
    },
    {
      "cell_type": "code",
      "source": [
        "# Reemplazar los valores '?' por '0' en la columna 'ca'\n",
        "df['ca'].replace('?', '0', inplace=True)\n",
        "\n",
        "# Reemplazar los valores '-9' por '0' en la columna 'ca'\n",
        "df['ca'].replace('-9', '0', inplace=True)\n",
        "\n",
        "# Mostrar la distribución actualizada de valores de la variable 'ca'\n",
        "distribucion_ca = df['ca'].value_counts().sort_index()\n",
        "print(distribucion_ca)\n"
      ],
      "metadata": {
        "colab": {
          "base_uri": "https://localhost:8080/"
        },
        "id": "6S7WcNl9MKCk",
        "outputId": "5bf2da63-e3fc-49e2-fd79-a700afb6fedf"
      },
      "execution_count": 110,
      "outputs": [
        {
          "output_type": "stream",
          "name": "stdout",
          "text": [
            "ca\n",
            "0    625\n",
            "1     54\n",
            "2     35\n",
            "3     17\n",
            "Name: count, dtype: int64\n"
          ]
        }
      ]
    },
    {
      "cell_type": "markdown",
      "source": [
        "Para finalizar la limpieza, analizaremos la variable thal, que representa con los valores 3, 6 y 7 los valores normal, defecto fijo y defecto reversible respectivamente."
      ],
      "metadata": {
        "id": "FNO4PTOMNNK_"
      }
    },
    {
      "cell_type": "code",
      "source": [
        "# Mostrar la distribución de valores de la variable 'thal'\n",
        "distribucion_thal = df['thal'].value_counts().sort_index()\n",
        "print(distribucion_thal)\n"
      ],
      "metadata": {
        "colab": {
          "base_uri": "https://localhost:8080/"
        },
        "id": "iExlnZRQNQQ3",
        "outputId": "6fe03dbb-e752-4c0b-b229-d923aa27b8c8"
      },
      "execution_count": 111,
      "outputs": [
        {
          "output_type": "stream",
          "name": "stdout",
          "text": [
            "thal\n",
            "-9.0    210\n",
            "3        20\n",
            "3.0     137\n",
            "6        14\n",
            "6.0      22\n",
            "7        50\n",
            "7.0     110\n",
            "?       168\n",
            "Name: count, dtype: int64\n"
          ]
        }
      ]
    },
    {
      "cell_type": "markdown",
      "source": [
        "Descartamos decimales de la manera habitual."
      ],
      "metadata": {
        "id": "4CVBBmQMNgl0"
      }
    },
    {
      "cell_type": "code",
      "source": [
        "# Descartar los decimales en la distribución de valores de la variable 'thal'\n",
        "df['thal'] = df['thal'].astype(str).str.split('.').str[0]\n",
        "\n",
        "# Mostrar la distribución actualizada de valores de la variable 'thal'\n",
        "distribucion_thal = df['thal'].value_counts().sort_index()\n",
        "print(distribucion_thal)\n"
      ],
      "metadata": {
        "colab": {
          "base_uri": "https://localhost:8080/"
        },
        "id": "z4PJCl3dNjys",
        "outputId": "db562efc-6294-4388-e09b-ef457e071c43"
      },
      "execution_count": 112,
      "outputs": [
        {
          "output_type": "stream",
          "name": "stdout",
          "text": [
            "thal\n",
            "-9    210\n",
            "3     157\n",
            "6      36\n",
            "7     160\n",
            "?     168\n",
            "Name: count, dtype: int64\n"
          ]
        }
      ]
    },
    {
      "cell_type": "markdown",
      "source": [
        "Aquí, de manera similar a la varible ca estudiada previamente, al existir multitud de registros desconocidos y no sacar una tendencia clara, decidimos otorgar a los desconocidos un thal normal, de cara a alterar el algoritmo lo menos posible."
      ],
      "metadata": {
        "id": "kloxTrAqNsGx"
      }
    },
    {
      "cell_type": "code",
      "source": [
        "# Reemplazar los valores '?' por '3' en la columna 'thal'\n",
        "df['thal'].replace('?', '3', inplace=True)\n",
        "\n",
        "# Reemplazar los valores '-9' por '3' en la columna 'thal'\n",
        "df['thal'].replace('-9', '3', inplace=True)\n",
        "\n",
        "# Mostrar la distribución actualizada de valores de la variable 'thal'\n",
        "distribucion_thal = df['thal'].value_counts().sort_index()\n",
        "print(distribucion_thal)\n"
      ],
      "metadata": {
        "colab": {
          "base_uri": "https://localhost:8080/"
        },
        "id": "QHJOR2CrN9zT",
        "outputId": "6fb08714-3229-40d5-805b-bf48215ff28d"
      },
      "execution_count": 113,
      "outputs": [
        {
          "output_type": "stream",
          "name": "stdout",
          "text": [
            "thal\n",
            "3    535\n",
            "6     36\n",
            "7    160\n",
            "Name: count, dtype: int64\n"
          ]
        }
      ]
    },
    {
      "cell_type": "markdown",
      "source": [
        "Con esto daríamos por finalizada la primera limpieza del dataset de entrenamiento, por lo que podemos proceder a descargarlo."
      ],
      "metadata": {
        "id": "BMVbQddUOMPP"
      }
    },
    {
      "cell_type": "code",
      "source": [
        "df.info()"
      ],
      "metadata": {
        "colab": {
          "base_uri": "https://localhost:8080/"
        },
        "id": "5MFO55ozQIJU",
        "outputId": "318ee408-0b11-4996-8311-80c3f60fdbdd"
      },
      "execution_count": 115,
      "outputs": [
        {
          "output_type": "stream",
          "name": "stdout",
          "text": [
            "<class 'pandas.core.frame.DataFrame'>\n",
            "Index: 731 entries, 0 to 731\n",
            "Data columns (total 14 columns):\n",
            " #   Column    Non-Null Count  Dtype  \n",
            "---  ------    --------------  -----  \n",
            " 0   age       731 non-null    int64  \n",
            " 1   sex       731 non-null    int64  \n",
            " 2   cp        731 non-null    int64  \n",
            " 3   trestbps  731 non-null    int64  \n",
            " 4   chol      726 non-null    Int64  \n",
            " 5   fbs       731 non-null    int64  \n",
            " 6   restecg   731 non-null    int64  \n",
            " 7   thalach   731 non-null    object \n",
            " 8   exang     731 non-null    int64  \n",
            " 9   oldpeak   682 non-null    float64\n",
            " 10  slope     731 non-null    int64  \n",
            " 11  ca        731 non-null    object \n",
            " 12  thal      731 non-null    object \n",
            " 13  label     731 non-null    int64  \n",
            "dtypes: Int64(1), float64(1), int64(9), object(3)\n",
            "memory usage: 86.4+ KB\n"
          ]
        }
      ]
    },
    {
      "cell_type": "code",
      "source": [
        "# Guardar el DataFrame modificado como un nuevo archivo CSV\n",
        "df.to_csv('train_cleaned.csv', index=False)"
      ],
      "metadata": {
        "id": "fysL8rdPOVpU"
      },
      "execution_count": 114,
      "outputs": []
    }
  ]
}